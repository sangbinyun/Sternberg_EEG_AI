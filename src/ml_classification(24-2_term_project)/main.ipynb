{
 "cells": [
  {
   "cell_type": "code",
   "execution_count": 1,
   "metadata": {},
   "outputs": [],
   "source": [
    "import glob\n",
    "import mne\n",
    "import matplotlib.pyplot as plt\n",
    "import pandas as pd\n",
    "import numpy as np\n",
    "import os.path as op\n",
    "import os\n",
    "from autoreject import Ransac  # noqa\n",
    "from autoreject.utils import interpolate_bads  # noqa\n",
    "import autoreject\n",
    "import re\n",
    "import pickle\n",
    "import jax.numpy as jnp\n",
    "from jax.scipy import signal\n",
    "import scipy"
   ]
  },
  {
   "attachments": {},
   "cell_type": "markdown",
   "metadata": {},
   "source": [
    "## Preprocessing"
   ]
  },
  {
   "cell_type": "code",
   "execution_count": 5,
   "metadata": {},
   "outputs": [],
   "source": [
    "# Path / Loading data\n",
    "def load_path(extension):\n",
    "    DataPath = 'C:/Users/beene/python/ds004117/'\n",
    "    dataset_list = glob.glob(DataPath + '/*/*/*/*'+ extension)\n",
    "    #dataset_list.sort()\n",
    "    return  dataset_list\n",
    "\n",
    "def load_dat(sub):\n",
    "    d_list = load_path('.set')\n",
    "    raw = mne.io.read_raw_eeglab(d_list[sub], preload = True)\n",
    "    return raw\n",
    "\n",
    "# Data preparation\n",
    "def set_chan(raw):\n",
    "    easycap_montage = mne.channels.make_standard_montage(\"easycap-M1\")\n",
    "    rawidx = np.array(raw.ch_names)[np.argwhere([re.search('Z', i) for i in raw.ch_names]).reshape(-1)]\n",
    "    montageidx = np.array(easycap_montage.ch_names)[np.argwhere([re.search('z', i) for i in easycap_montage.ch_names]).reshape(-1)][:-1]\n",
    "    raw.rename_channels(mapping = {rawidx[i]:montageidx[i] for i in range(len(rawidx))});\n",
    "    rawidx2 = np.array(raw.ch_names)[np.argwhere([re.search('FP', i) for i in raw.ch_names]).reshape(-1)]\n",
    "    montageidx2 = np.array(easycap_montage.ch_names)[np.argwhere([re.search('Fp', i) for i in easycap_montage.ch_names]).reshape(-1)][:-1]\n",
    "    raw.rename_channels(mapping = {rawidx2[i]:montageidx2[i] for i in range(len(rawidx2))});\n",
    "    raw.set_montage(easycap_montage);\n",
    "    raw.set_channel_types({'LEYE': 'eog',\n",
    "                           'REYE': 'eog'}); \n",
    "\n",
    "# Preprocessing\n",
    "def filter_bandpass(raw, highpass, lowpass):\n",
    "    raw.notch_filter(freqs = np.arange(60, 121, 60),\n",
    "                     method = 'spectrum_fit', verbose = 0)\n",
    "    raw.filter(l_freq = highpass, h_freq = lowpass, verbose = 0)\n",
    "\n",
    "def data_prep(sub, savepath): # For saving filtered raw data\n",
    "    raw = load_dat(sub)\n",
    "    set_chan(raw)\n",
    "    filter_bandpass(raw, 0.5, None)\n",
    "    raw.save(os.path.join(savepath, f'Raw/sub_{sub}.fif'), overwrite= True)\n",
    "\n",
    "# Segmentation with artifact rejection, interpolation\n",
    "def segmentation(raw):\n",
    "    if raw.info['sfreq'] >= 500:\n",
    "        raw = raw.resample(250, npad = 'auto')\n",
    "    events, _ = mne.events_from_annotations(raw)\n",
    "    stim_events = mne.pick_events(events, include = [4])\n",
    "    epochs = mne.Epochs(raw, stim_events, tmin=0, tmax = 1.996,\n",
    "                         baseline = None, reject = None, preload=True);\n",
    "    return epochs\n",
    "\n",
    "def ransac(epochs, ar):\n",
    "    picks = mne.pick_types(epochs.info, meg=False, eeg=True,\n",
    "                            stim=False, eog=False, include=[], exclude=[])\n",
    "    ransac = Ransac(verbose=False, picks=picks, n_jobs=-1)\n",
    "    epoch_clean = ransac.fit_transform(epochs)\n",
    "\n",
    "    _, reject_log = ar.fit_transform(epoch_clean, return_log=True)  \n",
    "    return epoch_clean, reject_log\n",
    "\n",
    "def ica(epochs, log):\n",
    "    ica = mne.preprocessing.ICA(random_state=42, vebose = False)\n",
    "    ica.fit(epochs[~log.bad_epochs])\n",
    "    eog_components, _ = ica.find_bads_eog(epochs)\n",
    "    ica.exclude = eog_components\n",
    "    ica.apply(epochs, exclude=ica.exclude)\n",
    "    \n",
    "def aj(epochs, ar):\n",
    "    epochs_ar, log = ar.fit_transform(epochs, return_log=True)\n",
    "    epochs_ar.drop_channels(['LEYE', 'REYE'])\n",
    "    epochs_data = epochs_ar.get_data()\n",
    "    return epochs_data, log\n",
    "\n",
    "def prep_epochs(raw):\n",
    "    epochs = segmentation(raw)\n",
    "    ar = autoreject.AutoReject(n_interpolate=None, random_state=42,\n",
    "                                n_jobs=-1, verbose=False)\n",
    "    tm1, tm2 = ransac(epochs, ar)\n",
    "    epochs_clean = ica(tm1, tm2);\n",
    "    epochs_dat, log = aj(epochs_clean, ar);\n",
    "    idx = log.bad_epochs\n",
    "    return epochs_dat, idx\n",
    "    \n",
    "def separate_idx(sub, idx):\n",
    "    data = pd.read_csv(load_path('events.tsv')[sub], delimiter='\\t', keep_default_na=False)\n",
    "    related_idx = np.array(data.value == 'WM')\n",
    "    correct_idx = np.array([data.task_role[i] in ('remembered_correct', 'ignored_correct') for i in range(len(data.task_role))][2:]+[False, False])\n",
    "    related = np.array(data[related_idx]['memory_cond'])\n",
    "    correct = correct_idx[np.argwhere(related_idx)].reshape(-1)\n",
    "    if len(idx) < 23 and len(correct) != len(idx):\n",
    "        print('Index Matching Error!')\n",
    "        return 0\n",
    "    related[~correct] = 0\n",
    "    print(f'Correct: {np.sum(correct)}')\n",
    "    return related[~idx]\n",
    "\n",
    "def separate_epochs(sub, dat, idx, path):\n",
    "    pickle.dump(dat[idx==3], open(path+'m3/'+f'sub_{sub}.pkl' ,'wb'))\n",
    "    pickle.dump(dat[idx==5], open(path+'m5/'+f'sub_{sub}.pkl' ,'wb'))\n",
    "    pickle.dump(dat[idx==7], open(path+'m7/'+f'sub_{sub}.pkl' ,'wb'))\n",
    "\n",
    "def separate_csd(sub, dat, idx, path):\n",
    "    pickle.dump(dat[idx==3], open(path+'m3_csd/'+f'sub_{sub}.pkl' ,'wb'))\n",
    "    pickle.dump(dat[idx==5], open(path+'m5_csd/'+f'sub_{sub}.pkl' ,'wb'))\n",
    "    pickle.dump(dat[idx==7], open(path+'m7_csd/'+f'sub_{sub}.pkl' ,'wb'))"
   ]
  },
  {
   "cell_type": "code",
   "execution_count": 3,
   "metadata": {},
   "outputs": [],
   "source": [
    "SavePath = 'C:/Users/beene/python/ml_term_export/'\n",
    "DocPath = 'C:/Users/beene/OneDrive - 고려대학교/문서/Python/Machine learning term project'"
   ]
  },
  {
   "cell_type": "code",
   "execution_count": null,
   "metadata": {},
   "outputs": [],
   "source": [
    "# Save Raw export into .fif extension\n",
    "for sub_i in range(len(load_path('.set'))):\n",
    "    data_prep(sub_i, SavePath)\n",
    "\n",
    "# raw.plot_psd(area_mode='range', tmax=10.0, show=False, average=True)"
   ]
  },
  {
   "cell_type": "code",
   "execution_count": null,
   "metadata": {},
   "outputs": [],
   "source": [
    "# Segmentation with PREP pipeline & Ocular ICA\n",
    "# Not really works in the function\n",
    "datlist = sorted(glob.glob(SavePath+'Raw/*.fif'), key=os.path.getctime)\n",
    "#excluded = []\n",
    "for sub_i in range(49, len(datlist)):\n",
    "    raw = mne.io.read_raw_fif(datlist[sub_i]);\n",
    "    epochs_dat, eidx = prep_epochs(raw)\n",
    "    sidx = separate_idx(sub_i, eidx)\n",
    "    if type(sidx) == int:\n",
    "        excluded.append(sub_i)\n",
    "        continue\n",
    "    separate_epochs(sub_i, epochs_dat, sidx, SavePath)"
   ]
  },
  {
   "cell_type": "code",
   "execution_count": 19,
   "metadata": {},
   "outputs": [],
   "source": [
    "load_path('events.tsv')"
   ]
  },
  {
   "cell_type": "code",
   "execution_count": 6,
   "metadata": {},
   "outputs": [
    {
     "name": "stdout",
     "output_type": "stream",
     "text": [
      "----------0 is running...----------\n",
      "Opening raw data file C:/Users/beene/python/ml_term_export/Raw\\sub_0.fif...\n",
      "    Range : 0 ... 163237 =      0.000 ...   652.948 secs\n",
      "Ready.\n",
      "Used Annotations descriptions: ['left_click', 'right_click', 'show_cross', 'show_dash', 'show_letter', 'sound_beep', 'sound_buzz']\n",
      "Not setting metadata\n",
      "25 matching events found\n",
      "No baseline correction applied\n",
      "0 projection items activated\n",
      "Loading data for 25 events and 750 original time points ...\n"
     ]
    },
    {
     "name": "stderr",
     "output_type": "stream",
     "text": [
      "C:\\Users\\beene\\AppData\\Local\\Temp\\ipykernel_8312\\2322995967.py:6: RuntimeWarning: This filename (C:/Users/beene/python/ml_term_export/Raw\\sub_0.fif) does not conform to MNE naming conventions. All raw files should end with raw.fif, raw_sss.fif, raw_tsss.fif, _meg.fif, _eeg.fif, _ieeg.fif, raw.fif.gz, raw_sss.fif.gz, raw_tsss.fif.gz, _meg.fif.gz, _eeg.fif.gz or _ieeg.fif.gz\n",
      "  raw = mne.io.read_raw_fif(datlist[sub_i]);\n"
     ]
    },
    {
     "name": "stdout",
     "output_type": "stream",
     "text": [
      "0 bad epochs dropped\n",
      "Setting channel interpolation method to {'eeg': 'spline'}.\n",
      "Interpolating bad channels.\n",
      "    Automatic origin fit: head of radius 95.0 mm\n",
      "Computing interpolation matrix from 66 sensor positions\n",
      "Interpolating 3 sensors\n",
      "Fitting ICA to data using 69 channels (please be patient, this may take a while)\n",
      "Selecting by non-zero PCA components: 66 components\n",
      "Fitting ICA took 5.5s.\n",
      "Using EOG channels: LEYE, REYE\n",
      "Applying ICA to Epochs instance\n",
      "    Transforming to ICA space (66 components)\n",
      "    Zeroing out 2 ICA components\n",
      "    Projecting back using 69 PCA components\n",
      "Correct: 24\n",
      "----------1 is running...----------\n",
      "Opening raw data file C:/Users/beene/python/ml_term_export/Raw\\sub_1.fif...\n"
     ]
    },
    {
     "name": "stderr",
     "output_type": "stream",
     "text": [
      "C:\\Users\\beene\\AppData\\Local\\Temp\\ipykernel_8312\\2322995967.py:25: FutureWarning: The current default of copy=False will change to copy=True in 1.7. Set the value of copy explicitly to avoid this warning\n",
      "  epochs_data = epochs_ar.get_data()\n",
      "C:\\Users\\beene\\AppData\\Local\\Temp\\ipykernel_8312\\2322995967.py:6: RuntimeWarning: This filename (C:/Users/beene/python/ml_term_export/Raw\\sub_1.fif) does not conform to MNE naming conventions. All raw files should end with raw.fif, raw_sss.fif, raw_tsss.fif, _meg.fif, _eeg.fif, _ieeg.fif, raw.fif.gz, raw_sss.fif.gz, raw_tsss.fif.gz, _meg.fif.gz, _eeg.fif.gz or _ieeg.fif.gz\n",
      "  raw = mne.io.read_raw_fif(datlist[sub_i]);\n"
     ]
    },
    {
     "name": "stdout",
     "output_type": "stream",
     "text": [
      "    Range : 0 ... 153761 =      0.000 ...   615.044 secs\n",
      "Ready.\n",
      "Used Annotations descriptions: ['left_click', 'right_click', 'show_cross', 'show_dash', 'show_letter', 'sound_beep', 'sound_buzz']\n",
      "Not setting metadata\n",
      "25 matching events found\n",
      "No baseline correction applied\n",
      "0 projection items activated\n",
      "Loading data for 25 events and 750 original time points ...\n",
      "0 bad epochs dropped\n",
      "Setting channel interpolation method to {'eeg': 'spline'}.\n",
      "Interpolating bad channels.\n",
      "    Automatic origin fit: head of radius 95.0 mm\n",
      "Computing interpolation matrix from 67 sensor positions\n",
      "Interpolating 2 sensors\n",
      "Dropped 1 epoch: 20\n",
      "Fitting ICA to data using 69 channels (please be patient, this may take a while)\n",
      "Selecting by non-zero PCA components: 67 components\n",
      "Fitting ICA took 3.0s.\n",
      "Using EOG channels: LEYE, REYE\n",
      "Applying ICA to Epochs instance\n",
      "    Transforming to ICA space (67 components)\n",
      "    Zeroing out 3 ICA components\n",
      "    Projecting back using 69 PCA components\n",
      "Dropped 1 epoch: 20\n",
      "Correct: 23\n",
      "----------2 is running...----------\n",
      "Opening raw data file C:/Users/beene/python/ml_term_export/Raw\\sub_2.fif...\n",
      "    Range : 0 ... 154255 =      0.000 ...   617.020 secs\n",
      "Ready.\n",
      "Used Annotations descriptions: ['left_click', 'right_click', 'show_cross', 'show_dash', 'show_letter', 'sound_beep', 'sound_buzz']\n",
      "Not setting metadata\n",
      "25 matching events found\n",
      "No baseline correction applied\n",
      "0 projection items activated\n",
      "Loading data for 25 events and 750 original time points ...\n"
     ]
    },
    {
     "name": "stderr",
     "output_type": "stream",
     "text": [
      "C:\\Users\\beene\\AppData\\Local\\Temp\\ipykernel_8312\\2322995967.py:25: FutureWarning: The current default of copy=False will change to copy=True in 1.7. Set the value of copy explicitly to avoid this warning\n",
      "  epochs_data = epochs_ar.get_data()\n",
      "C:\\Users\\beene\\AppData\\Local\\Temp\\ipykernel_8312\\2322995967.py:6: RuntimeWarning: This filename (C:/Users/beene/python/ml_term_export/Raw\\sub_2.fif) does not conform to MNE naming conventions. All raw files should end with raw.fif, raw_sss.fif, raw_tsss.fif, _meg.fif, _eeg.fif, _ieeg.fif, raw.fif.gz, raw_sss.fif.gz, raw_tsss.fif.gz, _meg.fif.gz, _eeg.fif.gz or _ieeg.fif.gz\n",
      "  raw = mne.io.read_raw_fif(datlist[sub_i]);\n"
     ]
    },
    {
     "name": "stdout",
     "output_type": "stream",
     "text": [
      "0 bad epochs dropped\n",
      "Setting channel interpolation method to {'eeg': 'spline'}.\n",
      "Interpolating bad channels.\n",
      "    Automatic origin fit: head of radius 95.0 mm\n",
      "Computing interpolation matrix from 67 sensor positions\n",
      "Interpolating 2 sensors\n",
      "Fitting ICA to data using 69 channels (please be patient, this may take a while)\n",
      "Selecting by non-zero PCA components: 67 components\n",
      "Fitting ICA took 4.1s.\n",
      "Using EOG channels: LEYE, REYE\n",
      "Applying ICA to Epochs instance\n",
      "    Transforming to ICA space (67 components)\n",
      "    Zeroing out 3 ICA components\n",
      "    Projecting back using 69 PCA components\n",
      "Correct: 23\n",
      "----------3 is running...----------\n",
      "Opening raw data file C:/Users/beene/python/ml_term_export/Raw\\sub_3.fif...\n",
      "    Range : 0 ... 145820 =      0.000 ...   583.280 secs\n",
      "Ready.\n",
      "Used Annotations descriptions: ['left_click', 'right_click', 'show_cross', 'show_dash', 'show_letter', 'sound_beep', 'sound_buzz']\n",
      "Not setting metadata\n",
      "25 matching events found\n",
      "No baseline correction applied\n"
     ]
    },
    {
     "name": "stderr",
     "output_type": "stream",
     "text": [
      "C:\\Users\\beene\\AppData\\Local\\Temp\\ipykernel_8312\\2322995967.py:25: FutureWarning: The current default of copy=False will change to copy=True in 1.7. Set the value of copy explicitly to avoid this warning\n",
      "  epochs_data = epochs_ar.get_data()\n",
      "C:\\Users\\beene\\AppData\\Local\\Temp\\ipykernel_8312\\2322995967.py:6: RuntimeWarning: This filename (C:/Users/beene/python/ml_term_export/Raw\\sub_3.fif) does not conform to MNE naming conventions. All raw files should end with raw.fif, raw_sss.fif, raw_tsss.fif, _meg.fif, _eeg.fif, _ieeg.fif, raw.fif.gz, raw_sss.fif.gz, raw_tsss.fif.gz, _meg.fif.gz, _eeg.fif.gz or _ieeg.fif.gz\n",
      "  raw = mne.io.read_raw_fif(datlist[sub_i]);\n"
     ]
    },
    {
     "name": "stdout",
     "output_type": "stream",
     "text": [
      "0 projection items activated\n",
      "Loading data for 25 events and 750 original time points ...\n",
      "0 bad epochs dropped\n",
      "Setting channel interpolation method to {'eeg': 'spline'}.\n",
      "Interpolating bad channels.\n",
      "    Automatic origin fit: head of radius 95.0 mm\n",
      "Computing interpolation matrix from 67 sensor positions\n",
      "Interpolating 2 sensors\n",
      "Fitting ICA to data using 69 channels (please be patient, this may take a while)\n",
      "Selecting by non-zero PCA components: 67 components\n",
      "Fitting ICA took 6.2s.\n",
      "Using EOG channels: LEYE, REYE\n",
      "Applying ICA to Epochs instance\n",
      "    Transforming to ICA space (67 components)\n",
      "    Zeroing out 3 ICA components\n",
      "    Projecting back using 69 PCA components\n",
      "Correct: 24\n",
      "----------4 is running...----------\n",
      "Opening raw data file C:/Users/beene/python/ml_term_export/Raw\\sub_4.fif...\n",
      "    Range : 0 ... 181120 =      0.000 ...   724.480 secs\n",
      "Ready.\n",
      "Used Annotations descriptions: ['left_click', 'right_click', 'show_cross', 'show_dash', 'show_letter', 'sound_beep']\n"
     ]
    },
    {
     "name": "stderr",
     "output_type": "stream",
     "text": [
      "C:\\Users\\beene\\AppData\\Local\\Temp\\ipykernel_8312\\2322995967.py:25: FutureWarning: The current default of copy=False will change to copy=True in 1.7. Set the value of copy explicitly to avoid this warning\n",
      "  epochs_data = epochs_ar.get_data()\n",
      "C:\\Users\\beene\\AppData\\Local\\Temp\\ipykernel_8312\\2322995967.py:6: RuntimeWarning: This filename (C:/Users/beene/python/ml_term_export/Raw\\sub_4.fif) does not conform to MNE naming conventions. All raw files should end with raw.fif, raw_sss.fif, raw_tsss.fif, _meg.fif, _eeg.fif, _ieeg.fif, raw.fif.gz, raw_sss.fif.gz, raw_tsss.fif.gz, _meg.fif.gz, _eeg.fif.gz or _ieeg.fif.gz\n",
      "  raw = mne.io.read_raw_fif(datlist[sub_i]);\n"
     ]
    },
    {
     "name": "stdout",
     "output_type": "stream",
     "text": [
      "Not setting metadata\n",
      "25 matching events found\n",
      "No baseline correction applied\n",
      "0 projection items activated\n",
      "Loading data for 25 events and 750 original time points ...\n",
      "0 bad epochs dropped\n",
      "Setting channel interpolation method to {'eeg': 'spline'}.\n",
      "Interpolating bad channels.\n",
      "    Automatic origin fit: head of radius 95.0 mm\n",
      "Computing interpolation matrix from 65 sensor positions\n",
      "Interpolating 4 sensors\n",
      "Dropped 2 epochs: 3, 5\n",
      "Fitting ICA to data using 69 channels (please be patient, this may take a while)\n",
      "Selecting by non-zero PCA components: 65 components\n",
      "Fitting ICA took 26.4s.\n",
      "Using EOG channels: LEYE, REYE\n"
     ]
    },
    {
     "name": "stderr",
     "output_type": "stream",
     "text": [
      "c:\\Users\\beene\\anaconda3\\envs\\torch\\lib\\site-packages\\sklearn\\decomposition\\_fastica.py:128: ConvergenceWarning: FastICA did not converge. Consider increasing tolerance or the maximum number of iterations.\n",
      "  warnings.warn(\n"
     ]
    },
    {
     "name": "stdout",
     "output_type": "stream",
     "text": [
      "Applying ICA to Epochs instance\n",
      "    Transforming to ICA space (65 components)\n",
      "    Zeroing out 4 ICA components\n",
      "    Projecting back using 69 PCA components\n",
      "Correct: 25\n",
      "----------5 is running...----------\n",
      "Opening raw data file C:/Users/beene/python/ml_term_export/Raw\\sub_5.fif...\n",
      "    Range : 0 ... 190744 =      0.000 ...   762.976 secs\n",
      "Ready.\n",
      "Used Annotations descriptions: ['left_click', 'right_click', 'show_cross', 'show_dash', 'show_letter', 'sound_beep']\n",
      "Not setting metadata\n",
      "25 matching events found\n",
      "No baseline correction applied\n",
      "0 projection items activated\n",
      "Loading data for 25 events and 750 original time points ...\n"
     ]
    },
    {
     "name": "stderr",
     "output_type": "stream",
     "text": [
      "C:\\Users\\beene\\AppData\\Local\\Temp\\ipykernel_8312\\2322995967.py:25: FutureWarning: The current default of copy=False will change to copy=True in 1.7. Set the value of copy explicitly to avoid this warning\n",
      "  epochs_data = epochs_ar.get_data()\n",
      "C:\\Users\\beene\\AppData\\Local\\Temp\\ipykernel_8312\\2322995967.py:6: RuntimeWarning: This filename (C:/Users/beene/python/ml_term_export/Raw\\sub_5.fif) does not conform to MNE naming conventions. All raw files should end with raw.fif, raw_sss.fif, raw_tsss.fif, _meg.fif, _eeg.fif, _ieeg.fif, raw.fif.gz, raw_sss.fif.gz, raw_tsss.fif.gz, _meg.fif.gz, _eeg.fif.gz or _ieeg.fif.gz\n",
      "  raw = mne.io.read_raw_fif(datlist[sub_i]);\n"
     ]
    },
    {
     "name": "stdout",
     "output_type": "stream",
     "text": [
      "0 bad epochs dropped\n",
      "Setting channel interpolation method to {'eeg': 'spline'}.\n",
      "Interpolating bad channels.\n",
      "    Automatic origin fit: head of radius 95.0 mm\n",
      "Computing interpolation matrix from 65 sensor positions\n",
      "Interpolating 4 sensors\n",
      "Fitting ICA to data using 69 channels (please be patient, this may take a while)\n",
      "Selecting by non-zero PCA components: 65 components\n",
      "Fitting ICA took 8.6s.\n",
      "Using EOG channels: LEYE, REYE\n",
      "Applying ICA to Epochs instance\n",
      "    Transforming to ICA space (65 components)\n",
      "    Zeroing out 3 ICA components\n",
      "    Projecting back using 69 PCA components\n",
      "Correct: 25\n",
      "----------6 is running...----------\n",
      "Opening raw data file C:/Users/beene/python/ml_term_export/Raw\\sub_6.fif...\n",
      "    Range : 0 ... 191225 =      0.000 ...   764.900 secs\n",
      "Ready.\n",
      "Used Annotations descriptions: ['left_click', 'right_click', 'show_cross', 'show_dash', 'show_letter', 'sound_beep']\n"
     ]
    },
    {
     "name": "stderr",
     "output_type": "stream",
     "text": [
      "C:\\Users\\beene\\AppData\\Local\\Temp\\ipykernel_8312\\2322995967.py:25: FutureWarning: The current default of copy=False will change to copy=True in 1.7. Set the value of copy explicitly to avoid this warning\n",
      "  epochs_data = epochs_ar.get_data()\n",
      "C:\\Users\\beene\\AppData\\Local\\Temp\\ipykernel_8312\\2322995967.py:6: RuntimeWarning: This filename (C:/Users/beene/python/ml_term_export/Raw\\sub_6.fif) does not conform to MNE naming conventions. All raw files should end with raw.fif, raw_sss.fif, raw_tsss.fif, _meg.fif, _eeg.fif, _ieeg.fif, raw.fif.gz, raw_sss.fif.gz, raw_tsss.fif.gz, _meg.fif.gz, _eeg.fif.gz or _ieeg.fif.gz\n",
      "  raw = mne.io.read_raw_fif(datlist[sub_i]);\n"
     ]
    },
    {
     "name": "stdout",
     "output_type": "stream",
     "text": [
      "Not setting metadata\n",
      "25 matching events found\n",
      "No baseline correction applied\n",
      "0 projection items activated\n",
      "Loading data for 25 events and 750 original time points ...\n",
      "0 bad epochs dropped\n",
      "Setting channel interpolation method to {'eeg': 'spline'}.\n",
      "Interpolating bad channels.\n",
      "    Automatic origin fit: head of radius 95.0 mm\n",
      "Computing interpolation matrix from 64 sensor positions\n",
      "Interpolating 5 sensors\n",
      "Dropped 5 epochs: 0, 11, 12, 13, 15\n",
      "Fitting ICA to data using 69 channels (please be patient, this may take a while)\n",
      "Selecting by non-zero PCA components: 64 components\n",
      "Fitting ICA took 22.2s.\n",
      "Using EOG channels: LEYE, REYE\n"
     ]
    },
    {
     "name": "stderr",
     "output_type": "stream",
     "text": [
      "c:\\Users\\beene\\anaconda3\\envs\\torch\\lib\\site-packages\\sklearn\\decomposition\\_fastica.py:128: ConvergenceWarning: FastICA did not converge. Consider increasing tolerance or the maximum number of iterations.\n",
      "  warnings.warn(\n"
     ]
    },
    {
     "name": "stdout",
     "output_type": "stream",
     "text": [
      "Applying ICA to Epochs instance\n",
      "    Transforming to ICA space (64 components)\n",
      "    Zeroing out 4 ICA components\n",
      "    Projecting back using 69 PCA components\n",
      "Correct: 25\n",
      "----------7 is running...----------\n",
      "Opening raw data file C:/Users/beene/python/ml_term_export/Raw\\sub_7.fif...\n",
      "    Range : 0 ... 181353 =      0.000 ...   725.412 secs\n"
     ]
    },
    {
     "name": "stderr",
     "output_type": "stream",
     "text": [
      "C:\\Users\\beene\\AppData\\Local\\Temp\\ipykernel_8312\\2322995967.py:25: FutureWarning: The current default of copy=False will change to copy=True in 1.7. Set the value of copy explicitly to avoid this warning\n",
      "  epochs_data = epochs_ar.get_data()\n",
      "C:\\Users\\beene\\AppData\\Local\\Temp\\ipykernel_8312\\2322995967.py:6: RuntimeWarning: This filename (C:/Users/beene/python/ml_term_export/Raw\\sub_7.fif) does not conform to MNE naming conventions. All raw files should end with raw.fif, raw_sss.fif, raw_tsss.fif, _meg.fif, _eeg.fif, _ieeg.fif, raw.fif.gz, raw_sss.fif.gz, raw_tsss.fif.gz, _meg.fif.gz, _eeg.fif.gz or _ieeg.fif.gz\n",
      "  raw = mne.io.read_raw_fif(datlist[sub_i]);\n"
     ]
    },
    {
     "name": "stdout",
     "output_type": "stream",
     "text": [
      "Ready.\n",
      "Used Annotations descriptions: ['left_click', 'right_click', 'show_cross', 'show_dash', 'show_letter', 'sound_beep']\n",
      "Not setting metadata\n",
      "25 matching events found\n",
      "No baseline correction applied\n",
      "0 projection items activated\n",
      "Loading data for 25 events and 750 original time points ...\n",
      "0 bad epochs dropped\n",
      "Setting channel interpolation method to {'eeg': 'spline'}.\n",
      "Interpolating bad channels.\n",
      "    Automatic origin fit: head of radius 95.0 mm\n",
      "Computing interpolation matrix from 66 sensor positions\n",
      "Interpolating 3 sensors\n",
      "Dropped 4 epochs: 1, 8, 11, 18\n",
      "Fitting ICA to data using 69 channels (please be patient, this may take a while)\n",
      "Selecting by non-zero PCA components: 66 components\n",
      "Fitting ICA took 11.4s.\n",
      "Using EOG channels: LEYE, REYE\n",
      "Applying ICA to Epochs instance\n",
      "    Transforming to ICA space (66 components)\n",
      "    Zeroing out 3 ICA components\n",
      "    Projecting back using 69 PCA components\n",
      "Correct: 25\n",
      "----------8 is running...----------\n",
      "Opening raw data file C:/Users/beene/python/ml_term_export/Raw\\sub_8.fif...\n",
      "    Range : 0 ... 181790 =      0.000 ...   727.160 secs\n",
      "Ready.\n",
      "Used Annotations descriptions: ['left_click', 'right_click', 'show_cross', 'show_dash', 'show_letter', 'sound_beep']\n",
      "Not setting metadata\n",
      "25 matching events found\n",
      "No baseline correction applied\n",
      "0 projection items activated\n",
      "Loading data for 25 events and 750 original time points ...\n"
     ]
    },
    {
     "name": "stderr",
     "output_type": "stream",
     "text": [
      "C:\\Users\\beene\\AppData\\Local\\Temp\\ipykernel_8312\\2322995967.py:25: FutureWarning: The current default of copy=False will change to copy=True in 1.7. Set the value of copy explicitly to avoid this warning\n",
      "  epochs_data = epochs_ar.get_data()\n",
      "C:\\Users\\beene\\AppData\\Local\\Temp\\ipykernel_8312\\2322995967.py:6: RuntimeWarning: This filename (C:/Users/beene/python/ml_term_export/Raw\\sub_8.fif) does not conform to MNE naming conventions. All raw files should end with raw.fif, raw_sss.fif, raw_tsss.fif, _meg.fif, _eeg.fif, _ieeg.fif, raw.fif.gz, raw_sss.fif.gz, raw_tsss.fif.gz, _meg.fif.gz, _eeg.fif.gz or _ieeg.fif.gz\n",
      "  raw = mne.io.read_raw_fif(datlist[sub_i]);\n"
     ]
    },
    {
     "name": "stdout",
     "output_type": "stream",
     "text": [
      "0 bad epochs dropped\n",
      "Setting channel interpolation method to {'eeg': 'spline'}.\n",
      "Interpolating bad channels.\n",
      "    Automatic origin fit: head of radius 95.0 mm\n",
      "Computing interpolation matrix from 65 sensor positions\n",
      "Interpolating 4 sensors\n",
      "Dropped 1 epoch: 20\n",
      "Fitting ICA to data using 69 channels (please be patient, this may take a while)\n",
      "Selecting by non-zero PCA components: 65 components\n",
      "Fitting ICA took 28.1s.\n",
      "Using EOG channels: LEYE, REYE\n"
     ]
    },
    {
     "name": "stderr",
     "output_type": "stream",
     "text": [
      "c:\\Users\\beene\\anaconda3\\envs\\torch\\lib\\site-packages\\sklearn\\decomposition\\_fastica.py:128: ConvergenceWarning: FastICA did not converge. Consider increasing tolerance or the maximum number of iterations.\n",
      "  warnings.warn(\n"
     ]
    },
    {
     "name": "stdout",
     "output_type": "stream",
     "text": [
      "Applying ICA to Epochs instance\n",
      "    Transforming to ICA space (65 components)\n",
      "    Zeroing out 2 ICA components\n",
      "    Projecting back using 69 PCA components\n",
      "Dropped 1 epoch: 20\n",
      "Correct: 25\n",
      "----------9 is running...----------\n",
      "Opening raw data file C:/Users/beene/python/ml_term_export/Raw\\sub_9.fif...\n"
     ]
    },
    {
     "name": "stderr",
     "output_type": "stream",
     "text": [
      "C:\\Users\\beene\\AppData\\Local\\Temp\\ipykernel_8312\\2322995967.py:25: FutureWarning: The current default of copy=False will change to copy=True in 1.7. Set the value of copy explicitly to avoid this warning\n",
      "  epochs_data = epochs_ar.get_data()\n",
      "C:\\Users\\beene\\AppData\\Local\\Temp\\ipykernel_8312\\2322995967.py:6: RuntimeWarning: This filename (C:/Users/beene/python/ml_term_export/Raw\\sub_9.fif) does not conform to MNE naming conventions. All raw files should end with raw.fif, raw_sss.fif, raw_tsss.fif, _meg.fif, _eeg.fif, _ieeg.fif, raw.fif.gz, raw_sss.fif.gz, raw_tsss.fif.gz, _meg.fif.gz, _eeg.fif.gz or _ieeg.fif.gz\n",
      "  raw = mne.io.read_raw_fif(datlist[sub_i]);\n"
     ]
    },
    {
     "name": "stdout",
     "output_type": "stream",
     "text": [
      "    Range : 0 ... 195998 =      0.000 ...   783.992 secs\n",
      "Ready.\n",
      "Used Annotations descriptions: ['left_click', 'right_click', 'show_cross', 'show_dash', 'show_letter', 'sound_beep']\n",
      "Not setting metadata\n",
      "25 matching events found\n",
      "No baseline correction applied\n",
      "0 projection items activated\n",
      "Loading data for 25 events and 750 original time points ...\n",
      "0 bad epochs dropped\n",
      "Setting channel interpolation method to {'eeg': 'spline'}.\n",
      "Interpolating bad channels.\n",
      "    Automatic origin fit: head of radius 95.0 mm\n",
      "Computing interpolation matrix from 64 sensor positions\n",
      "Interpolating 5 sensors\n",
      "Fitting ICA to data using 69 channels (please be patient, this may take a while)\n",
      "Selecting by non-zero PCA components: 64 components\n",
      "Fitting ICA took 16.5s.\n",
      "Using EOG channels: LEYE, REYE\n",
      "Applying ICA to Epochs instance\n",
      "    Transforming to ICA space (64 components)\n",
      "    Zeroing out 2 ICA components\n",
      "    Projecting back using 69 PCA components\n",
      "Correct: 25\n",
      "----------10 is running...----------\n",
      "Opening raw data file C:/Users/beene/python/ml_term_export/Raw\\sub_10.fif...\n",
      "    Range : 0 ... 196084 =      0.000 ...   784.336 secs\n",
      "Ready.\n",
      "Used Annotations descriptions: ['left_click', 'right_click', 'show_cross', 'show_dash', 'show_letter', 'sound_beep']\n"
     ]
    },
    {
     "name": "stderr",
     "output_type": "stream",
     "text": [
      "C:\\Users\\beene\\AppData\\Local\\Temp\\ipykernel_8312\\2322995967.py:25: FutureWarning: The current default of copy=False will change to copy=True in 1.7. Set the value of copy explicitly to avoid this warning\n",
      "  epochs_data = epochs_ar.get_data()\n",
      "C:\\Users\\beene\\AppData\\Local\\Temp\\ipykernel_8312\\2322995967.py:6: RuntimeWarning: This filename (C:/Users/beene/python/ml_term_export/Raw\\sub_10.fif) does not conform to MNE naming conventions. All raw files should end with raw.fif, raw_sss.fif, raw_tsss.fif, _meg.fif, _eeg.fif, _ieeg.fif, raw.fif.gz, raw_sss.fif.gz, raw_tsss.fif.gz, _meg.fif.gz, _eeg.fif.gz or _ieeg.fif.gz\n",
      "  raw = mne.io.read_raw_fif(datlist[sub_i]);\n"
     ]
    },
    {
     "name": "stdout",
     "output_type": "stream",
     "text": [
      "Not setting metadata\n",
      "25 matching events found\n",
      "No baseline correction applied\n",
      "0 projection items activated\n",
      "Loading data for 25 events and 750 original time points ...\n",
      "0 bad epochs dropped\n",
      "Setting channel interpolation method to {'eeg': 'spline'}.\n",
      "Interpolating bad channels.\n",
      "    Automatic origin fit: head of radius 95.0 mm\n",
      "Computing interpolation matrix from 65 sensor positions\n",
      "Interpolating 4 sensors\n",
      "Fitting ICA to data using 69 channels (please be patient, this may take a while)\n",
      "Selecting by non-zero PCA components: 65 components\n",
      "Fitting ICA took 3.2s.\n",
      "Using EOG channels: LEYE, REYE\n",
      "Applying ICA to Epochs instance\n",
      "    Transforming to ICA space (65 components)\n",
      "    Zeroing out 3 ICA components\n",
      "    Projecting back using 69 PCA components\n",
      "Correct: 25\n",
      "----------11 is running...----------\n",
      "Opening raw data file C:/Users/beene/python/ml_term_export/Raw\\sub_11.fif...\n",
      "    Range : 0 ... 168220 =      0.000 ...   672.880 secs\n",
      "Ready.\n",
      "Used Annotations descriptions: ['left_click', 'right_click', 'show_cross', 'show_dash', 'show_letter', 'sound_beep', 'sound_buzz']\n"
     ]
    },
    {
     "name": "stderr",
     "output_type": "stream",
     "text": [
      "C:\\Users\\beene\\AppData\\Local\\Temp\\ipykernel_8312\\2322995967.py:25: FutureWarning: The current default of copy=False will change to copy=True in 1.7. Set the value of copy explicitly to avoid this warning\n",
      "  epochs_data = epochs_ar.get_data()\n",
      "C:\\Users\\beene\\AppData\\Local\\Temp\\ipykernel_8312\\2322995967.py:6: RuntimeWarning: This filename (C:/Users/beene/python/ml_term_export/Raw\\sub_11.fif) does not conform to MNE naming conventions. All raw files should end with raw.fif, raw_sss.fif, raw_tsss.fif, _meg.fif, _eeg.fif, _ieeg.fif, raw.fif.gz, raw_sss.fif.gz, raw_tsss.fif.gz, _meg.fif.gz, _eeg.fif.gz or _ieeg.fif.gz\n",
      "  raw = mne.io.read_raw_fif(datlist[sub_i]);\n"
     ]
    },
    {
     "name": "stdout",
     "output_type": "stream",
     "text": [
      "Not setting metadata\n",
      "25 matching events found\n",
      "No baseline correction applied\n",
      "0 projection items activated\n",
      "Loading data for 25 events and 750 original time points ...\n",
      "0 bad epochs dropped\n",
      "Setting channel interpolation method to {'eeg': 'spline'}.\n",
      "Interpolating bad channels.\n",
      "    Automatic origin fit: head of radius 95.0 mm\n",
      "Computing interpolation matrix from 65 sensor positions\n",
      "Interpolating 4 sensors\n",
      "Fitting ICA to data using 69 channels (please be patient, this may take a while)\n",
      "Selecting by non-zero PCA components: 65 components\n",
      "Fitting ICA took 3.2s.\n",
      "Using EOG channels: LEYE, REYE\n",
      "Applying ICA to Epochs instance\n",
      "    Transforming to ICA space (65 components)\n",
      "    Zeroing out 2 ICA components\n",
      "    Projecting back using 69 PCA components\n",
      "Correct: 24\n",
      "----------12 is running...----------\n",
      "Opening raw data file C:/Users/beene/python/ml_term_export/Raw\\sub_12.fif...\n",
      "    Range : 0 ... 168262 =      0.000 ...   673.048 secs\n",
      "Ready.\n",
      "Used Annotations descriptions: ['left_click', 'right_click', 'show_cross', 'show_dash', 'show_letter', 'sound_beep', 'sound_buzz']\n",
      "Not setting metadata\n",
      "25 matching events found\n",
      "No baseline correction applied\n",
      "0 projection items activated\n",
      "Loading data for 25 events and 750 original time points ...\n"
     ]
    },
    {
     "name": "stderr",
     "output_type": "stream",
     "text": [
      "C:\\Users\\beene\\AppData\\Local\\Temp\\ipykernel_8312\\2322995967.py:25: FutureWarning: The current default of copy=False will change to copy=True in 1.7. Set the value of copy explicitly to avoid this warning\n",
      "  epochs_data = epochs_ar.get_data()\n",
      "C:\\Users\\beene\\AppData\\Local\\Temp\\ipykernel_8312\\2322995967.py:6: RuntimeWarning: This filename (C:/Users/beene/python/ml_term_export/Raw\\sub_12.fif) does not conform to MNE naming conventions. All raw files should end with raw.fif, raw_sss.fif, raw_tsss.fif, _meg.fif, _eeg.fif, _ieeg.fif, raw.fif.gz, raw_sss.fif.gz, raw_tsss.fif.gz, _meg.fif.gz, _eeg.fif.gz or _ieeg.fif.gz\n",
      "  raw = mne.io.read_raw_fif(datlist[sub_i]);\n"
     ]
    },
    {
     "name": "stdout",
     "output_type": "stream",
     "text": [
      "0 bad epochs dropped\n",
      "Setting channel interpolation method to {'eeg': 'spline'}.\n"
     ]
    },
    {
     "name": "stderr",
     "output_type": "stream",
     "text": [
      "c:\\Users\\beene\\anaconda3\\envs\\torch\\lib\\site-packages\\autoreject\\ransac.py:244: RuntimeWarning: No bad channels to interpolate. Doing nothing...\n",
      "  epochs.interpolate_bads(reset_bads=True)\n"
     ]
    },
    {
     "name": "stdout",
     "output_type": "stream",
     "text": [
      "Dropped 13 epochs: 3, 5, 6, 7, 8, 11, 12, 13, 17, 19, 20, 21, 24\n",
      "Fitting ICA to data using 69 channels (please be patient, this may take a while)\n",
      "Selecting by non-zero PCA components: 69 components\n",
      "Fitting ICA took 5.8s.\n",
      "Using EOG channels: LEYE, REYE\n",
      "Applying ICA to Epochs instance\n",
      "    Transforming to ICA space (69 components)\n",
      "    Zeroing out 0 ICA components\n",
      "    Projecting back using 69 PCA components\n",
      "Dropped 13 epochs: 3, 5, 6, 7, 8, 11, 12, 13, 17, 19, 20, 21, 24\n",
      "Correct: 24\n",
      "----------13 is running...----------\n",
      "Opening raw data file C:/Users/beene/python/ml_term_export/Raw\\sub_13.fif...\n",
      "    Range : 0 ... 184070 =      0.000 ...   736.280 secs\n",
      "Ready.\n",
      "Used Annotations descriptions: ['left_click', 'right_click', 'show_cross', 'show_dash', 'show_letter', 'sound_beep', 'sound_buzz']\n",
      "Not setting metadata\n",
      "24 matching events found\n"
     ]
    },
    {
     "name": "stderr",
     "output_type": "stream",
     "text": [
      "C:\\Users\\beene\\AppData\\Local\\Temp\\ipykernel_8312\\2322995967.py:25: FutureWarning: The current default of copy=False will change to copy=True in 1.7. Set the value of copy explicitly to avoid this warning\n",
      "  epochs_data = epochs_ar.get_data()\n",
      "C:\\Users\\beene\\AppData\\Local\\Temp\\ipykernel_8312\\2322995967.py:6: RuntimeWarning: This filename (C:/Users/beene/python/ml_term_export/Raw\\sub_13.fif) does not conform to MNE naming conventions. All raw files should end with raw.fif, raw_sss.fif, raw_tsss.fif, _meg.fif, _eeg.fif, _ieeg.fif, raw.fif.gz, raw_sss.fif.gz, raw_tsss.fif.gz, _meg.fif.gz, _eeg.fif.gz or _ieeg.fif.gz\n",
      "  raw = mne.io.read_raw_fif(datlist[sub_i]);\n"
     ]
    },
    {
     "name": "stdout",
     "output_type": "stream",
     "text": [
      "No baseline correction applied\n",
      "0 projection items activated\n",
      "Loading data for 24 events and 750 original time points ...\n",
      "0 bad epochs dropped\n",
      "Setting channel interpolation method to {'eeg': 'spline'}.\n",
      "Interpolating bad channels.\n",
      "    Automatic origin fit: head of radius 95.0 mm\n",
      "Computing interpolation matrix from 67 sensor positions\n",
      "Interpolating 2 sensors\n",
      "Dropped 6 epochs: 2, 3, 4, 8, 19, 20\n",
      "Fitting ICA to data using 69 channels (please be patient, this may take a while)\n",
      "Selecting by non-zero PCA components: 67 components\n",
      "Fitting ICA took 3.6s.\n",
      "Using EOG channels: LEYE, REYE\n",
      "Applying ICA to Epochs instance\n",
      "    Transforming to ICA space (67 components)\n",
      "    Zeroing out 0 ICA components\n",
      "    Projecting back using 69 PCA components\n",
      "Dropped 6 epochs: 2, 3, 4, 8, 19, 20\n",
      "Correct: 23\n",
      "----------14 is running...----------\n",
      "Opening raw data file C:/Users/beene/python/ml_term_export/Raw\\sub_14.fif...\n",
      "    Range : 0 ... 158671 =      0.000 ...   634.684 secs\n",
      "Ready.\n",
      "Used Annotations descriptions: ['left_click', 'right_click', 'show_cross', 'show_dash', 'show_letter', 'sound_beep', 'sound_buzz']\n",
      "Not setting metadata\n",
      "25 matching events found\n",
      "No baseline correction applied\n",
      "0 projection items activated\n",
      "Loading data for 25 events and 750 original time points ...\n"
     ]
    },
    {
     "name": "stderr",
     "output_type": "stream",
     "text": [
      "C:\\Users\\beene\\AppData\\Local\\Temp\\ipykernel_8312\\2322995967.py:25: FutureWarning: The current default of copy=False will change to copy=True in 1.7. Set the value of copy explicitly to avoid this warning\n",
      "  epochs_data = epochs_ar.get_data()\n",
      "C:\\Users\\beene\\AppData\\Local\\Temp\\ipykernel_8312\\2322995967.py:6: RuntimeWarning: This filename (C:/Users/beene/python/ml_term_export/Raw\\sub_14.fif) does not conform to MNE naming conventions. All raw files should end with raw.fif, raw_sss.fif, raw_tsss.fif, _meg.fif, _eeg.fif, _ieeg.fif, raw.fif.gz, raw_sss.fif.gz, raw_tsss.fif.gz, _meg.fif.gz, _eeg.fif.gz or _ieeg.fif.gz\n",
      "  raw = mne.io.read_raw_fif(datlist[sub_i]);\n"
     ]
    },
    {
     "name": "stdout",
     "output_type": "stream",
     "text": [
      "0 bad epochs dropped\n",
      "Setting channel interpolation method to {'eeg': 'spline'}.\n",
      "Interpolating bad channels.\n",
      "    Automatic origin fit: head of radius 95.0 mm\n",
      "Computing interpolation matrix from 65 sensor positions\n",
      "Interpolating 4 sensors\n",
      "Dropped 1 epoch: 24\n",
      "Fitting ICA to data using 69 channels (please be patient, this may take a while)\n",
      "Selecting by non-zero PCA components: 65 components\n",
      "Fitting ICA took 5.4s.\n",
      "Using EOG channels: LEYE, REYE\n",
      "Applying ICA to Epochs instance\n",
      "    Transforming to ICA space (65 components)\n",
      "    Zeroing out 3 ICA components\n",
      "    Projecting back using 69 PCA components\n",
      "Correct: 23\n",
      "----------15 is running...----------\n",
      "Opening raw data file C:/Users/beene/python/ml_term_export/Raw\\sub_15.fif...\n",
      "    Range : 0 ... 165215 =      0.000 ...   660.860 secs\n",
      "Ready.\n",
      "Used Annotations descriptions: ['left_click', 'right_click', 'show_cross', 'show_dash', 'show_letter', 'sound_beep', 'sound_buzz']\n",
      "Not setting metadata\n",
      "25 matching events found\n",
      "No baseline correction applied\n",
      "0 projection items activated\n",
      "Loading data for 25 events and 750 original time points ...\n"
     ]
    },
    {
     "name": "stderr",
     "output_type": "stream",
     "text": [
      "C:\\Users\\beene\\AppData\\Local\\Temp\\ipykernel_8312\\2322995967.py:25: FutureWarning: The current default of copy=False will change to copy=True in 1.7. Set the value of copy explicitly to avoid this warning\n",
      "  epochs_data = epochs_ar.get_data()\n",
      "C:\\Users\\beene\\AppData\\Local\\Temp\\ipykernel_8312\\2322995967.py:6: RuntimeWarning: This filename (C:/Users/beene/python/ml_term_export/Raw\\sub_15.fif) does not conform to MNE naming conventions. All raw files should end with raw.fif, raw_sss.fif, raw_tsss.fif, _meg.fif, _eeg.fif, _ieeg.fif, raw.fif.gz, raw_sss.fif.gz, raw_tsss.fif.gz, _meg.fif.gz, _eeg.fif.gz or _ieeg.fif.gz\n",
      "  raw = mne.io.read_raw_fif(datlist[sub_i]);\n"
     ]
    },
    {
     "name": "stdout",
     "output_type": "stream",
     "text": [
      "0 bad epochs dropped\n",
      "Setting channel interpolation method to {'eeg': 'spline'}.\n",
      "Interpolating bad channels.\n",
      "    Automatic origin fit: head of radius 95.0 mm\n",
      "Computing interpolation matrix from 66 sensor positions\n",
      "Interpolating 3 sensors\n",
      "Dropped 4 epochs: 9, 18, 22, 23\n",
      "Fitting ICA to data using 69 channels (please be patient, this may take a while)\n",
      "Selecting by non-zero PCA components: 66 components\n",
      "Fitting ICA took 21.4s.\n",
      "Using EOG channels: LEYE, REYE\n"
     ]
    },
    {
     "name": "stderr",
     "output_type": "stream",
     "text": [
      "c:\\Users\\beene\\anaconda3\\envs\\torch\\lib\\site-packages\\sklearn\\decomposition\\_fastica.py:128: ConvergenceWarning: FastICA did not converge. Consider increasing tolerance or the maximum number of iterations.\n",
      "  warnings.warn(\n"
     ]
    },
    {
     "name": "stdout",
     "output_type": "stream",
     "text": [
      "Applying ICA to Epochs instance\n",
      "    Transforming to ICA space (66 components)\n",
      "    Zeroing out 0 ICA components\n",
      "    Projecting back using 69 PCA components\n",
      "Dropped 4 epochs: 9, 18, 22, 23\n",
      "Correct: 23\n",
      "----------16 is running...----------\n",
      "Opening raw data file C:/Users/beene/python/ml_term_export/Raw\\sub_16.fif...\n",
      "    Range : 0 ... 149830 =      0.000 ...   599.320 secs\n",
      "Ready.\n",
      "Used Annotations descriptions: ['left_click', 'right_click', 'show_cross', 'show_dash', 'show_letter']\n",
      "Not setting metadata\n",
      "25 matching events found\n",
      "No baseline correction applied\n",
      "0 projection items activated\n",
      "Loading data for 25 events and 750 original time points ...\n"
     ]
    },
    {
     "name": "stderr",
     "output_type": "stream",
     "text": [
      "C:\\Users\\beene\\AppData\\Local\\Temp\\ipykernel_8312\\2322995967.py:25: FutureWarning: The current default of copy=False will change to copy=True in 1.7. Set the value of copy explicitly to avoid this warning\n",
      "  epochs_data = epochs_ar.get_data()\n",
      "C:\\Users\\beene\\AppData\\Local\\Temp\\ipykernel_8312\\2322995967.py:6: RuntimeWarning: This filename (C:/Users/beene/python/ml_term_export/Raw\\sub_16.fif) does not conform to MNE naming conventions. All raw files should end with raw.fif, raw_sss.fif, raw_tsss.fif, _meg.fif, _eeg.fif, _ieeg.fif, raw.fif.gz, raw_sss.fif.gz, raw_tsss.fif.gz, _meg.fif.gz, _eeg.fif.gz or _ieeg.fif.gz\n",
      "  raw = mne.io.read_raw_fif(datlist[sub_i]);\n"
     ]
    },
    {
     "name": "stdout",
     "output_type": "stream",
     "text": [
      "0 bad epochs dropped\n",
      "Setting channel interpolation method to {'eeg': 'spline'}.\n",
      "Interpolating bad channels.\n",
      "    Automatic origin fit: head of radius 95.0 mm\n",
      "Computing interpolation matrix from 67 sensor positions\n",
      "Interpolating 2 sensors\n",
      "Dropped 1 epoch: 20\n",
      "Fitting ICA to data using 69 channels (please be patient, this may take a while)\n",
      "Selecting by non-zero PCA components: 67 components\n",
      "Fitting ICA took 18.3s.\n",
      "Using EOG channels: LEYE, REYE\n",
      "Applying ICA to Epochs instance\n",
      "    Transforming to ICA space (67 components)\n",
      "    Zeroing out 3 ICA components\n",
      "    Projecting back using 69 PCA components\n",
      "Correct: 25\n",
      "----------17 is running...----------\n",
      "Opening raw data file C:/Users/beene/python/ml_term_export/Raw\\sub_17.fif...\n",
      "    Range : 0 ... 153478 =      0.000 ...   613.912 secs\n",
      "Ready.\n",
      "Used Annotations descriptions: ['left_click', 'right_click', 'show_cross', 'show_dash', 'show_letter']\n",
      "Not setting metadata\n",
      "25 matching events found\n",
      "No baseline correction applied\n",
      "0 projection items activated\n",
      "Loading data for 25 events and 750 original time points ...\n"
     ]
    },
    {
     "name": "stderr",
     "output_type": "stream",
     "text": [
      "C:\\Users\\beene\\AppData\\Local\\Temp\\ipykernel_8312\\2322995967.py:25: FutureWarning: The current default of copy=False will change to copy=True in 1.7. Set the value of copy explicitly to avoid this warning\n",
      "  epochs_data = epochs_ar.get_data()\n",
      "C:\\Users\\beene\\AppData\\Local\\Temp\\ipykernel_8312\\2322995967.py:6: RuntimeWarning: This filename (C:/Users/beene/python/ml_term_export/Raw\\sub_17.fif) does not conform to MNE naming conventions. All raw files should end with raw.fif, raw_sss.fif, raw_tsss.fif, _meg.fif, _eeg.fif, _ieeg.fif, raw.fif.gz, raw_sss.fif.gz, raw_tsss.fif.gz, _meg.fif.gz, _eeg.fif.gz or _ieeg.fif.gz\n",
      "  raw = mne.io.read_raw_fif(datlist[sub_i]);\n"
     ]
    },
    {
     "name": "stdout",
     "output_type": "stream",
     "text": [
      "0 bad epochs dropped\n",
      "Setting channel interpolation method to {'eeg': 'spline'}.\n",
      "Interpolating bad channels.\n",
      "    Automatic origin fit: head of radius 95.0 mm\n",
      "Computing interpolation matrix from 62 sensor positions\n",
      "Interpolating 7 sensors\n",
      "Dropped 2 epochs: 6, 15\n",
      "Fitting ICA to data using 69 channels (please be patient, this may take a while)\n",
      "Selecting by non-zero PCA components: 62 components\n",
      "Fitting ICA took 4.5s.\n",
      "Using EOG channels: LEYE, REYE\n",
      "Applying ICA to Epochs instance\n",
      "    Transforming to ICA space (62 components)\n",
      "    Zeroing out 4 ICA components\n",
      "    Projecting back using 69 PCA components\n",
      "Correct: 24\n",
      "----------18 is running...----------\n",
      "Opening raw data file C:/Users/beene/python/ml_term_export/Raw\\sub_18.fif...\n",
      "    Range : 0 ... 154781 =      0.000 ...   619.124 secs\n",
      "Ready.\n",
      "Used Annotations descriptions: ['left_click', 'right_click', 'show_cross', 'show_dash', 'show_letter']\n",
      "Not setting metadata\n",
      "25 matching events found\n"
     ]
    },
    {
     "name": "stderr",
     "output_type": "stream",
     "text": [
      "C:\\Users\\beene\\AppData\\Local\\Temp\\ipykernel_8312\\2322995967.py:25: FutureWarning: The current default of copy=False will change to copy=True in 1.7. Set the value of copy explicitly to avoid this warning\n",
      "  epochs_data = epochs_ar.get_data()\n",
      "C:\\Users\\beene\\AppData\\Local\\Temp\\ipykernel_8312\\2322995967.py:6: RuntimeWarning: This filename (C:/Users/beene/python/ml_term_export/Raw\\sub_18.fif) does not conform to MNE naming conventions. All raw files should end with raw.fif, raw_sss.fif, raw_tsss.fif, _meg.fif, _eeg.fif, _ieeg.fif, raw.fif.gz, raw_sss.fif.gz, raw_tsss.fif.gz, _meg.fif.gz, _eeg.fif.gz or _ieeg.fif.gz\n",
      "  raw = mne.io.read_raw_fif(datlist[sub_i]);\n"
     ]
    },
    {
     "name": "stdout",
     "output_type": "stream",
     "text": [
      "No baseline correction applied\n",
      "0 projection items activated\n",
      "Loading data for 25 events and 750 original time points ...\n",
      "0 bad epochs dropped\n",
      "Setting channel interpolation method to {'eeg': 'spline'}.\n",
      "Interpolating bad channels.\n",
      "    Automatic origin fit: head of radius 95.0 mm\n",
      "Computing interpolation matrix from 68 sensor positions\n",
      "Interpolating 1 sensors\n",
      "Fitting ICA to data using 69 channels (please be patient, this may take a while)\n",
      "Selecting by non-zero PCA components: 68 components\n",
      "Fitting ICA took 31.4s.\n",
      "Using EOG channels: LEYE, REYE\n"
     ]
    },
    {
     "name": "stderr",
     "output_type": "stream",
     "text": [
      "c:\\Users\\beene\\anaconda3\\envs\\torch\\lib\\site-packages\\sklearn\\decomposition\\_fastica.py:128: ConvergenceWarning: FastICA did not converge. Consider increasing tolerance or the maximum number of iterations.\n",
      "  warnings.warn(\n"
     ]
    },
    {
     "name": "stdout",
     "output_type": "stream",
     "text": [
      "Applying ICA to Epochs instance\n",
      "    Transforming to ICA space (68 components)\n",
      "    Zeroing out 4 ICA components\n",
      "    Projecting back using 69 PCA components\n",
      "Correct: 23\n",
      "----------19 is running...----------\n",
      "Opening raw data file C:/Users/beene/python/ml_term_export/Raw\\sub_19.fif...\n",
      "    Range : 0 ... 152041 =      0.000 ...   608.164 secs\n",
      "Ready.\n",
      "Used Annotations descriptions: ['left_click', 'right_click', 'show_cross', 'show_dash', 'show_letter']\n"
     ]
    },
    {
     "name": "stderr",
     "output_type": "stream",
     "text": [
      "C:\\Users\\beene\\AppData\\Local\\Temp\\ipykernel_8312\\2322995967.py:25: FutureWarning: The current default of copy=False will change to copy=True in 1.7. Set the value of copy explicitly to avoid this warning\n",
      "  epochs_data = epochs_ar.get_data()\n",
      "C:\\Users\\beene\\AppData\\Local\\Temp\\ipykernel_8312\\2322995967.py:6: RuntimeWarning: This filename (C:/Users/beene/python/ml_term_export/Raw\\sub_19.fif) does not conform to MNE naming conventions. All raw files should end with raw.fif, raw_sss.fif, raw_tsss.fif, _meg.fif, _eeg.fif, _ieeg.fif, raw.fif.gz, raw_sss.fif.gz, raw_tsss.fif.gz, _meg.fif.gz, _eeg.fif.gz or _ieeg.fif.gz\n",
      "  raw = mne.io.read_raw_fif(datlist[sub_i]);\n"
     ]
    },
    {
     "name": "stdout",
     "output_type": "stream",
     "text": [
      "Not setting metadata\n",
      "25 matching events found\n",
      "No baseline correction applied\n",
      "0 projection items activated\n",
      "Loading data for 25 events and 750 original time points ...\n",
      "0 bad epochs dropped\n",
      "Setting channel interpolation method to {'eeg': 'spline'}.\n",
      "Interpolating bad channels.\n",
      "    Automatic origin fit: head of radius 95.0 mm\n",
      "Computing interpolation matrix from 66 sensor positions\n",
      "Interpolating 3 sensors\n",
      "Fitting ICA to data using 69 channels (please be patient, this may take a while)\n",
      "Selecting by non-zero PCA components: 66 components\n",
      "Fitting ICA took 28.1s.\n",
      "Using EOG channels: LEYE, REYE\n"
     ]
    },
    {
     "name": "stderr",
     "output_type": "stream",
     "text": [
      "c:\\Users\\beene\\anaconda3\\envs\\torch\\lib\\site-packages\\sklearn\\decomposition\\_fastica.py:128: ConvergenceWarning: FastICA did not converge. Consider increasing tolerance or the maximum number of iterations.\n",
      "  warnings.warn(\n"
     ]
    },
    {
     "name": "stdout",
     "output_type": "stream",
     "text": [
      "Applying ICA to Epochs instance\n",
      "    Transforming to ICA space (66 components)\n",
      "    Zeroing out 4 ICA components\n",
      "    Projecting back using 69 PCA components\n",
      "Correct: 24\n",
      "----------20 is running...----------\n",
      "Opening raw data file C:/Users/beene/python/ml_term_export/Raw\\sub_20.fif...\n",
      "    Range : 0 ... 174046 =      0.000 ...   696.184 secs\n",
      "Ready.\n",
      "Used Annotations descriptions: ['left_click', 'right_click', 'show_cross', 'show_dash', 'show_letter', 'sound_beep', 'sound_buzz']\n",
      "Not setting metadata\n",
      "21 matching events found\n",
      "No baseline correction applied\n",
      "0 projection items activated\n",
      "Loading data for 21 events and 750 original time points ...\n"
     ]
    },
    {
     "name": "stderr",
     "output_type": "stream",
     "text": [
      "C:\\Users\\beene\\AppData\\Local\\Temp\\ipykernel_8312\\2322995967.py:25: FutureWarning: The current default of copy=False will change to copy=True in 1.7. Set the value of copy explicitly to avoid this warning\n",
      "  epochs_data = epochs_ar.get_data()\n",
      "C:\\Users\\beene\\AppData\\Local\\Temp\\ipykernel_8312\\2322995967.py:6: RuntimeWarning: This filename (C:/Users/beene/python/ml_term_export/Raw\\sub_20.fif) does not conform to MNE naming conventions. All raw files should end with raw.fif, raw_sss.fif, raw_tsss.fif, _meg.fif, _eeg.fif, _ieeg.fif, raw.fif.gz, raw_sss.fif.gz, raw_tsss.fif.gz, _meg.fif.gz, _eeg.fif.gz or _ieeg.fif.gz\n",
      "  raw = mne.io.read_raw_fif(datlist[sub_i]);\n"
     ]
    },
    {
     "name": "stdout",
     "output_type": "stream",
     "text": [
      "0 bad epochs dropped\n",
      "Setting channel interpolation method to {'eeg': 'spline'}.\n",
      "Interpolating bad channels.\n",
      "    Automatic origin fit: head of radius 95.0 mm\n",
      "Computing interpolation matrix from 68 sensor positions\n",
      "Interpolating 1 sensors\n",
      "Dropped 6 epochs: 0, 5, 12, 14, 16, 17\n",
      "Fitting ICA to data using 69 channels (please be patient, this may take a while)\n",
      "Selecting by non-zero PCA components: 68 components\n",
      "Fitting ICA took 8.0s.\n",
      "Using EOG channels: LEYE, REYE\n",
      "Applying ICA to Epochs instance\n",
      "    Transforming to ICA space (68 components)\n",
      "    Zeroing out 2 ICA components\n",
      "    Projecting back using 69 PCA components\n",
      "Correct: 18\n",
      "----------21 is running...----------\n",
      "Opening raw data file C:/Users/beene/python/ml_term_export/Raw\\sub_21.fif...\n",
      "    Range : 0 ... 143882 =      0.000 ...   575.528 secs\n",
      "Ready.\n",
      "Used Annotations descriptions: ['left_click', 'right_click', 'show_cross', 'show_dash', 'show_letter', 'sound_beep', 'sound_buzz']\n",
      "Not setting metadata\n",
      "25 matching events found\n",
      "No baseline correction applied\n",
      "0 projection items activated\n",
      "Loading data for 25 events and 750 original time points ...\n"
     ]
    },
    {
     "name": "stderr",
     "output_type": "stream",
     "text": [
      "C:\\Users\\beene\\AppData\\Local\\Temp\\ipykernel_8312\\2322995967.py:25: FutureWarning: The current default of copy=False will change to copy=True in 1.7. Set the value of copy explicitly to avoid this warning\n",
      "  epochs_data = epochs_ar.get_data()\n",
      "C:\\Users\\beene\\AppData\\Local\\Temp\\ipykernel_8312\\2322995967.py:6: RuntimeWarning: This filename (C:/Users/beene/python/ml_term_export/Raw\\sub_21.fif) does not conform to MNE naming conventions. All raw files should end with raw.fif, raw_sss.fif, raw_tsss.fif, _meg.fif, _eeg.fif, _ieeg.fif, raw.fif.gz, raw_sss.fif.gz, raw_tsss.fif.gz, _meg.fif.gz, _eeg.fif.gz or _ieeg.fif.gz\n",
      "  raw = mne.io.read_raw_fif(datlist[sub_i]);\n"
     ]
    },
    {
     "name": "stdout",
     "output_type": "stream",
     "text": [
      "0 bad epochs dropped\n",
      "Setting channel interpolation method to {'eeg': 'spline'}.\n"
     ]
    },
    {
     "name": "stderr",
     "output_type": "stream",
     "text": [
      "c:\\Users\\beene\\anaconda3\\envs\\torch\\lib\\site-packages\\autoreject\\ransac.py:244: RuntimeWarning: No bad channels to interpolate. Doing nothing...\n",
      "  epochs.interpolate_bads(reset_bads=True)\n"
     ]
    },
    {
     "name": "stdout",
     "output_type": "stream",
     "text": [
      "Fitting ICA to data using 69 channels (please be patient, this may take a while)\n",
      "Selecting by non-zero PCA components: 69 components\n",
      "Fitting ICA took 26.1s.\n",
      "Using EOG channels: LEYE, REYE\n"
     ]
    },
    {
     "name": "stderr",
     "output_type": "stream",
     "text": [
      "c:\\Users\\beene\\anaconda3\\envs\\torch\\lib\\site-packages\\sklearn\\decomposition\\_fastica.py:128: ConvergenceWarning: FastICA did not converge. Consider increasing tolerance or the maximum number of iterations.\n",
      "  warnings.warn(\n"
     ]
    },
    {
     "name": "stdout",
     "output_type": "stream",
     "text": [
      "Applying ICA to Epochs instance\n",
      "    Transforming to ICA space (69 components)\n",
      "    Zeroing out 2 ICA components\n",
      "    Projecting back using 69 PCA components\n",
      "Correct: 24\n",
      "----------22 is running...----------\n",
      "Opening raw data file C:/Users/beene/python/ml_term_export/Raw\\sub_22.fif...\n",
      "    Range : 0 ... 139418 =      0.000 ...   557.672 secs\n",
      "Ready.\n",
      "Used Annotations descriptions: ['left_click', 'right_click', 'show_cross', 'show_dash', 'show_letter', 'sound_beep', 'sound_buzz']\n",
      "Not setting metadata\n",
      "25 matching events found\n",
      "No baseline correction applied\n",
      "0 projection items activated\n",
      "Loading data for 25 events and 750 original time points ...\n",
      "0 bad epochs dropped\n"
     ]
    },
    {
     "name": "stderr",
     "output_type": "stream",
     "text": [
      "C:\\Users\\beene\\AppData\\Local\\Temp\\ipykernel_8312\\2322995967.py:25: FutureWarning: The current default of copy=False will change to copy=True in 1.7. Set the value of copy explicitly to avoid this warning\n",
      "  epochs_data = epochs_ar.get_data()\n",
      "C:\\Users\\beene\\AppData\\Local\\Temp\\ipykernel_8312\\2322995967.py:6: RuntimeWarning: This filename (C:/Users/beene/python/ml_term_export/Raw\\sub_22.fif) does not conform to MNE naming conventions. All raw files should end with raw.fif, raw_sss.fif, raw_tsss.fif, _meg.fif, _eeg.fif, _ieeg.fif, raw.fif.gz, raw_sss.fif.gz, raw_tsss.fif.gz, _meg.fif.gz, _eeg.fif.gz or _ieeg.fif.gz\n",
      "  raw = mne.io.read_raw_fif(datlist[sub_i]);\n"
     ]
    },
    {
     "name": "stdout",
     "output_type": "stream",
     "text": [
      "Setting channel interpolation method to {'eeg': 'spline'}.\n",
      "Interpolating bad channels.\n",
      "    Automatic origin fit: head of radius 95.0 mm\n",
      "Computing interpolation matrix from 68 sensor positions\n",
      "Interpolating 1 sensors\n",
      "Fitting ICA to data using 69 channels (please be patient, this may take a while)\n",
      "Selecting by non-zero PCA components: 68 components\n",
      "Fitting ICA took 14.8s.\n",
      "Using EOG channels: LEYE, REYE\n",
      "Applying ICA to Epochs instance\n",
      "    Transforming to ICA space (68 components)\n",
      "    Zeroing out 2 ICA components\n",
      "    Projecting back using 69 PCA components\n",
      "Correct: 24\n",
      "----------23 is running...----------\n",
      "Opening raw data file C:/Users/beene/python/ml_term_export/Raw\\sub_23.fif...\n",
      "    Range : 0 ... 140168 =      0.000 ...   560.672 secs\n",
      "Ready.\n",
      "Used Annotations descriptions: ['left_click', 'right_click', 'show_cross', 'show_dash', 'show_letter', 'sound_beep', 'sound_buzz']\n",
      "Not setting metadata\n",
      "25 matching events found\n",
      "No baseline correction applied\n",
      "0 projection items activated\n",
      "Loading data for 25 events and 750 original time points ...\n"
     ]
    },
    {
     "name": "stderr",
     "output_type": "stream",
     "text": [
      "C:\\Users\\beene\\AppData\\Local\\Temp\\ipykernel_8312\\2322995967.py:25: FutureWarning: The current default of copy=False will change to copy=True in 1.7. Set the value of copy explicitly to avoid this warning\n",
      "  epochs_data = epochs_ar.get_data()\n",
      "C:\\Users\\beene\\AppData\\Local\\Temp\\ipykernel_8312\\2322995967.py:6: RuntimeWarning: This filename (C:/Users/beene/python/ml_term_export/Raw\\sub_23.fif) does not conform to MNE naming conventions. All raw files should end with raw.fif, raw_sss.fif, raw_tsss.fif, _meg.fif, _eeg.fif, _ieeg.fif, raw.fif.gz, raw_sss.fif.gz, raw_tsss.fif.gz, _meg.fif.gz, _eeg.fif.gz or _ieeg.fif.gz\n",
      "  raw = mne.io.read_raw_fif(datlist[sub_i]);\n"
     ]
    },
    {
     "name": "stdout",
     "output_type": "stream",
     "text": [
      "0 bad epochs dropped\n",
      "Setting channel interpolation method to {'eeg': 'spline'}.\n",
      "Interpolating bad channels.\n",
      "    Automatic origin fit: head of radius 95.0 mm\n",
      "Computing interpolation matrix from 68 sensor positions\n",
      "Interpolating 1 sensors\n",
      "Dropped 1 epoch: 10\n",
      "Fitting ICA to data using 69 channels (please be patient, this may take a while)\n",
      "Selecting by non-zero PCA components: 68 components\n",
      "Fitting ICA took 6.6s.\n",
      "Using EOG channels: LEYE, REYE\n",
      "Applying ICA to Epochs instance\n",
      "    Transforming to ICA space (68 components)\n",
      "    Zeroing out 2 ICA components\n",
      "    Projecting back using 69 PCA components\n",
      "Dropped 2 epochs: 10, 24\n",
      "Correct: 24\n",
      "----------24 is running...----------\n",
      "Opening raw data file C:/Users/beene/python/ml_term_export/Raw\\sub_24.fif...\n",
      "    Range : 0 ... 150986 =      0.000 ...   603.944 secs\n",
      "Ready.\n",
      "Used Annotations descriptions: ['left_click', 'right_click', 'show_cross', 'show_dash', 'show_letter', 'sound_beep']\n",
      "Not setting metadata\n",
      "25 matching events found\n",
      "No baseline correction applied\n",
      "0 projection items activated\n",
      "Loading data for 25 events and 750 original time points ...\n"
     ]
    },
    {
     "name": "stderr",
     "output_type": "stream",
     "text": [
      "C:\\Users\\beene\\AppData\\Local\\Temp\\ipykernel_8312\\2322995967.py:25: FutureWarning: The current default of copy=False will change to copy=True in 1.7. Set the value of copy explicitly to avoid this warning\n",
      "  epochs_data = epochs_ar.get_data()\n",
      "C:\\Users\\beene\\AppData\\Local\\Temp\\ipykernel_8312\\2322995967.py:6: RuntimeWarning: This filename (C:/Users/beene/python/ml_term_export/Raw\\sub_24.fif) does not conform to MNE naming conventions. All raw files should end with raw.fif, raw_sss.fif, raw_tsss.fif, _meg.fif, _eeg.fif, _ieeg.fif, raw.fif.gz, raw_sss.fif.gz, raw_tsss.fif.gz, _meg.fif.gz, _eeg.fif.gz or _ieeg.fif.gz\n",
      "  raw = mne.io.read_raw_fif(datlist[sub_i]);\n"
     ]
    },
    {
     "name": "stdout",
     "output_type": "stream",
     "text": [
      "0 bad epochs dropped\n",
      "Setting channel interpolation method to {'eeg': 'spline'}.\n",
      "Interpolating bad channels.\n",
      "    Automatic origin fit: head of radius 95.0 mm\n",
      "Computing interpolation matrix from 67 sensor positions\n",
      "Interpolating 2 sensors\n",
      "Dropped 1 epoch: 20\n",
      "Fitting ICA to data using 69 channels (please be patient, this may take a while)\n",
      "Selecting by non-zero PCA components: 67 components\n",
      "Fitting ICA took 3.4s.\n",
      "Using EOG channels: LEYE, REYE\n",
      "Applying ICA to Epochs instance\n",
      "    Transforming to ICA space (67 components)\n",
      "    Zeroing out 5 ICA components\n",
      "    Projecting back using 69 PCA components\n",
      "Dropped 1 epoch: 20\n",
      "Correct: 25\n",
      "----------25 is running...----------\n",
      "Opening raw data file C:/Users/beene/python/ml_term_export/Raw\\sub_25.fif...\n",
      "    Range : 0 ... 139324 =      0.000 ...   557.296 secs\n",
      "Ready.\n",
      "Used Annotations descriptions: ['left_click', 'right_click', 'show_cross', 'show_dash', 'show_letter', 'sound_beep']\n",
      "Not setting metadata\n",
      "25 matching events found\n",
      "No baseline correction applied\n",
      "0 projection items activated\n",
      "Loading data for 25 events and 750 original time points ...\n"
     ]
    },
    {
     "name": "stderr",
     "output_type": "stream",
     "text": [
      "C:\\Users\\beene\\AppData\\Local\\Temp\\ipykernel_8312\\2322995967.py:25: FutureWarning: The current default of copy=False will change to copy=True in 1.7. Set the value of copy explicitly to avoid this warning\n",
      "  epochs_data = epochs_ar.get_data()\n",
      "C:\\Users\\beene\\AppData\\Local\\Temp\\ipykernel_8312\\2322995967.py:6: RuntimeWarning: This filename (C:/Users/beene/python/ml_term_export/Raw\\sub_25.fif) does not conform to MNE naming conventions. All raw files should end with raw.fif, raw_sss.fif, raw_tsss.fif, _meg.fif, _eeg.fif, _ieeg.fif, raw.fif.gz, raw_sss.fif.gz, raw_tsss.fif.gz, _meg.fif.gz, _eeg.fif.gz or _ieeg.fif.gz\n",
      "  raw = mne.io.read_raw_fif(datlist[sub_i]);\n"
     ]
    },
    {
     "name": "stdout",
     "output_type": "stream",
     "text": [
      "0 bad epochs dropped\n",
      "Setting channel interpolation method to {'eeg': 'spline'}.\n",
      "Interpolating bad channels.\n",
      "    Automatic origin fit: head of radius 95.0 mm\n",
      "Computing interpolation matrix from 66 sensor positions\n",
      "Interpolating 3 sensors\n",
      "Fitting ICA to data using 69 channels (please be patient, this may take a while)\n",
      "Selecting by non-zero PCA components: 66 components\n",
      "Fitting ICA took 1.9s.\n",
      "Using EOG channels: LEYE, REYE\n",
      "Applying ICA to Epochs instance\n",
      "    Transforming to ICA space (66 components)\n",
      "    Zeroing out 3 ICA components\n",
      "    Projecting back using 69 PCA components\n",
      "Correct: 25\n",
      "----------26 is running...----------\n",
      "Opening raw data file C:/Users/beene/python/ml_term_export/Raw\\sub_26.fif...\n",
      "    Range : 0 ... 145491 =      0.000 ...   581.964 secs\n",
      "Ready.\n",
      "Used Annotations descriptions: ['left_click', 'right_click', 'show_cross', 'show_dash', 'show_letter', 'sound_beep', 'sound_buzz']\n",
      "Not setting metadata\n",
      "25 matching events found\n",
      "No baseline correction applied\n",
      "0 projection items activated\n",
      "Loading data for 25 events and 750 original time points ...\n"
     ]
    },
    {
     "name": "stderr",
     "output_type": "stream",
     "text": [
      "C:\\Users\\beene\\AppData\\Local\\Temp\\ipykernel_8312\\2322995967.py:25: FutureWarning: The current default of copy=False will change to copy=True in 1.7. Set the value of copy explicitly to avoid this warning\n",
      "  epochs_data = epochs_ar.get_data()\n",
      "C:\\Users\\beene\\AppData\\Local\\Temp\\ipykernel_8312\\2322995967.py:6: RuntimeWarning: This filename (C:/Users/beene/python/ml_term_export/Raw\\sub_26.fif) does not conform to MNE naming conventions. All raw files should end with raw.fif, raw_sss.fif, raw_tsss.fif, _meg.fif, _eeg.fif, _ieeg.fif, raw.fif.gz, raw_sss.fif.gz, raw_tsss.fif.gz, _meg.fif.gz, _eeg.fif.gz or _ieeg.fif.gz\n",
      "  raw = mne.io.read_raw_fif(datlist[sub_i]);\n"
     ]
    },
    {
     "name": "stdout",
     "output_type": "stream",
     "text": [
      "0 bad epochs dropped\n",
      "Setting channel interpolation method to {'eeg': 'spline'}.\n",
      "Interpolating bad channels.\n",
      "    Automatic origin fit: head of radius 95.0 mm\n",
      "Computing interpolation matrix from 66 sensor positions\n",
      "Interpolating 3 sensors\n",
      "Dropped 1 epoch: 21\n",
      "Fitting ICA to data using 69 channels (please be patient, this may take a while)\n",
      "Selecting by non-zero PCA components: 66 components\n",
      "Fitting ICA took 2.3s.\n",
      "Using EOG channels: LEYE, REYE\n",
      "Applying ICA to Epochs instance\n",
      "    Transforming to ICA space (66 components)\n",
      "    Zeroing out 4 ICA components\n",
      "    Projecting back using 69 PCA components\n",
      "Correct: 24\n",
      "----------27 is running...----------\n",
      "Opening raw data file C:/Users/beene/python/ml_term_export/Raw\\sub_27.fif...\n",
      "    Range : 0 ... 150364 =      0.000 ...   601.456 secs\n",
      "Ready.\n",
      "Used Annotations descriptions: ['left_click', 'right_click', 'show_cross', 'show_dash', 'show_letter', 'sound_beep']\n",
      "Not setting metadata\n",
      "25 matching events found\n",
      "No baseline correction applied\n",
      "0 projection items activated\n",
      "Loading data for 25 events and 750 original time points ...\n",
      "0 bad epochs dropped\n"
     ]
    },
    {
     "name": "stderr",
     "output_type": "stream",
     "text": [
      "C:\\Users\\beene\\AppData\\Local\\Temp\\ipykernel_8312\\2322995967.py:25: FutureWarning: The current default of copy=False will change to copy=True in 1.7. Set the value of copy explicitly to avoid this warning\n",
      "  epochs_data = epochs_ar.get_data()\n",
      "C:\\Users\\beene\\AppData\\Local\\Temp\\ipykernel_8312\\2322995967.py:6: RuntimeWarning: This filename (C:/Users/beene/python/ml_term_export/Raw\\sub_27.fif) does not conform to MNE naming conventions. All raw files should end with raw.fif, raw_sss.fif, raw_tsss.fif, _meg.fif, _eeg.fif, _ieeg.fif, raw.fif.gz, raw_sss.fif.gz, raw_tsss.fif.gz, _meg.fif.gz, _eeg.fif.gz or _ieeg.fif.gz\n",
      "  raw = mne.io.read_raw_fif(datlist[sub_i]);\n"
     ]
    },
    {
     "name": "stdout",
     "output_type": "stream",
     "text": [
      "Setting channel interpolation method to {'eeg': 'spline'}.\n",
      "Interpolating bad channels.\n",
      "    Automatic origin fit: head of radius 95.0 mm\n",
      "Computing interpolation matrix from 66 sensor positions\n",
      "Interpolating 3 sensors\n",
      "Fitting ICA to data using 69 channels (please be patient, this may take a while)\n",
      "Selecting by non-zero PCA components: 66 components\n",
      "Fitting ICA took 4.7s.\n",
      "Using EOG channels: LEYE, REYE\n",
      "Applying ICA to Epochs instance\n",
      "    Transforming to ICA space (66 components)\n",
      "    Zeroing out 2 ICA components\n",
      "    Projecting back using 69 PCA components\n",
      "Correct: 25\n",
      "----------28 is running...----------\n",
      "Opening raw data file C:/Users/beene/python/ml_term_export/Raw\\sub_28.fif...\n",
      "    Range : 0 ... 153583 =      0.000 ...   614.332 secs\n",
      "Ready.\n",
      "Used Annotations descriptions: ['left_click', 'right_click', 'show_cross', 'show_dash', 'show_letter', 'sound_beep', 'sound_buzz']\n",
      "Not setting metadata\n",
      "24 matching events found\n",
      "No baseline correction applied\n",
      "0 projection items activated\n",
      "Loading data for 24 events and 750 original time points ...\n",
      "0 bad epochs dropped\n"
     ]
    },
    {
     "name": "stderr",
     "output_type": "stream",
     "text": [
      "C:\\Users\\beene\\AppData\\Local\\Temp\\ipykernel_8312\\2322995967.py:25: FutureWarning: The current default of copy=False will change to copy=True in 1.7. Set the value of copy explicitly to avoid this warning\n",
      "  epochs_data = epochs_ar.get_data()\n",
      "C:\\Users\\beene\\AppData\\Local\\Temp\\ipykernel_8312\\2322995967.py:6: RuntimeWarning: This filename (C:/Users/beene/python/ml_term_export/Raw\\sub_28.fif) does not conform to MNE naming conventions. All raw files should end with raw.fif, raw_sss.fif, raw_tsss.fif, _meg.fif, _eeg.fif, _ieeg.fif, raw.fif.gz, raw_sss.fif.gz, raw_tsss.fif.gz, _meg.fif.gz, _eeg.fif.gz or _ieeg.fif.gz\n",
      "  raw = mne.io.read_raw_fif(datlist[sub_i]);\n"
     ]
    },
    {
     "name": "stdout",
     "output_type": "stream",
     "text": [
      "Setting channel interpolation method to {'eeg': 'spline'}.\n",
      "Interpolating bad channels.\n",
      "    Automatic origin fit: head of radius 95.0 mm\n",
      "Computing interpolation matrix from 67 sensor positions\n",
      "Interpolating 2 sensors\n",
      "Fitting ICA to data using 69 channels (please be patient, this may take a while)\n",
      "Selecting by non-zero PCA components: 67 components\n",
      "Fitting ICA took 21.7s.\n",
      "Using EOG channels: LEYE, REYE\n"
     ]
    },
    {
     "name": "stderr",
     "output_type": "stream",
     "text": [
      "c:\\Users\\beene\\anaconda3\\envs\\torch\\lib\\site-packages\\sklearn\\decomposition\\_fastica.py:128: ConvergenceWarning: FastICA did not converge. Consider increasing tolerance or the maximum number of iterations.\n",
      "  warnings.warn(\n"
     ]
    },
    {
     "name": "stdout",
     "output_type": "stream",
     "text": [
      "Applying ICA to Epochs instance\n",
      "    Transforming to ICA space (67 components)\n",
      "    Zeroing out 2 ICA components\n",
      "    Projecting back using 69 PCA components\n",
      "Correct: 24\n",
      "----------29 is running...----------\n",
      "Opening raw data file C:/Users/beene/python/ml_term_export/Raw\\sub_29.fif...\n",
      "    Range : 0 ... 218910 =      0.000 ...   875.640 secs\n",
      "Ready.\n",
      "Used Annotations descriptions: ['left_click', 'right_click', 'show_cross', 'show_dash', 'show_letter', 'sound_beep', 'sound_buzz']\n",
      "Not setting metadata\n",
      "25 matching events found\n",
      "No baseline correction applied\n",
      "0 projection items activated\n",
      "Loading data for 25 events and 750 original time points ...\n"
     ]
    },
    {
     "name": "stderr",
     "output_type": "stream",
     "text": [
      "C:\\Users\\beene\\AppData\\Local\\Temp\\ipykernel_8312\\2322995967.py:25: FutureWarning: The current default of copy=False will change to copy=True in 1.7. Set the value of copy explicitly to avoid this warning\n",
      "  epochs_data = epochs_ar.get_data()\n",
      "C:\\Users\\beene\\AppData\\Local\\Temp\\ipykernel_8312\\2322995967.py:6: RuntimeWarning: This filename (C:/Users/beene/python/ml_term_export/Raw\\sub_29.fif) does not conform to MNE naming conventions. All raw files should end with raw.fif, raw_sss.fif, raw_tsss.fif, _meg.fif, _eeg.fif, _ieeg.fif, raw.fif.gz, raw_sss.fif.gz, raw_tsss.fif.gz, _meg.fif.gz, _eeg.fif.gz or _ieeg.fif.gz\n",
      "  raw = mne.io.read_raw_fif(datlist[sub_i]);\n"
     ]
    },
    {
     "name": "stdout",
     "output_type": "stream",
     "text": [
      "0 bad epochs dropped\n",
      "Setting channel interpolation method to {'eeg': 'spline'}.\n",
      "Interpolating bad channels.\n",
      "    Automatic origin fit: head of radius 95.0 mm\n",
      "Computing interpolation matrix from 67 sensor positions\n",
      "Interpolating 2 sensors\n",
      "Dropped 1 epoch: 19\n",
      "Fitting ICA to data using 69 channels (please be patient, this may take a while)\n",
      "Selecting by non-zero PCA components: 67 components\n",
      "Fitting ICA took 22.6s.\n",
      "Using EOG channels: LEYE, REYE\n"
     ]
    },
    {
     "name": "stderr",
     "output_type": "stream",
     "text": [
      "c:\\Users\\beene\\anaconda3\\envs\\torch\\lib\\site-packages\\sklearn\\decomposition\\_fastica.py:128: ConvergenceWarning: FastICA did not converge. Consider increasing tolerance or the maximum number of iterations.\n",
      "  warnings.warn(\n"
     ]
    },
    {
     "name": "stdout",
     "output_type": "stream",
     "text": [
      "Applying ICA to Epochs instance\n",
      "    Transforming to ICA space (67 components)\n",
      "    Zeroing out 3 ICA components\n",
      "    Projecting back using 69 PCA components\n",
      "Correct: 23\n",
      "----------30 is running...----------\n",
      "Opening raw data file C:/Users/beene/python/ml_term_export/Raw\\sub_30.fif...\n",
      "    Range : 0 ... 189473 =      0.000 ...   757.892 secs\n",
      "Ready.\n",
      "Used Annotations descriptions: ['left_click', 'right_click', 'show_cross', 'show_dash', 'show_letter', 'sound_beep', 'sound_buzz']\n",
      "Not setting metadata\n",
      "25 matching events found\n",
      "No baseline correction applied\n",
      "0 projection items activated\n",
      "Loading data for 25 events and 750 original time points ...\n"
     ]
    },
    {
     "name": "stderr",
     "output_type": "stream",
     "text": [
      "C:\\Users\\beene\\AppData\\Local\\Temp\\ipykernel_8312\\2322995967.py:25: FutureWarning: The current default of copy=False will change to copy=True in 1.7. Set the value of copy explicitly to avoid this warning\n",
      "  epochs_data = epochs_ar.get_data()\n",
      "C:\\Users\\beene\\AppData\\Local\\Temp\\ipykernel_8312\\2322995967.py:6: RuntimeWarning: This filename (C:/Users/beene/python/ml_term_export/Raw\\sub_30.fif) does not conform to MNE naming conventions. All raw files should end with raw.fif, raw_sss.fif, raw_tsss.fif, _meg.fif, _eeg.fif, _ieeg.fif, raw.fif.gz, raw_sss.fif.gz, raw_tsss.fif.gz, _meg.fif.gz, _eeg.fif.gz or _ieeg.fif.gz\n",
      "  raw = mne.io.read_raw_fif(datlist[sub_i]);\n"
     ]
    },
    {
     "name": "stdout",
     "output_type": "stream",
     "text": [
      "0 bad epochs dropped\n",
      "Setting channel interpolation method to {'eeg': 'spline'}.\n",
      "Interpolating bad channels.\n",
      "    Automatic origin fit: head of radius 95.0 mm\n",
      "Computing interpolation matrix from 67 sensor positions\n",
      "Interpolating 2 sensors\n",
      "Fitting ICA to data using 69 channels (please be patient, this may take a while)\n",
      "Selecting by non-zero PCA components: 67 components\n",
      "Fitting ICA took 3.0s.\n",
      "Using EOG channels: LEYE, REYE\n",
      "Applying ICA to Epochs instance\n",
      "    Transforming to ICA space (67 components)\n",
      "    Zeroing out 2 ICA components\n",
      "    Projecting back using 69 PCA components\n",
      "Correct: 23\n",
      "----------31 is running...----------\n",
      "Opening raw data file C:/Users/beene/python/ml_term_export/Raw\\sub_31.fif...\n"
     ]
    },
    {
     "name": "stderr",
     "output_type": "stream",
     "text": [
      "C:\\Users\\beene\\AppData\\Local\\Temp\\ipykernel_8312\\2322995967.py:25: FutureWarning: The current default of copy=False will change to copy=True in 1.7. Set the value of copy explicitly to avoid this warning\n",
      "  epochs_data = epochs_ar.get_data()\n",
      "C:\\Users\\beene\\AppData\\Local\\Temp\\ipykernel_8312\\2322995967.py:6: RuntimeWarning: This filename (C:/Users/beene/python/ml_term_export/Raw\\sub_31.fif) does not conform to MNE naming conventions. All raw files should end with raw.fif, raw_sss.fif, raw_tsss.fif, _meg.fif, _eeg.fif, _ieeg.fif, raw.fif.gz, raw_sss.fif.gz, raw_tsss.fif.gz, _meg.fif.gz, _eeg.fif.gz or _ieeg.fif.gz\n",
      "  raw = mne.io.read_raw_fif(datlist[sub_i]);\n"
     ]
    },
    {
     "name": "stdout",
     "output_type": "stream",
     "text": [
      "    Range : 0 ... 329897 =      0.000 ...  1319.588 secs\n",
      "Ready.\n",
      "Used Annotations descriptions: ['left_click', 'right_click', 'show_cross', 'show_dash', 'show_letter', 'sound_beep', 'sound_buzz']\n",
      "Not setting metadata\n",
      "25 matching events found\n",
      "No baseline correction applied\n",
      "0 projection items activated\n",
      "Loading data for 25 events and 750 original time points ...\n",
      "0 bad epochs dropped\n",
      "Setting channel interpolation method to {'eeg': 'spline'}.\n",
      "Interpolating bad channels.\n",
      "    Automatic origin fit: head of radius 95.0 mm\n",
      "Computing interpolation matrix from 68 sensor positions\n",
      "Interpolating 1 sensors\n",
      "Fitting ICA to data using 69 channels (please be patient, this may take a while)\n",
      "Selecting by non-zero PCA components: 68 components\n",
      "Fitting ICA took 22.9s.\n",
      "Using EOG channels: LEYE, REYE\n"
     ]
    },
    {
     "name": "stderr",
     "output_type": "stream",
     "text": [
      "c:\\Users\\beene\\anaconda3\\envs\\torch\\lib\\site-packages\\sklearn\\decomposition\\_fastica.py:128: ConvergenceWarning: FastICA did not converge. Consider increasing tolerance or the maximum number of iterations.\n",
      "  warnings.warn(\n"
     ]
    },
    {
     "name": "stdout",
     "output_type": "stream",
     "text": [
      "Applying ICA to Epochs instance\n",
      "    Transforming to ICA space (68 components)\n",
      "    Zeroing out 3 ICA components\n",
      "    Projecting back using 69 PCA components\n",
      "Correct: 22\n",
      "----------32 is running...----------\n",
      "Opening raw data file C:/Users/beene/python/ml_term_export/Raw\\sub_32.fif...\n",
      "    Range : 0 ... 153970 =      0.000 ...   615.880 secs\n",
      "Ready.\n",
      "Used Annotations descriptions: ['left_click', 'right_click', 'show_cross', 'show_dash', 'show_letter', 'sound_beep', 'sound_buzz']\n",
      "Not setting metadata\n",
      "25 matching events found\n",
      "No baseline correction applied\n",
      "0 projection items activated\n",
      "Loading data for 25 events and 750 original time points ...\n"
     ]
    },
    {
     "name": "stderr",
     "output_type": "stream",
     "text": [
      "C:\\Users\\beene\\AppData\\Local\\Temp\\ipykernel_8312\\2322995967.py:25: FutureWarning: The current default of copy=False will change to copy=True in 1.7. Set the value of copy explicitly to avoid this warning\n",
      "  epochs_data = epochs_ar.get_data()\n",
      "C:\\Users\\beene\\AppData\\Local\\Temp\\ipykernel_8312\\2322995967.py:6: RuntimeWarning: This filename (C:/Users/beene/python/ml_term_export/Raw\\sub_32.fif) does not conform to MNE naming conventions. All raw files should end with raw.fif, raw_sss.fif, raw_tsss.fif, _meg.fif, _eeg.fif, _ieeg.fif, raw.fif.gz, raw_sss.fif.gz, raw_tsss.fif.gz, _meg.fif.gz, _eeg.fif.gz or _ieeg.fif.gz\n",
      "  raw = mne.io.read_raw_fif(datlist[sub_i]);\n"
     ]
    },
    {
     "name": "stdout",
     "output_type": "stream",
     "text": [
      "0 bad epochs dropped\n",
      "Setting channel interpolation method to {'eeg': 'spline'}.\n",
      "Interpolating bad channels.\n",
      "    Automatic origin fit: head of radius 95.0 mm\n",
      "Computing interpolation matrix from 63 sensor positions\n",
      "Interpolating 6 sensors\n",
      "Dropped 1 epoch: 18\n",
      "Fitting ICA to data using 69 channels (please be patient, this may take a while)\n",
      "Selecting by non-zero PCA components: 63 components\n",
      "Fitting ICA took 4.7s.\n",
      "Using EOG channels: LEYE, REYE\n",
      "Applying ICA to Epochs instance\n",
      "    Transforming to ICA space (63 components)\n",
      "    Zeroing out 4 ICA components\n",
      "    Projecting back using 69 PCA components\n",
      "Correct: 23\n",
      "----------33 is running...----------\n",
      "Opening raw data file C:/Users/beene/python/ml_term_export/Raw\\sub_33.fif...\n",
      "    Range : 0 ... 157194 =      0.000 ...   628.776 secs\n",
      "Ready.\n",
      "Used Annotations descriptions: ['left_click', 'right_click', 'show_cross', 'show_dash', 'show_letter', 'sound_beep', 'sound_buzz']\n",
      "Not setting metadata\n",
      "25 matching events found\n",
      "No baseline correction applied\n",
      "0 projection items activated\n",
      "Loading data for 25 events and 750 original time points ...\n"
     ]
    },
    {
     "name": "stderr",
     "output_type": "stream",
     "text": [
      "C:\\Users\\beene\\AppData\\Local\\Temp\\ipykernel_8312\\2322995967.py:25: FutureWarning: The current default of copy=False will change to copy=True in 1.7. Set the value of copy explicitly to avoid this warning\n",
      "  epochs_data = epochs_ar.get_data()\n",
      "C:\\Users\\beene\\AppData\\Local\\Temp\\ipykernel_8312\\2322995967.py:6: RuntimeWarning: This filename (C:/Users/beene/python/ml_term_export/Raw\\sub_33.fif) does not conform to MNE naming conventions. All raw files should end with raw.fif, raw_sss.fif, raw_tsss.fif, _meg.fif, _eeg.fif, _ieeg.fif, raw.fif.gz, raw_sss.fif.gz, raw_tsss.fif.gz, _meg.fif.gz, _eeg.fif.gz or _ieeg.fif.gz\n",
      "  raw = mne.io.read_raw_fif(datlist[sub_i]);\n"
     ]
    },
    {
     "name": "stdout",
     "output_type": "stream",
     "text": [
      "0 bad epochs dropped\n",
      "Setting channel interpolation method to {'eeg': 'spline'}.\n",
      "Interpolating bad channels.\n",
      "    Automatic origin fit: head of radius 95.0 mm\n",
      "Computing interpolation matrix from 64 sensor positions\n",
      "Interpolating 5 sensors\n",
      "Dropped 1 epoch: 12\n",
      "Fitting ICA to data using 69 channels (please be patient, this may take a while)\n",
      "Selecting by non-zero PCA components: 64 components\n",
      "Fitting ICA took 4.1s.\n",
      "Using EOG channels: LEYE, REYE\n",
      "Applying ICA to Epochs instance\n",
      "    Transforming to ICA space (64 components)\n",
      "    Zeroing out 1 ICA component\n",
      "    Projecting back using 69 PCA components\n",
      "Dropped 1 epoch: 12\n",
      "Correct: 24\n",
      "----------34 is running...----------\n",
      "Opening raw data file C:/Users/beene/python/ml_term_export/Raw\\sub_34.fif...\n",
      "    Range : 0 ... 156202 =      0.000 ...   624.808 secs\n",
      "Ready.\n",
      "Used Annotations descriptions: ['left_click', 'right_click', 'show_cross', 'show_dash', 'show_letter', 'sound_beep']\n",
      "Not setting metadata\n",
      "25 matching events found\n",
      "No baseline correction applied\n",
      "0 projection items activated\n",
      "Loading data for 25 events and 750 original time points ...\n"
     ]
    },
    {
     "name": "stderr",
     "output_type": "stream",
     "text": [
      "C:\\Users\\beene\\AppData\\Local\\Temp\\ipykernel_8312\\2322995967.py:25: FutureWarning: The current default of copy=False will change to copy=True in 1.7. Set the value of copy explicitly to avoid this warning\n",
      "  epochs_data = epochs_ar.get_data()\n",
      "C:\\Users\\beene\\AppData\\Local\\Temp\\ipykernel_8312\\2322995967.py:6: RuntimeWarning: This filename (C:/Users/beene/python/ml_term_export/Raw\\sub_34.fif) does not conform to MNE naming conventions. All raw files should end with raw.fif, raw_sss.fif, raw_tsss.fif, _meg.fif, _eeg.fif, _ieeg.fif, raw.fif.gz, raw_sss.fif.gz, raw_tsss.fif.gz, _meg.fif.gz, _eeg.fif.gz or _ieeg.fif.gz\n",
      "  raw = mne.io.read_raw_fif(datlist[sub_i]);\n"
     ]
    },
    {
     "name": "stdout",
     "output_type": "stream",
     "text": [
      "0 bad epochs dropped\n",
      "Setting channel interpolation method to {'eeg': 'spline'}.\n",
      "Interpolating bad channels.\n",
      "    Automatic origin fit: head of radius 95.0 mm\n",
      "Computing interpolation matrix from 62 sensor positions\n",
      "Interpolating 7 sensors\n",
      "Dropped 1 epoch: 19\n",
      "Fitting ICA to data using 69 channels (please be patient, this may take a while)\n",
      "Selecting by non-zero PCA components: 62 components\n",
      "Fitting ICA took 2.0s.\n",
      "Using EOG channels: LEYE, REYE\n",
      "Applying ICA to Epochs instance\n",
      "    Transforming to ICA space (62 components)\n",
      "    Zeroing out 3 ICA components\n",
      "    Projecting back using 69 PCA components\n",
      "Dropped 1 epoch: 19\n",
      "Correct: 25\n",
      "----------35 is running...----------\n",
      "Opening raw data file C:/Users/beene/python/ml_term_export/Raw\\sub_35.fif...\n",
      "    Range : 0 ... 159256 =      0.000 ...   637.024 secs\n",
      "Ready.\n",
      "Used Annotations descriptions: ['left_click', 'right_click', 'show_cross', 'show_dash', 'show_letter', 'sound_beep']\n",
      "Not setting metadata\n",
      "25 matching events found\n",
      "No baseline correction applied\n",
      "0 projection items activated\n",
      "Loading data for 25 events and 750 original time points ...\n"
     ]
    },
    {
     "name": "stderr",
     "output_type": "stream",
     "text": [
      "C:\\Users\\beene\\AppData\\Local\\Temp\\ipykernel_8312\\2322995967.py:25: FutureWarning: The current default of copy=False will change to copy=True in 1.7. Set the value of copy explicitly to avoid this warning\n",
      "  epochs_data = epochs_ar.get_data()\n",
      "C:\\Users\\beene\\AppData\\Local\\Temp\\ipykernel_8312\\2322995967.py:6: RuntimeWarning: This filename (C:/Users/beene/python/ml_term_export/Raw\\sub_35.fif) does not conform to MNE naming conventions. All raw files should end with raw.fif, raw_sss.fif, raw_tsss.fif, _meg.fif, _eeg.fif, _ieeg.fif, raw.fif.gz, raw_sss.fif.gz, raw_tsss.fif.gz, _meg.fif.gz, _eeg.fif.gz or _ieeg.fif.gz\n",
      "  raw = mne.io.read_raw_fif(datlist[sub_i]);\n"
     ]
    },
    {
     "name": "stdout",
     "output_type": "stream",
     "text": [
      "0 bad epochs dropped\n",
      "Setting channel interpolation method to {'eeg': 'spline'}.\n",
      "Interpolating bad channels.\n",
      "    Automatic origin fit: head of radius 95.0 mm\n",
      "Computing interpolation matrix from 63 sensor positions\n",
      "Interpolating 6 sensors\n",
      "Fitting ICA to data using 69 channels (please be patient, this may take a while)\n",
      "Selecting by non-zero PCA components: 63 components\n",
      "Fitting ICA took 22.0s.\n",
      "Using EOG channels: LEYE, REYE\n"
     ]
    },
    {
     "name": "stderr",
     "output_type": "stream",
     "text": [
      "c:\\Users\\beene\\anaconda3\\envs\\torch\\lib\\site-packages\\sklearn\\decomposition\\_fastica.py:128: ConvergenceWarning: FastICA did not converge. Consider increasing tolerance or the maximum number of iterations.\n",
      "  warnings.warn(\n"
     ]
    },
    {
     "name": "stdout",
     "output_type": "stream",
     "text": [
      "Applying ICA to Epochs instance\n",
      "    Transforming to ICA space (63 components)\n",
      "    Zeroing out 3 ICA components\n",
      "    Projecting back using 69 PCA components\n",
      "Correct: 25\n",
      "----------36 is running...----------\n",
      "Opening raw data file C:/Users/beene/python/ml_term_export/Raw\\sub_36.fif...\n",
      "    Range : 0 ... 154876 =      0.000 ...   619.504 secs\n",
      "Ready.\n",
      "Used Annotations descriptions: ['left_click', 'right_click', 'show_cross', 'show_dash', 'show_letter', 'sound_beep', 'sound_buzz']\n",
      "Not setting metadata\n",
      "25 matching events found\n",
      "No baseline correction applied\n",
      "0 projection items activated\n",
      "Loading data for 25 events and 750 original time points ...\n"
     ]
    },
    {
     "name": "stderr",
     "output_type": "stream",
     "text": [
      "C:\\Users\\beene\\AppData\\Local\\Temp\\ipykernel_8312\\2322995967.py:25: FutureWarning: The current default of copy=False will change to copy=True in 1.7. Set the value of copy explicitly to avoid this warning\n",
      "  epochs_data = epochs_ar.get_data()\n",
      "C:\\Users\\beene\\AppData\\Local\\Temp\\ipykernel_8312\\2322995967.py:6: RuntimeWarning: This filename (C:/Users/beene/python/ml_term_export/Raw\\sub_36.fif) does not conform to MNE naming conventions. All raw files should end with raw.fif, raw_sss.fif, raw_tsss.fif, _meg.fif, _eeg.fif, _ieeg.fif, raw.fif.gz, raw_sss.fif.gz, raw_tsss.fif.gz, _meg.fif.gz, _eeg.fif.gz or _ieeg.fif.gz\n",
      "  raw = mne.io.read_raw_fif(datlist[sub_i]);\n"
     ]
    },
    {
     "name": "stdout",
     "output_type": "stream",
     "text": [
      "0 bad epochs dropped\n",
      "Setting channel interpolation method to {'eeg': 'spline'}.\n",
      "Interpolating bad channels.\n",
      "    Automatic origin fit: head of radius 95.0 mm\n",
      "Computing interpolation matrix from 55 sensor positions\n",
      "Interpolating 14 sensors\n",
      "Fitting ICA to data using 69 channels (please be patient, this may take a while)\n",
      "Selecting by non-zero PCA components: 55 components\n",
      "Fitting ICA took 18.0s.\n",
      "Using EOG channels: LEYE, REYE\n"
     ]
    },
    {
     "name": "stderr",
     "output_type": "stream",
     "text": [
      "c:\\Users\\beene\\anaconda3\\envs\\torch\\lib\\site-packages\\sklearn\\decomposition\\_fastica.py:128: ConvergenceWarning: FastICA did not converge. Consider increasing tolerance or the maximum number of iterations.\n",
      "  warnings.warn(\n"
     ]
    },
    {
     "name": "stdout",
     "output_type": "stream",
     "text": [
      "Applying ICA to Epochs instance\n",
      "    Transforming to ICA space (55 components)\n",
      "    Zeroing out 2 ICA components\n",
      "    Projecting back using 69 PCA components\n",
      "Correct: 24\n",
      "----------37 is running...----------\n",
      "Opening raw data file C:/Users/beene/python/ml_term_export/Raw\\sub_37.fif...\n",
      "    Range : 0 ... 148325 =      0.000 ...   593.300 secs\n",
      "Ready.\n",
      "Used Annotations descriptions: ['left_click', 'right_click', 'show_cross', 'show_dash', 'show_letter', 'sound_beep', 'sound_buzz']\n",
      "Not setting metadata\n",
      "25 matching events found\n",
      "No baseline correction applied\n",
      "0 projection items activated\n",
      "Loading data for 25 events and 750 original time points ...\n"
     ]
    },
    {
     "name": "stderr",
     "output_type": "stream",
     "text": [
      "C:\\Users\\beene\\AppData\\Local\\Temp\\ipykernel_8312\\2322995967.py:25: FutureWarning: The current default of copy=False will change to copy=True in 1.7. Set the value of copy explicitly to avoid this warning\n",
      "  epochs_data = epochs_ar.get_data()\n",
      "C:\\Users\\beene\\AppData\\Local\\Temp\\ipykernel_8312\\2322995967.py:6: RuntimeWarning: This filename (C:/Users/beene/python/ml_term_export/Raw\\sub_37.fif) does not conform to MNE naming conventions. All raw files should end with raw.fif, raw_sss.fif, raw_tsss.fif, _meg.fif, _eeg.fif, _ieeg.fif, raw.fif.gz, raw_sss.fif.gz, raw_tsss.fif.gz, _meg.fif.gz, _eeg.fif.gz or _ieeg.fif.gz\n",
      "  raw = mne.io.read_raw_fif(datlist[sub_i]);\n"
     ]
    },
    {
     "name": "stdout",
     "output_type": "stream",
     "text": [
      "0 bad epochs dropped\n",
      "Setting channel interpolation method to {'eeg': 'spline'}.\n",
      "Interpolating bad channels.\n",
      "    Automatic origin fit: head of radius 95.0 mm\n",
      "Computing interpolation matrix from 56 sensor positions\n",
      "Interpolating 13 sensors\n",
      "Dropped 2 epochs: 16, 23\n",
      "Fitting ICA to data using 69 channels (please be patient, this may take a while)\n",
      "Selecting by non-zero PCA components: 56 components\n",
      "Fitting ICA took 17.4s.\n",
      "Using EOG channels: LEYE, REYE\n"
     ]
    },
    {
     "name": "stderr",
     "output_type": "stream",
     "text": [
      "c:\\Users\\beene\\anaconda3\\envs\\torch\\lib\\site-packages\\sklearn\\decomposition\\_fastica.py:128: ConvergenceWarning: FastICA did not converge. Consider increasing tolerance or the maximum number of iterations.\n",
      "  warnings.warn(\n"
     ]
    },
    {
     "name": "stdout",
     "output_type": "stream",
     "text": [
      "Applying ICA to Epochs instance\n",
      "    Transforming to ICA space (56 components)\n",
      "    Zeroing out 4 ICA components\n",
      "    Projecting back using 69 PCA components\n",
      "Correct: 23\n",
      "----------38 is running...----------\n",
      "Opening raw data file C:/Users/beene/python/ml_term_export/Raw\\sub_38.fif...\n",
      "    Range : 0 ... 148570 =      0.000 ...   594.280 secs\n",
      "Ready.\n",
      "Used Annotations descriptions: ['left_click', 'right_click', 'show_cross', 'show_dash', 'show_letter', 'sound_beep', 'sound_buzz']\n",
      "Not setting metadata\n",
      "25 matching events found\n",
      "No baseline correction applied\n",
      "0 projection items activated\n",
      "Loading data for 25 events and 750 original time points ...\n"
     ]
    },
    {
     "name": "stderr",
     "output_type": "stream",
     "text": [
      "C:\\Users\\beene\\AppData\\Local\\Temp\\ipykernel_8312\\2322995967.py:25: FutureWarning: The current default of copy=False will change to copy=True in 1.7. Set the value of copy explicitly to avoid this warning\n",
      "  epochs_data = epochs_ar.get_data()\n",
      "C:\\Users\\beene\\AppData\\Local\\Temp\\ipykernel_8312\\2322995967.py:6: RuntimeWarning: This filename (C:/Users/beene/python/ml_term_export/Raw\\sub_38.fif) does not conform to MNE naming conventions. All raw files should end with raw.fif, raw_sss.fif, raw_tsss.fif, _meg.fif, _eeg.fif, _ieeg.fif, raw.fif.gz, raw_sss.fif.gz, raw_tsss.fif.gz, _meg.fif.gz, _eeg.fif.gz or _ieeg.fif.gz\n",
      "  raw = mne.io.read_raw_fif(datlist[sub_i]);\n"
     ]
    },
    {
     "name": "stdout",
     "output_type": "stream",
     "text": [
      "0 bad epochs dropped\n",
      "Setting channel interpolation method to {'eeg': 'spline'}.\n",
      "Interpolating bad channels.\n",
      "    Automatic origin fit: head of radius 95.0 mm\n",
      "Computing interpolation matrix from 56 sensor positions\n",
      "Interpolating 13 sensors\n",
      "Dropped 1 epoch: 15\n",
      "Fitting ICA to data using 69 channels (please be patient, this may take a while)\n",
      "Selecting by non-zero PCA components: 56 components\n",
      "Fitting ICA took 18.1s.\n",
      "Using EOG channels: LEYE, REYE\n"
     ]
    },
    {
     "name": "stderr",
     "output_type": "stream",
     "text": [
      "c:\\Users\\beene\\anaconda3\\envs\\torch\\lib\\site-packages\\sklearn\\decomposition\\_fastica.py:128: ConvergenceWarning: FastICA did not converge. Consider increasing tolerance or the maximum number of iterations.\n",
      "  warnings.warn(\n"
     ]
    },
    {
     "name": "stdout",
     "output_type": "stream",
     "text": [
      "Applying ICA to Epochs instance\n",
      "    Transforming to ICA space (56 components)\n",
      "    Zeroing out 2 ICA components\n",
      "    Projecting back using 69 PCA components\n",
      "Dropped 1 epoch: 15\n",
      "Correct: 23\n",
      "----------39 is running...----------\n",
      "Opening raw data file C:/Users/beene/python/ml_term_export/Raw\\sub_39.fif...\n",
      "    Range : 0 ... 147959 =      0.000 ...   591.836 secs\n",
      "Ready.\n",
      "Used Annotations descriptions: ['left_click', 'right_click', 'show_cross', 'show_dash', 'show_letter', 'sound_beep']\n",
      "Not setting metadata\n",
      "25 matching events found\n",
      "No baseline correction applied\n",
      "0 projection items activated\n",
      "Loading data for 25 events and 750 original time points ...\n"
     ]
    },
    {
     "name": "stderr",
     "output_type": "stream",
     "text": [
      "C:\\Users\\beene\\AppData\\Local\\Temp\\ipykernel_8312\\2322995967.py:25: FutureWarning: The current default of copy=False will change to copy=True in 1.7. Set the value of copy explicitly to avoid this warning\n",
      "  epochs_data = epochs_ar.get_data()\n",
      "C:\\Users\\beene\\AppData\\Local\\Temp\\ipykernel_8312\\2322995967.py:6: RuntimeWarning: This filename (C:/Users/beene/python/ml_term_export/Raw\\sub_39.fif) does not conform to MNE naming conventions. All raw files should end with raw.fif, raw_sss.fif, raw_tsss.fif, _meg.fif, _eeg.fif, _ieeg.fif, raw.fif.gz, raw_sss.fif.gz, raw_tsss.fif.gz, _meg.fif.gz, _eeg.fif.gz or _ieeg.fif.gz\n",
      "  raw = mne.io.read_raw_fif(datlist[sub_i]);\n"
     ]
    },
    {
     "name": "stdout",
     "output_type": "stream",
     "text": [
      "0 bad epochs dropped\n",
      "Setting channel interpolation method to {'eeg': 'spline'}.\n",
      "Interpolating bad channels.\n",
      "    Automatic origin fit: head of radius 95.0 mm\n",
      "Computing interpolation matrix from 59 sensor positions\n",
      "Interpolating 10 sensors\n",
      "Dropped 7 epochs: 1, 6, 9, 10, 19, 20, 24\n",
      "Fitting ICA to data using 69 channels (please be patient, this may take a while)\n",
      "Selecting by non-zero PCA components: 59 components\n",
      "Fitting ICA took 6.4s.\n",
      "Using EOG channels: LEYE, REYE\n",
      "Applying ICA to Epochs instance\n",
      "    Transforming to ICA space (59 components)\n",
      "    Zeroing out 0 ICA components\n",
      "    Projecting back using 69 PCA components\n",
      "Dropped 7 epochs: 1, 6, 9, 10, 19, 20, 24\n",
      "Correct: 25\n",
      "----------40 is running...----------\n",
      "Opening raw data file C:/Users/beene/python/ml_term_export/Raw\\sub_40.fif...\n",
      "    Range : 0 ... 187846 =      0.000 ...   751.384 secs\n",
      "Ready.\n",
      "Used Annotations descriptions: ['left_click', 'right_click', 'show_cross', 'show_dash', 'show_letter', 'sound_beep']\n"
     ]
    },
    {
     "name": "stderr",
     "output_type": "stream",
     "text": [
      "C:\\Users\\beene\\AppData\\Local\\Temp\\ipykernel_8312\\2322995967.py:25: FutureWarning: The current default of copy=False will change to copy=True in 1.7. Set the value of copy explicitly to avoid this warning\n",
      "  epochs_data = epochs_ar.get_data()\n",
      "C:\\Users\\beene\\AppData\\Local\\Temp\\ipykernel_8312\\2322995967.py:6: RuntimeWarning: This filename (C:/Users/beene/python/ml_term_export/Raw\\sub_40.fif) does not conform to MNE naming conventions. All raw files should end with raw.fif, raw_sss.fif, raw_tsss.fif, _meg.fif, _eeg.fif, _ieeg.fif, raw.fif.gz, raw_sss.fif.gz, raw_tsss.fif.gz, _meg.fif.gz, _eeg.fif.gz or _ieeg.fif.gz\n",
      "  raw = mne.io.read_raw_fif(datlist[sub_i]);\n"
     ]
    },
    {
     "name": "stdout",
     "output_type": "stream",
     "text": [
      "Not setting metadata\n",
      "25 matching events found\n",
      "No baseline correction applied\n",
      "0 projection items activated\n",
      "Loading data for 25 events and 750 original time points ...\n",
      "0 bad epochs dropped\n",
      "Setting channel interpolation method to {'eeg': 'spline'}.\n",
      "Interpolating bad channels.\n",
      "    Automatic origin fit: head of radius 95.0 mm\n",
      "Computing interpolation matrix from 61 sensor positions\n",
      "Interpolating 8 sensors\n",
      "Fitting ICA to data using 69 channels (please be patient, this may take a while)\n",
      "Selecting by non-zero PCA components: 61 components\n",
      "Fitting ICA took 2.0s.\n",
      "Using EOG channels: LEYE, REYE\n",
      "Applying ICA to Epochs instance\n",
      "    Transforming to ICA space (61 components)\n",
      "    Zeroing out 2 ICA components\n",
      "    Projecting back using 69 PCA components\n",
      "Correct: 25\n",
      "----------41 is running...----------\n",
      "Opening raw data file C:/Users/beene/python/ml_term_export/Raw\\sub_41.fif...\n",
      "    Range : 0 ... 191646 =      0.000 ...   766.584 secs\n",
      "Ready.\n",
      "Used Annotations descriptions: ['left_click', 'right_click', 'show_cross', 'show_dash', 'show_letter', 'sound_beep', 'sound_buzz']\n",
      "Not setting metadata\n",
      "25 matching events found\n",
      "No baseline correction applied\n",
      "0 projection items activated\n",
      "Loading data for 25 events and 750 original time points ...\n"
     ]
    },
    {
     "name": "stderr",
     "output_type": "stream",
     "text": [
      "C:\\Users\\beene\\AppData\\Local\\Temp\\ipykernel_8312\\2322995967.py:25: FutureWarning: The current default of copy=False will change to copy=True in 1.7. Set the value of copy explicitly to avoid this warning\n",
      "  epochs_data = epochs_ar.get_data()\n",
      "C:\\Users\\beene\\AppData\\Local\\Temp\\ipykernel_8312\\2322995967.py:6: RuntimeWarning: This filename (C:/Users/beene/python/ml_term_export/Raw\\sub_41.fif) does not conform to MNE naming conventions. All raw files should end with raw.fif, raw_sss.fif, raw_tsss.fif, _meg.fif, _eeg.fif, _ieeg.fif, raw.fif.gz, raw_sss.fif.gz, raw_tsss.fif.gz, _meg.fif.gz, _eeg.fif.gz or _ieeg.fif.gz\n",
      "  raw = mne.io.read_raw_fif(datlist[sub_i]);\n"
     ]
    },
    {
     "name": "stdout",
     "output_type": "stream",
     "text": [
      "0 bad epochs dropped\n",
      "Setting channel interpolation method to {'eeg': 'spline'}.\n",
      "Interpolating bad channels.\n",
      "    Automatic origin fit: head of radius 95.0 mm\n",
      "Computing interpolation matrix from 61 sensor positions\n",
      "Interpolating 8 sensors\n",
      "Fitting ICA to data using 69 channels (please be patient, this may take a while)\n",
      "Selecting by non-zero PCA components: 61 components\n",
      "Fitting ICA took 1.4s.\n",
      "Using EOG channels: LEYE, REYE\n",
      "Applying ICA to Epochs instance\n",
      "    Transforming to ICA space (61 components)\n",
      "    Zeroing out 4 ICA components\n",
      "    Projecting back using 69 PCA components\n",
      "Correct: 24\n",
      "----------42 is running...----------\n",
      "Opening raw data file C:/Users/beene/python/ml_term_export/Raw\\sub_42.fif...\n",
      "    Range : 0 ... 212630 =      0.000 ...   850.520 secs\n",
      "Ready.\n",
      "Used Annotations descriptions: ['left_click', 'right_click', 'show_cross', 'show_dash', 'show_letter', 'sound_beep', 'sound_buzz']\n"
     ]
    },
    {
     "name": "stderr",
     "output_type": "stream",
     "text": [
      "C:\\Users\\beene\\AppData\\Local\\Temp\\ipykernel_8312\\2322995967.py:25: FutureWarning: The current default of copy=False will change to copy=True in 1.7. Set the value of copy explicitly to avoid this warning\n",
      "  epochs_data = epochs_ar.get_data()\n",
      "C:\\Users\\beene\\AppData\\Local\\Temp\\ipykernel_8312\\2322995967.py:6: RuntimeWarning: This filename (C:/Users/beene/python/ml_term_export/Raw\\sub_42.fif) does not conform to MNE naming conventions. All raw files should end with raw.fif, raw_sss.fif, raw_tsss.fif, _meg.fif, _eeg.fif, _ieeg.fif, raw.fif.gz, raw_sss.fif.gz, raw_tsss.fif.gz, _meg.fif.gz, _eeg.fif.gz or _ieeg.fif.gz\n",
      "  raw = mne.io.read_raw_fif(datlist[sub_i]);\n"
     ]
    },
    {
     "name": "stdout",
     "output_type": "stream",
     "text": [
      "Not setting metadata\n",
      "25 matching events found\n",
      "No baseline correction applied\n",
      "0 projection items activated\n",
      "Loading data for 25 events and 750 original time points ...\n",
      "0 bad epochs dropped\n",
      "Setting channel interpolation method to {'eeg': 'spline'}.\n",
      "Interpolating bad channels.\n",
      "    Automatic origin fit: head of radius 95.0 mm\n",
      "Computing interpolation matrix from 59 sensor positions\n",
      "Interpolating 10 sensors\n",
      "Dropped 1 epoch: 1\n",
      "Fitting ICA to data using 69 channels (please be patient, this may take a while)\n",
      "Selecting by non-zero PCA components: 59 components\n",
      "Fitting ICA took 1.3s.\n",
      "Using EOG channels: LEYE, REYE\n",
      "Applying ICA to Epochs instance\n",
      "    Transforming to ICA space (59 components)\n",
      "    Zeroing out 3 ICA components\n",
      "    Projecting back using 69 PCA components\n",
      "Correct: 24\n",
      "----------43 is running...----------\n",
      "Opening raw data file C:/Users/beene/python/ml_term_export/Raw\\sub_43.fif...\n",
      "    Range : 0 ... 203450 =      0.000 ...   813.800 secs\n",
      "Ready.\n",
      "Used Annotations descriptions: ['left_click', 'right_click', 'show_cross', 'show_dash', 'show_letter', 'sound_beep', 'sound_buzz']\n",
      "Not setting metadata\n",
      "25 matching events found\n",
      "No baseline correction applied\n",
      "0 projection items activated\n",
      "Loading data for 25 events and 750 original time points ...\n"
     ]
    },
    {
     "name": "stderr",
     "output_type": "stream",
     "text": [
      "C:\\Users\\beene\\AppData\\Local\\Temp\\ipykernel_8312\\2322995967.py:25: FutureWarning: The current default of copy=False will change to copy=True in 1.7. Set the value of copy explicitly to avoid this warning\n",
      "  epochs_data = epochs_ar.get_data()\n",
      "C:\\Users\\beene\\AppData\\Local\\Temp\\ipykernel_8312\\2322995967.py:6: RuntimeWarning: This filename (C:/Users/beene/python/ml_term_export/Raw\\sub_43.fif) does not conform to MNE naming conventions. All raw files should end with raw.fif, raw_sss.fif, raw_tsss.fif, _meg.fif, _eeg.fif, _ieeg.fif, raw.fif.gz, raw_sss.fif.gz, raw_tsss.fif.gz, _meg.fif.gz, _eeg.fif.gz or _ieeg.fif.gz\n",
      "  raw = mne.io.read_raw_fif(datlist[sub_i]);\n"
     ]
    },
    {
     "name": "stdout",
     "output_type": "stream",
     "text": [
      "0 bad epochs dropped\n",
      "Setting channel interpolation method to {'eeg': 'spline'}.\n",
      "Interpolating bad channels.\n",
      "    Automatic origin fit: head of radius 95.0 mm\n",
      "Computing interpolation matrix from 63 sensor positions\n",
      "Interpolating 6 sensors\n",
      "Fitting ICA to data using 69 channels (please be patient, this may take a while)\n",
      "Selecting by non-zero PCA components: 63 components\n",
      "Fitting ICA took 2.6s.\n",
      "Using EOG channels: LEYE, REYE\n",
      "Applying ICA to Epochs instance\n",
      "    Transforming to ICA space (63 components)\n",
      "    Zeroing out 3 ICA components\n",
      "    Projecting back using 69 PCA components\n",
      "Correct: 22\n",
      "----------44 is running...----------\n",
      "Opening raw data file C:/Users/beene/python/ml_term_export/Raw\\sub_44.fif...\n",
      "    Range : 0 ... 136498 =      0.000 ...   545.992 secs\n",
      "Ready.\n",
      "Used Annotations descriptions: ['left_click', 'right_click', 'show_cross', 'show_dash', 'show_letter', 'sound_beep']\n",
      "Not setting metadata\n",
      "25 matching events found\n",
      "No baseline correction applied\n",
      "0 projection items activated\n",
      "Loading data for 25 events and 750 original time points ...\n",
      "0 bad epochs dropped\n"
     ]
    },
    {
     "name": "stderr",
     "output_type": "stream",
     "text": [
      "C:\\Users\\beene\\AppData\\Local\\Temp\\ipykernel_8312\\2322995967.py:25: FutureWarning: The current default of copy=False will change to copy=True in 1.7. Set the value of copy explicitly to avoid this warning\n",
      "  epochs_data = epochs_ar.get_data()\n",
      "C:\\Users\\beene\\AppData\\Local\\Temp\\ipykernel_8312\\2322995967.py:6: RuntimeWarning: This filename (C:/Users/beene/python/ml_term_export/Raw\\sub_44.fif) does not conform to MNE naming conventions. All raw files should end with raw.fif, raw_sss.fif, raw_tsss.fif, _meg.fif, _eeg.fif, _ieeg.fif, raw.fif.gz, raw_sss.fif.gz, raw_tsss.fif.gz, _meg.fif.gz, _eeg.fif.gz or _ieeg.fif.gz\n",
      "  raw = mne.io.read_raw_fif(datlist[sub_i]);\n"
     ]
    },
    {
     "name": "stdout",
     "output_type": "stream",
     "text": [
      "Setting channel interpolation method to {'eeg': 'spline'}.\n",
      "Interpolating bad channels.\n",
      "    Automatic origin fit: head of radius 95.0 mm\n",
      "Computing interpolation matrix from 61 sensor positions\n",
      "Interpolating 8 sensors\n",
      "Dropped 7 epochs: 8, 11, 12, 20, 21, 22, 23\n",
      "Fitting ICA to data using 69 channels (please be patient, this may take a while)\n",
      "Selecting by non-zero PCA components: 61 components\n",
      "Fitting ICA took 1.6s.\n",
      "Using EOG channels: LEYE, REYE\n",
      "Applying ICA to Epochs instance\n",
      "    Transforming to ICA space (61 components)\n",
      "    Zeroing out 4 ICA components\n",
      "    Projecting back using 69 PCA components\n",
      "Dropped 4 epochs: 8, 11, 12, 21\n",
      "Correct: 25\n",
      "----------45 is running...----------\n",
      "Opening raw data file C:/Users/beene/python/ml_term_export/Raw\\sub_45.fif...\n",
      "    Range : 0 ... 140934 =      0.000 ...   563.736 secs\n",
      "Ready.\n",
      "Used Annotations descriptions: ['left_click', 'right_click', 'show_cross', 'show_dash', 'show_letter', 'sound_beep']\n",
      "Not setting metadata\n",
      "25 matching events found\n",
      "No baseline correction applied\n",
      "0 projection items activated\n",
      "Loading data for 25 events and 750 original time points ...\n"
     ]
    },
    {
     "name": "stderr",
     "output_type": "stream",
     "text": [
      "C:\\Users\\beene\\AppData\\Local\\Temp\\ipykernel_8312\\2322995967.py:25: FutureWarning: The current default of copy=False will change to copy=True in 1.7. Set the value of copy explicitly to avoid this warning\n",
      "  epochs_data = epochs_ar.get_data()\n",
      "C:\\Users\\beene\\AppData\\Local\\Temp\\ipykernel_8312\\2322995967.py:6: RuntimeWarning: This filename (C:/Users/beene/python/ml_term_export/Raw\\sub_45.fif) does not conform to MNE naming conventions. All raw files should end with raw.fif, raw_sss.fif, raw_tsss.fif, _meg.fif, _eeg.fif, _ieeg.fif, raw.fif.gz, raw_sss.fif.gz, raw_tsss.fif.gz, _meg.fif.gz, _eeg.fif.gz or _ieeg.fif.gz\n",
      "  raw = mne.io.read_raw_fif(datlist[sub_i]);\n"
     ]
    },
    {
     "name": "stdout",
     "output_type": "stream",
     "text": [
      "0 bad epochs dropped\n",
      "Setting channel interpolation method to {'eeg': 'spline'}.\n",
      "Interpolating bad channels.\n",
      "    Automatic origin fit: head of radius 95.0 mm\n",
      "Computing interpolation matrix from 61 sensor positions\n",
      "Interpolating 8 sensors\n",
      "Dropped 4 epochs: 1, 4, 8, 23\n",
      "Fitting ICA to data using 69 channels (please be patient, this may take a while)\n",
      "Selecting by non-zero PCA components: 61 components\n",
      "Fitting ICA took 1.3s.\n",
      "Using EOG channels: LEYE, REYE\n",
      "Applying ICA to Epochs instance\n",
      "    Transforming to ICA space (61 components)\n",
      "    Zeroing out 4 ICA components\n",
      "    Projecting back using 69 PCA components\n",
      "Dropped 3 epochs: 4, 8, 23\n",
      "Correct: 25\n",
      "----------46 is running...----------\n",
      "Opening raw data file C:/Users/beene/python/ml_term_export/Raw\\sub_46.fif...\n",
      "    Range : 0 ... 139548 =      0.000 ...   558.192 secs\n",
      "Ready.\n",
      "Used Annotations descriptions: ['left_click', 'right_click', 'show_cross', 'show_dash', 'show_letter', 'sound_beep']\n",
      "Not setting metadata\n",
      "25 matching events found\n",
      "No baseline correction applied\n",
      "0 projection items activated\n",
      "Loading data for 25 events and 750 original time points ...\n"
     ]
    },
    {
     "name": "stderr",
     "output_type": "stream",
     "text": [
      "C:\\Users\\beene\\AppData\\Local\\Temp\\ipykernel_8312\\2322995967.py:25: FutureWarning: The current default of copy=False will change to copy=True in 1.7. Set the value of copy explicitly to avoid this warning\n",
      "  epochs_data = epochs_ar.get_data()\n",
      "C:\\Users\\beene\\AppData\\Local\\Temp\\ipykernel_8312\\2322995967.py:6: RuntimeWarning: This filename (C:/Users/beene/python/ml_term_export/Raw\\sub_46.fif) does not conform to MNE naming conventions. All raw files should end with raw.fif, raw_sss.fif, raw_tsss.fif, _meg.fif, _eeg.fif, _ieeg.fif, raw.fif.gz, raw_sss.fif.gz, raw_tsss.fif.gz, _meg.fif.gz, _eeg.fif.gz or _ieeg.fif.gz\n",
      "  raw = mne.io.read_raw_fif(datlist[sub_i]);\n"
     ]
    },
    {
     "name": "stdout",
     "output_type": "stream",
     "text": [
      "0 bad epochs dropped\n",
      "Setting channel interpolation method to {'eeg': 'spline'}.\n",
      "Interpolating bad channels.\n",
      "    Automatic origin fit: head of radius 95.0 mm\n",
      "Computing interpolation matrix from 62 sensor positions\n",
      "Interpolating 7 sensors\n",
      "Dropped 8 epochs: 0, 1, 2, 7, 8, 12, 15, 21\n",
      "Fitting ICA to data using 69 channels (please be patient, this may take a while)\n",
      "Selecting by non-zero PCA components: 62 components\n",
      "Fitting ICA took 1.3s.\n",
      "Using EOG channels: LEYE, REYE\n",
      "Applying ICA to Epochs instance\n",
      "    Transforming to ICA space (62 components)\n",
      "    Zeroing out 4 ICA components\n",
      "    Projecting back using 69 PCA components\n",
      "Dropped 5 epochs: 0, 1, 8, 12, 21\n",
      "Correct: 25\n",
      "----------47 is running...----------\n",
      "Opening raw data file C:/Users/beene/python/ml_term_export/Raw\\sub_47.fif...\n",
      "    Range : 0 ... 588800 =      0.000 ...   588.800 secs\n",
      "Ready.\n"
     ]
    },
    {
     "name": "stderr",
     "output_type": "stream",
     "text": [
      "C:\\Users\\beene\\AppData\\Local\\Temp\\ipykernel_8312\\2322995967.py:25: FutureWarning: The current default of copy=False will change to copy=True in 1.7. Set the value of copy explicitly to avoid this warning\n",
      "  epochs_data = epochs_ar.get_data()\n",
      "C:\\Users\\beene\\AppData\\Local\\Temp\\ipykernel_8312\\2322995967.py:6: RuntimeWarning: This filename (C:/Users/beene/python/ml_term_export/Raw\\sub_47.fif) does not conform to MNE naming conventions. All raw files should end with raw.fif, raw_sss.fif, raw_tsss.fif, _meg.fif, _eeg.fif, _ieeg.fif, raw.fif.gz, raw_sss.fif.gz, raw_tsss.fif.gz, _meg.fif.gz, _eeg.fif.gz or _ieeg.fif.gz\n",
      "  raw = mne.io.read_raw_fif(datlist[sub_i]);\n"
     ]
    },
    {
     "name": "stdout",
     "output_type": "stream",
     "text": [
      "Used Annotations descriptions: ['left_click', 'right_click', 'show_cross', 'show_dash', 'show_letter', 'sound_beep', 'sound_buzz']\n",
      "Not setting metadata\n",
      "24 matching events found\n",
      "No baseline correction applied\n",
      "0 projection items activated\n",
      "Using data from preloaded Raw for 24 events and 750 original time points ...\n",
      "0 bad epochs dropped\n",
      "Setting channel interpolation method to {'eeg': 'spline'}.\n",
      "Interpolating bad channels.\n",
      "    Automatic origin fit: head of radius 95.0 mm\n",
      "Computing interpolation matrix from 68 sensor positions\n",
      "Interpolating 1 sensors\n",
      "Fitting ICA to data using 69 channels (please be patient, this may take a while)\n",
      "Selecting by non-zero PCA components: 68 components\n",
      "Fitting ICA took 16.7s.\n",
      "Using EOG channels: LEYE, REYE\n",
      "Applying ICA to Epochs instance\n",
      "    Transforming to ICA space (68 components)\n",
      "    Zeroing out 4 ICA components\n",
      "    Projecting back using 69 PCA components\n",
      "Correct: 23\n",
      "----------48 is running...----------\n",
      "Opening raw data file C:/Users/beene/python/ml_term_export/Raw\\sub_48.fif...\n",
      "    Range : 0 ... 606464 =      0.000 ...   606.464 secs\n",
      "Ready.\n"
     ]
    },
    {
     "name": "stderr",
     "output_type": "stream",
     "text": [
      "C:\\Users\\beene\\AppData\\Local\\Temp\\ipykernel_8312\\2322995967.py:25: FutureWarning: The current default of copy=False will change to copy=True in 1.7. Set the value of copy explicitly to avoid this warning\n",
      "  epochs_data = epochs_ar.get_data()\n",
      "C:\\Users\\beene\\AppData\\Local\\Temp\\ipykernel_8312\\2322995967.py:6: RuntimeWarning: This filename (C:/Users/beene/python/ml_term_export/Raw\\sub_48.fif) does not conform to MNE naming conventions. All raw files should end with raw.fif, raw_sss.fif, raw_tsss.fif, _meg.fif, _eeg.fif, _ieeg.fif, raw.fif.gz, raw_sss.fif.gz, raw_tsss.fif.gz, _meg.fif.gz, _eeg.fif.gz or _ieeg.fif.gz\n",
      "  raw = mne.io.read_raw_fif(datlist[sub_i]);\n"
     ]
    },
    {
     "name": "stdout",
     "output_type": "stream",
     "text": [
      "Used Annotations descriptions: ['left_click', 'right_click', 'show_cross', 'show_dash', 'show_letter', 'sound_beep', 'sound_buzz']\n",
      "Not setting metadata\n",
      "23 matching events found\n",
      "No baseline correction applied\n",
      "0 projection items activated\n",
      "Using data from preloaded Raw for 23 events and 750 original time points ...\n",
      "0 bad epochs dropped\n",
      "Setting channel interpolation method to {'eeg': 'spline'}.\n",
      "Interpolating bad channels.\n",
      "    Automatic origin fit: head of radius 95.0 mm\n",
      "Computing interpolation matrix from 65 sensor positions\n",
      "Interpolating 4 sensors\n",
      "Fitting ICA to data using 69 channels (please be patient, this may take a while)\n",
      "Selecting by non-zero PCA components: 65 components\n",
      "Fitting ICA took 21.3s.\n",
      "Using EOG channels: LEYE, REYE\n"
     ]
    },
    {
     "name": "stderr",
     "output_type": "stream",
     "text": [
      "c:\\Users\\beene\\anaconda3\\envs\\torch\\lib\\site-packages\\sklearn\\decomposition\\_fastica.py:128: ConvergenceWarning: FastICA did not converge. Consider increasing tolerance or the maximum number of iterations.\n",
      "  warnings.warn(\n"
     ]
    },
    {
     "name": "stdout",
     "output_type": "stream",
     "text": [
      "Applying ICA to Epochs instance\n",
      "    Transforming to ICA space (65 components)\n",
      "    Zeroing out 2 ICA components\n",
      "    Projecting back using 69 PCA components\n",
      "Correct: 21\n",
      "----------49 is running...----------\n",
      "Opening raw data file C:/Users/beene/python/ml_term_export/Raw\\sub_49.fif...\n",
      "    Range : 0 ... 595966 =      0.000 ...   595.966 secs\n",
      "Ready.\n"
     ]
    },
    {
     "name": "stderr",
     "output_type": "stream",
     "text": [
      "C:\\Users\\beene\\AppData\\Local\\Temp\\ipykernel_8312\\2322995967.py:25: FutureWarning: The current default of copy=False will change to copy=True in 1.7. Set the value of copy explicitly to avoid this warning\n",
      "  epochs_data = epochs_ar.get_data()\n",
      "C:\\Users\\beene\\AppData\\Local\\Temp\\ipykernel_8312\\2322995967.py:6: RuntimeWarning: This filename (C:/Users/beene/python/ml_term_export/Raw\\sub_49.fif) does not conform to MNE naming conventions. All raw files should end with raw.fif, raw_sss.fif, raw_tsss.fif, _meg.fif, _eeg.fif, _ieeg.fif, raw.fif.gz, raw_sss.fif.gz, raw_tsss.fif.gz, _meg.fif.gz, _eeg.fif.gz or _ieeg.fif.gz\n",
      "  raw = mne.io.read_raw_fif(datlist[sub_i]);\n"
     ]
    },
    {
     "name": "stdout",
     "output_type": "stream",
     "text": [
      "Used Annotations descriptions: ['left_click', 'right_click', 'show_cross', 'show_dash', 'show_letter', 'sound_beep', 'sound_buzz']\n",
      "Not setting metadata\n",
      "24 matching events found\n",
      "No baseline correction applied\n",
      "0 projection items activated\n",
      "Using data from preloaded Raw for 24 events and 750 original time points ...\n",
      "0 bad epochs dropped\n",
      "Setting channel interpolation method to {'eeg': 'spline'}.\n",
      "Interpolating bad channels.\n",
      "    Automatic origin fit: head of radius 95.0 mm\n",
      "Computing interpolation matrix from 65 sensor positions\n",
      "Interpolating 4 sensors\n",
      "Dropped 2 epochs: 0, 15\n",
      "Fitting ICA to data using 69 channels (please be patient, this may take a while)\n",
      "Selecting by non-zero PCA components: 65 components\n",
      "Fitting ICA took 20.4s.\n",
      "Using EOG channels: LEYE, REYE\n"
     ]
    },
    {
     "name": "stderr",
     "output_type": "stream",
     "text": [
      "c:\\Users\\beene\\anaconda3\\envs\\torch\\lib\\site-packages\\sklearn\\decomposition\\_fastica.py:128: ConvergenceWarning: FastICA did not converge. Consider increasing tolerance or the maximum number of iterations.\n",
      "  warnings.warn(\n"
     ]
    },
    {
     "name": "stdout",
     "output_type": "stream",
     "text": [
      "Applying ICA to Epochs instance\n",
      "    Transforming to ICA space (65 components)\n",
      "    Zeroing out 3 ICA components\n",
      "    Projecting back using 69 PCA components\n",
      "Correct: 23\n",
      "----------50 is running...----------\n",
      "Opening raw data file C:/Users/beene/python/ml_term_export/Raw\\sub_50.fif...\n",
      "    Range : 0 ... 299519 =      0.000 ...   599.038 secs\n",
      "Ready.\n"
     ]
    },
    {
     "name": "stderr",
     "output_type": "stream",
     "text": [
      "C:\\Users\\beene\\AppData\\Local\\Temp\\ipykernel_8312\\2322995967.py:25: FutureWarning: The current default of copy=False will change to copy=True in 1.7. Set the value of copy explicitly to avoid this warning\n",
      "  epochs_data = epochs_ar.get_data()\n",
      "C:\\Users\\beene\\AppData\\Local\\Temp\\ipykernel_8312\\2322995967.py:6: RuntimeWarning: This filename (C:/Users/beene/python/ml_term_export/Raw\\sub_50.fif) does not conform to MNE naming conventions. All raw files should end with raw.fif, raw_sss.fif, raw_tsss.fif, _meg.fif, _eeg.fif, _ieeg.fif, raw.fif.gz, raw_sss.fif.gz, raw_tsss.fif.gz, _meg.fif.gz, _eeg.fif.gz or _ieeg.fif.gz\n",
      "  raw = mne.io.read_raw_fif(datlist[sub_i]);\n"
     ]
    },
    {
     "name": "stdout",
     "output_type": "stream",
     "text": [
      "Used Annotations descriptions: ['left_click', 'right_click', 'show_cross', 'show_dash', 'show_letter', 'sound_beep', 'sound_buzz']\n",
      "Not setting metadata\n",
      "25 matching events found\n",
      "No baseline correction applied\n",
      "0 projection items activated\n",
      "Using data from preloaded Raw for 25 events and 750 original time points ...\n",
      "0 bad epochs dropped\n",
      "Setting channel interpolation method to {'eeg': 'spline'}.\n",
      "Interpolating bad channels.\n",
      "    Automatic origin fit: head of radius 95.0 mm\n",
      "Computing interpolation matrix from 68 sensor positions\n",
      "Interpolating 1 sensors\n",
      "Dropped 1 epoch: 22\n",
      "Fitting ICA to data using 69 channels (please be patient, this may take a while)\n",
      "Selecting by non-zero PCA components: 68 components\n",
      "Fitting ICA took 22.8s.\n",
      "Using EOG channels: LEYE, REYE\n"
     ]
    },
    {
     "name": "stderr",
     "output_type": "stream",
     "text": [
      "c:\\Users\\beene\\anaconda3\\envs\\torch\\lib\\site-packages\\sklearn\\decomposition\\_fastica.py:128: ConvergenceWarning: FastICA did not converge. Consider increasing tolerance or the maximum number of iterations.\n",
      "  warnings.warn(\n"
     ]
    },
    {
     "name": "stdout",
     "output_type": "stream",
     "text": [
      "Applying ICA to Epochs instance\n",
      "    Transforming to ICA space (68 components)\n",
      "    Zeroing out 2 ICA components\n",
      "    Projecting back using 69 PCA components\n",
      "Dropped 1 epoch: 8\n",
      "Correct: 24\n",
      "----------51 is running...----------\n",
      "Opening raw data file C:/Users/beene/python/ml_term_export/Raw\\sub_51.fif...\n",
      "    Range : 0 ... 281600 =      0.000 ...   563.200 secs\n",
      "Ready.\n"
     ]
    },
    {
     "name": "stderr",
     "output_type": "stream",
     "text": [
      "C:\\Users\\beene\\AppData\\Local\\Temp\\ipykernel_8312\\2322995967.py:25: FutureWarning: The current default of copy=False will change to copy=True in 1.7. Set the value of copy explicitly to avoid this warning\n",
      "  epochs_data = epochs_ar.get_data()\n",
      "C:\\Users\\beene\\AppData\\Local\\Temp\\ipykernel_8312\\2322995967.py:6: RuntimeWarning: This filename (C:/Users/beene/python/ml_term_export/Raw\\sub_51.fif) does not conform to MNE naming conventions. All raw files should end with raw.fif, raw_sss.fif, raw_tsss.fif, _meg.fif, _eeg.fif, _ieeg.fif, raw.fif.gz, raw_sss.fif.gz, raw_tsss.fif.gz, _meg.fif.gz, _eeg.fif.gz or _ieeg.fif.gz\n",
      "  raw = mne.io.read_raw_fif(datlist[sub_i]);\n"
     ]
    },
    {
     "name": "stdout",
     "output_type": "stream",
     "text": [
      "Used Annotations descriptions: ['left_click', 'right_click', 'show_cross', 'show_dash', 'show_letter', 'sound_beep']\n",
      "Not setting metadata\n",
      "25 matching events found\n",
      "No baseline correction applied\n",
      "0 projection items activated\n",
      "Using data from preloaded Raw for 25 events and 750 original time points ...\n",
      "0 bad epochs dropped\n",
      "Setting channel interpolation method to {'eeg': 'spline'}.\n",
      "Interpolating bad channels.\n",
      "    Automatic origin fit: head of radius 95.0 mm\n",
      "Computing interpolation matrix from 67 sensor positions\n",
      "Interpolating 2 sensors\n",
      "Fitting ICA to data using 69 channels (please be patient, this may take a while)\n",
      "Selecting by non-zero PCA components: 67 components\n",
      "Fitting ICA took 22.9s.\n",
      "Using EOG channels: LEYE, REYE\n"
     ]
    },
    {
     "name": "stderr",
     "output_type": "stream",
     "text": [
      "c:\\Users\\beene\\anaconda3\\envs\\torch\\lib\\site-packages\\sklearn\\decomposition\\_fastica.py:128: ConvergenceWarning: FastICA did not converge. Consider increasing tolerance or the maximum number of iterations.\n",
      "  warnings.warn(\n"
     ]
    },
    {
     "name": "stdout",
     "output_type": "stream",
     "text": [
      "Applying ICA to Epochs instance\n",
      "    Transforming to ICA space (67 components)\n",
      "    Zeroing out 2 ICA components\n",
      "    Projecting back using 69 PCA components\n",
      "Correct: 25\n",
      "----------52 is running...----------\n",
      "Opening raw data file C:/Users/beene/python/ml_term_export/Raw\\sub_52.fif...\n",
      "    Range : 0 ... 277758 =      0.000 ...   555.516 secs\n",
      "Ready.\n"
     ]
    },
    {
     "name": "stderr",
     "output_type": "stream",
     "text": [
      "C:\\Users\\beene\\AppData\\Local\\Temp\\ipykernel_8312\\2322995967.py:25: FutureWarning: The current default of copy=False will change to copy=True in 1.7. Set the value of copy explicitly to avoid this warning\n",
      "  epochs_data = epochs_ar.get_data()\n",
      "C:\\Users\\beene\\AppData\\Local\\Temp\\ipykernel_8312\\2322995967.py:6: RuntimeWarning: This filename (C:/Users/beene/python/ml_term_export/Raw\\sub_52.fif) does not conform to MNE naming conventions. All raw files should end with raw.fif, raw_sss.fif, raw_tsss.fif, _meg.fif, _eeg.fif, _ieeg.fif, raw.fif.gz, raw_sss.fif.gz, raw_tsss.fif.gz, _meg.fif.gz, _eeg.fif.gz or _ieeg.fif.gz\n",
      "  raw = mne.io.read_raw_fif(datlist[sub_i]);\n"
     ]
    },
    {
     "name": "stdout",
     "output_type": "stream",
     "text": [
      "Used Annotations descriptions: ['left_click', 'right_click', 'show_cross', 'show_dash', 'show_letter', 'sound_beep', 'sound_buzz']\n",
      "Not setting metadata\n",
      "24 matching events found\n",
      "No baseline correction applied\n",
      "0 projection items activated\n",
      "Using data from preloaded Raw for 24 events and 750 original time points ...\n",
      "0 bad epochs dropped\n",
      "Setting channel interpolation method to {'eeg': 'spline'}.\n",
      "Interpolating bad channels.\n",
      "    Automatic origin fit: head of radius 95.0 mm\n",
      "Computing interpolation matrix from 67 sensor positions\n",
      "Interpolating 2 sensors\n",
      "Fitting ICA to data using 69 channels (please be patient, this may take a while)\n",
      "Selecting by non-zero PCA components: 67 components\n",
      "Fitting ICA took 22.7s.\n",
      "Using EOG channels: LEYE, REYE\n"
     ]
    },
    {
     "name": "stderr",
     "output_type": "stream",
     "text": [
      "c:\\Users\\beene\\anaconda3\\envs\\torch\\lib\\site-packages\\sklearn\\decomposition\\_fastica.py:128: ConvergenceWarning: FastICA did not converge. Consider increasing tolerance or the maximum number of iterations.\n",
      "  warnings.warn(\n"
     ]
    },
    {
     "name": "stdout",
     "output_type": "stream",
     "text": [
      "Applying ICA to Epochs instance\n",
      "    Transforming to ICA space (67 components)\n",
      "    Zeroing out 2 ICA components\n",
      "    Projecting back using 69 PCA components\n",
      "Correct: 22\n",
      "----------53 is running...----------\n",
      "Opening raw data file C:/Users/beene/python/ml_term_export/Raw\\sub_53.fif...\n",
      "    Range : 0 ... 388096 =      0.000 ...   776.192 secs\n",
      "Ready.\n"
     ]
    },
    {
     "name": "stderr",
     "output_type": "stream",
     "text": [
      "C:\\Users\\beene\\AppData\\Local\\Temp\\ipykernel_8312\\2322995967.py:25: FutureWarning: The current default of copy=False will change to copy=True in 1.7. Set the value of copy explicitly to avoid this warning\n",
      "  epochs_data = epochs_ar.get_data()\n",
      "C:\\Users\\beene\\AppData\\Local\\Temp\\ipykernel_8312\\2322995967.py:6: RuntimeWarning: This filename (C:/Users/beene/python/ml_term_export/Raw\\sub_53.fif) does not conform to MNE naming conventions. All raw files should end with raw.fif, raw_sss.fif, raw_tsss.fif, _meg.fif, _eeg.fif, _ieeg.fif, raw.fif.gz, raw_sss.fif.gz, raw_tsss.fif.gz, _meg.fif.gz, _eeg.fif.gz or _ieeg.fif.gz\n",
      "  raw = mne.io.read_raw_fif(datlist[sub_i]);\n"
     ]
    },
    {
     "name": "stdout",
     "output_type": "stream",
     "text": [
      "Used Annotations descriptions: ['left_click', 'right_click', 'show_cross', 'show_dash', 'show_letter', 'sound_beep', 'sound_buzz']\n",
      "Not setting metadata\n",
      "25 matching events found\n",
      "No baseline correction applied\n",
      "0 projection items activated\n",
      "Using data from preloaded Raw for 25 events and 750 original time points ...\n",
      "0 bad epochs dropped\n",
      "Setting channel interpolation method to {'eeg': 'spline'}.\n",
      "Interpolating bad channels.\n",
      "    Automatic origin fit: head of radius 95.0 mm\n",
      "Computing interpolation matrix from 67 sensor positions\n",
      "Interpolating 2 sensors\n",
      "Dropped 1 epoch: 3\n",
      "Fitting ICA to data using 69 channels (please be patient, this may take a while)\n",
      "Selecting by non-zero PCA components: 67 components\n",
      "Fitting ICA took 22.7s.\n",
      "Using EOG channels: LEYE, REYE\n"
     ]
    },
    {
     "name": "stderr",
     "output_type": "stream",
     "text": [
      "c:\\Users\\beene\\anaconda3\\envs\\torch\\lib\\site-packages\\sklearn\\decomposition\\_fastica.py:128: ConvergenceWarning: FastICA did not converge. Consider increasing tolerance or the maximum number of iterations.\n",
      "  warnings.warn(\n"
     ]
    },
    {
     "name": "stdout",
     "output_type": "stream",
     "text": [
      "Applying ICA to Epochs instance\n",
      "    Transforming to ICA space (67 components)\n",
      "    Zeroing out 3 ICA components\n",
      "    Projecting back using 69 PCA components\n",
      "Correct: 23\n",
      "----------54 is running...----------\n",
      "Opening raw data file C:/Users/beene/python/ml_term_export/Raw\\sub_54.fif...\n",
      "    Range : 0 ... 345856 =      0.000 ...   691.712 secs\n",
      "Ready.\n"
     ]
    },
    {
     "name": "stderr",
     "output_type": "stream",
     "text": [
      "C:\\Users\\beene\\AppData\\Local\\Temp\\ipykernel_8312\\2322995967.py:25: FutureWarning: The current default of copy=False will change to copy=True in 1.7. Set the value of copy explicitly to avoid this warning\n",
      "  epochs_data = epochs_ar.get_data()\n",
      "C:\\Users\\beene\\AppData\\Local\\Temp\\ipykernel_8312\\2322995967.py:6: RuntimeWarning: This filename (C:/Users/beene/python/ml_term_export/Raw\\sub_54.fif) does not conform to MNE naming conventions. All raw files should end with raw.fif, raw_sss.fif, raw_tsss.fif, _meg.fif, _eeg.fif, _ieeg.fif, raw.fif.gz, raw_sss.fif.gz, raw_tsss.fif.gz, _meg.fif.gz, _eeg.fif.gz or _ieeg.fif.gz\n",
      "  raw = mne.io.read_raw_fif(datlist[sub_i]);\n"
     ]
    },
    {
     "name": "stdout",
     "output_type": "stream",
     "text": [
      "Used Annotations descriptions: ['left_click', 'right_click', 'show_cross', 'show_dash', 'show_letter', 'sound_beep']\n",
      "Not setting metadata\n",
      "25 matching events found\n",
      "No baseline correction applied\n",
      "0 projection items activated\n",
      "Using data from preloaded Raw for 25 events and 750 original time points ...\n",
      "0 bad epochs dropped\n",
      "Setting channel interpolation method to {'eeg': 'spline'}.\n",
      "Interpolating bad channels.\n",
      "    Automatic origin fit: head of radius 95.0 mm\n",
      "Computing interpolation matrix from 66 sensor positions\n",
      "Interpolating 3 sensors\n",
      "Fitting ICA to data using 69 channels (please be patient, this may take a while)\n",
      "Selecting by non-zero PCA components: 66 components\n",
      "Fitting ICA took 2.5s.\n",
      "Using EOG channels: LEYE, REYE\n",
      "Applying ICA to Epochs instance\n",
      "    Transforming to ICA space (66 components)\n",
      "    Zeroing out 3 ICA components\n",
      "    Projecting back using 69 PCA components\n",
      "Dropped 1 epoch: 12\n",
      "Correct: 25\n",
      "----------55 is running...----------\n",
      "Opening raw data file C:/Users/beene/python/ml_term_export/Raw\\sub_55.fif...\n",
      "    Range : 0 ... 283390 =      0.000 ...   566.780 secs\n",
      "Ready.\n"
     ]
    },
    {
     "name": "stderr",
     "output_type": "stream",
     "text": [
      "C:\\Users\\beene\\AppData\\Local\\Temp\\ipykernel_8312\\2322995967.py:25: FutureWarning: The current default of copy=False will change to copy=True in 1.7. Set the value of copy explicitly to avoid this warning\n",
      "  epochs_data = epochs_ar.get_data()\n",
      "C:\\Users\\beene\\AppData\\Local\\Temp\\ipykernel_8312\\2322995967.py:6: RuntimeWarning: This filename (C:/Users/beene/python/ml_term_export/Raw\\sub_55.fif) does not conform to MNE naming conventions. All raw files should end with raw.fif, raw_sss.fif, raw_tsss.fif, _meg.fif, _eeg.fif, _ieeg.fif, raw.fif.gz, raw_sss.fif.gz, raw_tsss.fif.gz, _meg.fif.gz, _eeg.fif.gz or _ieeg.fif.gz\n",
      "  raw = mne.io.read_raw_fif(datlist[sub_i]);\n"
     ]
    },
    {
     "name": "stdout",
     "output_type": "stream",
     "text": [
      "Used Annotations descriptions: ['left_click', 'right_click', 'show_cross', 'show_dash', 'show_letter', 'sound_beep', 'sound_buzz']\n",
      "Not setting metadata\n",
      "25 matching events found\n",
      "No baseline correction applied\n",
      "0 projection items activated\n",
      "Using data from preloaded Raw for 25 events and 750 original time points ...\n",
      "0 bad epochs dropped\n",
      "Setting channel interpolation method to {'eeg': 'spline'}.\n",
      "Interpolating bad channels.\n",
      "    Automatic origin fit: head of radius 95.0 mm\n",
      "Computing interpolation matrix from 66 sensor positions\n",
      "Interpolating 3 sensors\n",
      "Fitting ICA to data using 69 channels (please be patient, this may take a while)\n",
      "Selecting by non-zero PCA components: 66 components\n",
      "Fitting ICA took 11.8s.\n",
      "Using EOG channels: LEYE, REYE\n",
      "Applying ICA to Epochs instance\n",
      "    Transforming to ICA space (66 components)\n",
      "    Zeroing out 4 ICA components\n",
      "    Projecting back using 69 PCA components\n",
      "Correct: 24\n",
      "----------56 is running...----------\n",
      "Opening raw data file C:/Users/beene/python/ml_term_export/Raw\\sub_56.fif...\n",
      "    Range : 0 ... 278272 =      0.000 ...   556.544 secs\n",
      "Ready.\n"
     ]
    },
    {
     "name": "stderr",
     "output_type": "stream",
     "text": [
      "C:\\Users\\beene\\AppData\\Local\\Temp\\ipykernel_8312\\2322995967.py:25: FutureWarning: The current default of copy=False will change to copy=True in 1.7. Set the value of copy explicitly to avoid this warning\n",
      "  epochs_data = epochs_ar.get_data()\n",
      "C:\\Users\\beene\\AppData\\Local\\Temp\\ipykernel_8312\\2322995967.py:6: RuntimeWarning: This filename (C:/Users/beene/python/ml_term_export/Raw\\sub_56.fif) does not conform to MNE naming conventions. All raw files should end with raw.fif, raw_sss.fif, raw_tsss.fif, _meg.fif, _eeg.fif, _ieeg.fif, raw.fif.gz, raw_sss.fif.gz, raw_tsss.fif.gz, _meg.fif.gz, _eeg.fif.gz or _ieeg.fif.gz\n",
      "  raw = mne.io.read_raw_fif(datlist[sub_i]);\n"
     ]
    },
    {
     "name": "stdout",
     "output_type": "stream",
     "text": [
      "Used Annotations descriptions: ['left_click', 'right_click', 'show_cross', 'show_dash', 'show_letter', 'sound_beep']\n",
      "Not setting metadata\n",
      "25 matching events found\n",
      "No baseline correction applied\n",
      "0 projection items activated\n",
      "Using data from preloaded Raw for 25 events and 750 original time points ...\n",
      "0 bad epochs dropped\n",
      "Setting channel interpolation method to {'eeg': 'spline'}.\n",
      "Interpolating bad channels.\n",
      "    Automatic origin fit: head of radius 95.0 mm\n",
      "Computing interpolation matrix from 66 sensor positions\n",
      "Interpolating 3 sensors\n",
      "Dropped 2 epochs: 3, 22\n",
      "Fitting ICA to data using 69 channels (please be patient, this may take a while)\n",
      "Selecting by non-zero PCA components: 66 components\n",
      "Fitting ICA took 6.6s.\n",
      "Using EOG channels: LEYE, REYE\n",
      "Applying ICA to Epochs instance\n",
      "    Transforming to ICA space (66 components)\n",
      "    Zeroing out 3 ICA components\n",
      "    Projecting back using 69 PCA components\n",
      "Dropped 1 epoch: 22\n",
      "Correct: 25\n",
      "----------57 is running...----------\n",
      "Opening raw data file C:/Users/beene/python/ml_term_export/Raw\\sub_57.fif...\n",
      "    Range : 0 ... 277504 =      0.000 ...   555.008 secs\n",
      "Ready.\n"
     ]
    },
    {
     "name": "stderr",
     "output_type": "stream",
     "text": [
      "C:\\Users\\beene\\AppData\\Local\\Temp\\ipykernel_8312\\2322995967.py:25: FutureWarning: The current default of copy=False will change to copy=True in 1.7. Set the value of copy explicitly to avoid this warning\n",
      "  epochs_data = epochs_ar.get_data()\n",
      "C:\\Users\\beene\\AppData\\Local\\Temp\\ipykernel_8312\\2322995967.py:6: RuntimeWarning: This filename (C:/Users/beene/python/ml_term_export/Raw\\sub_57.fif) does not conform to MNE naming conventions. All raw files should end with raw.fif, raw_sss.fif, raw_tsss.fif, _meg.fif, _eeg.fif, _ieeg.fif, raw.fif.gz, raw_sss.fif.gz, raw_tsss.fif.gz, _meg.fif.gz, _eeg.fif.gz or _ieeg.fif.gz\n",
      "  raw = mne.io.read_raw_fif(datlist[sub_i]);\n"
     ]
    },
    {
     "name": "stdout",
     "output_type": "stream",
     "text": [
      "Used Annotations descriptions: ['left_click', 'right_click', 'show_cross', 'show_dash', 'show_letter', 'sound_beep', 'sound_buzz']\n",
      "Not setting metadata\n",
      "25 matching events found\n",
      "No baseline correction applied\n",
      "0 projection items activated\n",
      "Using data from preloaded Raw for 25 events and 750 original time points ...\n",
      "0 bad epochs dropped\n",
      "Setting channel interpolation method to {'eeg': 'spline'}.\n",
      "Interpolating bad channels.\n",
      "    Automatic origin fit: head of radius 95.0 mm\n",
      "Computing interpolation matrix from 67 sensor positions\n",
      "Interpolating 2 sensors\n",
      "Dropped 4 epochs: 10, 19, 20, 23\n",
      "Fitting ICA to data using 69 channels (please be patient, this may take a while)\n",
      "Selecting by non-zero PCA components: 67 components\n",
      "Fitting ICA took 3.0s.\n",
      "Using EOG channels: LEYE, REYE\n",
      "Applying ICA to Epochs instance\n",
      "    Transforming to ICA space (67 components)\n",
      "    Zeroing out 3 ICA components\n",
      "    Projecting back using 69 PCA components\n",
      "Dropped 1 epoch: 20\n",
      "Correct: 23\n",
      "----------58 is running...----------\n",
      "Opening raw data file C:/Users/beene/python/ml_term_export/Raw\\sub_58.fif...\n",
      "    Range : 0 ... 257790 =      0.000 ...   515.580 secs\n",
      "Ready.\n"
     ]
    },
    {
     "name": "stderr",
     "output_type": "stream",
     "text": [
      "C:\\Users\\beene\\AppData\\Local\\Temp\\ipykernel_8312\\2322995967.py:25: FutureWarning: The current default of copy=False will change to copy=True in 1.7. Set the value of copy explicitly to avoid this warning\n",
      "  epochs_data = epochs_ar.get_data()\n",
      "C:\\Users\\beene\\AppData\\Local\\Temp\\ipykernel_8312\\2322995967.py:6: RuntimeWarning: This filename (C:/Users/beene/python/ml_term_export/Raw\\sub_58.fif) does not conform to MNE naming conventions. All raw files should end with raw.fif, raw_sss.fif, raw_tsss.fif, _meg.fif, _eeg.fif, _ieeg.fif, raw.fif.gz, raw_sss.fif.gz, raw_tsss.fif.gz, _meg.fif.gz, _eeg.fif.gz or _ieeg.fif.gz\n",
      "  raw = mne.io.read_raw_fif(datlist[sub_i]);\n"
     ]
    },
    {
     "name": "stdout",
     "output_type": "stream",
     "text": [
      "Used Annotations descriptions: ['left_click', 'right_click', 'show_cross', 'show_dash', 'show_letter', 'sound_beep', 'sound_buzz']\n",
      "Not setting metadata\n",
      "23 matching events found\n",
      "No baseline correction applied\n",
      "0 projection items activated\n",
      "Using data from preloaded Raw for 23 events and 750 original time points ...\n",
      "0 bad epochs dropped\n",
      "Setting channel interpolation method to {'eeg': 'spline'}.\n",
      "Interpolating bad channels.\n",
      "    Automatic origin fit: head of radius 95.0 mm\n",
      "Computing interpolation matrix from 67 sensor positions\n",
      "Interpolating 2 sensors\n",
      "Dropped 2 epochs: 8, 10\n",
      "Fitting ICA to data using 69 channels (please be patient, this may take a while)\n",
      "Selecting by non-zero PCA components: 67 components\n",
      "Fitting ICA took 3.8s.\n",
      "Using EOG channels: LEYE, REYE\n",
      "Applying ICA to Epochs instance\n",
      "    Transforming to ICA space (67 components)\n",
      "    Zeroing out 4 ICA components\n",
      "    Projecting back using 69 PCA components\n",
      "Correct: 23\n",
      "----------59 is running...----------\n",
      "Opening raw data file C:/Users/beene/python/ml_term_export/Raw\\sub_59.fif...\n",
      "    Range : 0 ... 308991 =      0.000 ...   617.982 secs\n",
      "Ready.\n"
     ]
    },
    {
     "name": "stderr",
     "output_type": "stream",
     "text": [
      "C:\\Users\\beene\\AppData\\Local\\Temp\\ipykernel_8312\\2322995967.py:25: FutureWarning: The current default of copy=False will change to copy=True in 1.7. Set the value of copy explicitly to avoid this warning\n",
      "  epochs_data = epochs_ar.get_data()\n",
      "C:\\Users\\beene\\AppData\\Local\\Temp\\ipykernel_8312\\2322995967.py:6: RuntimeWarning: This filename (C:/Users/beene/python/ml_term_export/Raw\\sub_59.fif) does not conform to MNE naming conventions. All raw files should end with raw.fif, raw_sss.fif, raw_tsss.fif, _meg.fif, _eeg.fif, _ieeg.fif, raw.fif.gz, raw_sss.fif.gz, raw_tsss.fif.gz, _meg.fif.gz, _eeg.fif.gz or _ieeg.fif.gz\n",
      "  raw = mne.io.read_raw_fif(datlist[sub_i]);\n"
     ]
    },
    {
     "name": "stdout",
     "output_type": "stream",
     "text": [
      "Used Annotations descriptions: ['left_click', 'right_click', 'show_cross', 'show_dash', 'show_letter', 'sound_beep', 'sound_buzz']\n",
      "Not setting metadata\n",
      "25 matching events found\n",
      "No baseline correction applied\n",
      "0 projection items activated\n",
      "Using data from preloaded Raw for 25 events and 750 original time points ...\n",
      "0 bad epochs dropped\n",
      "Setting channel interpolation method to {'eeg': 'spline'}.\n",
      "Interpolating bad channels.\n",
      "    Automatic origin fit: head of radius 95.0 mm\n",
      "Computing interpolation matrix from 65 sensor positions\n",
      "Interpolating 4 sensors\n",
      "Dropped 1 epoch: 22\n",
      "Fitting ICA to data using 69 channels (please be patient, this may take a while)\n",
      "Selecting by non-zero PCA components: 65 components\n",
      "Fitting ICA took 8.9s.\n",
      "Using EOG channels: LEYE, REYE\n",
      "Applying ICA to Epochs instance\n",
      "    Transforming to ICA space (65 components)\n",
      "    Zeroing out 3 ICA components\n",
      "    Projecting back using 69 PCA components\n",
      "Correct: 24\n",
      "----------60 is running...----------\n",
      "Opening raw data file C:/Users/beene/python/ml_term_export/Raw\\sub_60.fif...\n",
      "    Range : 0 ... 297471 =      0.000 ...   594.942 secs\n",
      "Ready.\n"
     ]
    },
    {
     "name": "stderr",
     "output_type": "stream",
     "text": [
      "C:\\Users\\beene\\AppData\\Local\\Temp\\ipykernel_8312\\2322995967.py:25: FutureWarning: The current default of copy=False will change to copy=True in 1.7. Set the value of copy explicitly to avoid this warning\n",
      "  epochs_data = epochs_ar.get_data()\n",
      "C:\\Users\\beene\\AppData\\Local\\Temp\\ipykernel_8312\\2322995967.py:6: RuntimeWarning: This filename (C:/Users/beene/python/ml_term_export/Raw\\sub_60.fif) does not conform to MNE naming conventions. All raw files should end with raw.fif, raw_sss.fif, raw_tsss.fif, _meg.fif, _eeg.fif, _ieeg.fif, raw.fif.gz, raw_sss.fif.gz, raw_tsss.fif.gz, _meg.fif.gz, _eeg.fif.gz or _ieeg.fif.gz\n",
      "  raw = mne.io.read_raw_fif(datlist[sub_i]);\n"
     ]
    },
    {
     "name": "stdout",
     "output_type": "stream",
     "text": [
      "Used Annotations descriptions: ['left_click', 'right_click', 'show_cross', 'show_dash', 'show_letter', 'sound_beep', 'sound_buzz']\n",
      "Not setting metadata\n",
      "25 matching events found\n",
      "No baseline correction applied\n",
      "0 projection items activated\n",
      "Using data from preloaded Raw for 25 events and 750 original time points ...\n",
      "0 bad epochs dropped\n",
      "Setting channel interpolation method to {'eeg': 'spline'}.\n",
      "Interpolating bad channels.\n",
      "    Automatic origin fit: head of radius 95.0 mm\n",
      "Computing interpolation matrix from 66 sensor positions\n",
      "Interpolating 3 sensors\n",
      "Fitting ICA to data using 69 channels (please be patient, this may take a while)\n",
      "Selecting by non-zero PCA components: 66 components\n",
      "Fitting ICA took 1.6s.\n",
      "Using EOG channels: LEYE, REYE\n",
      "Applying ICA to Epochs instance\n",
      "    Transforming to ICA space (66 components)\n",
      "    Zeroing out 4 ICA components\n",
      "    Projecting back using 69 PCA components\n",
      "Correct: 24\n",
      "----------61 is running...----------\n",
      "Opening raw data file C:/Users/beene/python/ml_term_export/Raw\\sub_61.fif...\n",
      "    Range : 0 ... 292606 =      0.000 ...   585.212 secs\n",
      "Ready.\n"
     ]
    },
    {
     "name": "stderr",
     "output_type": "stream",
     "text": [
      "C:\\Users\\beene\\AppData\\Local\\Temp\\ipykernel_8312\\2322995967.py:25: FutureWarning: The current default of copy=False will change to copy=True in 1.7. Set the value of copy explicitly to avoid this warning\n",
      "  epochs_data = epochs_ar.get_data()\n",
      "C:\\Users\\beene\\AppData\\Local\\Temp\\ipykernel_8312\\2322995967.py:6: RuntimeWarning: This filename (C:/Users/beene/python/ml_term_export/Raw\\sub_61.fif) does not conform to MNE naming conventions. All raw files should end with raw.fif, raw_sss.fif, raw_tsss.fif, _meg.fif, _eeg.fif, _ieeg.fif, raw.fif.gz, raw_sss.fif.gz, raw_tsss.fif.gz, _meg.fif.gz, _eeg.fif.gz or _ieeg.fif.gz\n",
      "  raw = mne.io.read_raw_fif(datlist[sub_i]);\n"
     ]
    },
    {
     "name": "stdout",
     "output_type": "stream",
     "text": [
      "Used Annotations descriptions: ['left_click', 'right_click', 'show_cross', 'show_dash', 'show_letter', 'sound_beep', 'sound_buzz']\n",
      "Not setting metadata\n",
      "25 matching events found\n",
      "No baseline correction applied\n",
      "0 projection items activated\n",
      "Using data from preloaded Raw for 25 events and 750 original time points ...\n",
      "0 bad epochs dropped\n",
      "Setting channel interpolation method to {'eeg': 'spline'}.\n",
      "Interpolating bad channels.\n",
      "    Automatic origin fit: head of radius 95.0 mm\n",
      "Computing interpolation matrix from 66 sensor positions\n",
      "Interpolating 3 sensors\n",
      "Fitting ICA to data using 69 channels (please be patient, this may take a while)\n",
      "Selecting by non-zero PCA components: 66 components\n",
      "Fitting ICA took 7.9s.\n",
      "Using EOG channels: LEYE, REYE\n",
      "Applying ICA to Epochs instance\n",
      "    Transforming to ICA space (66 components)\n",
      "    Zeroing out 1 ICA component\n",
      "    Projecting back using 69 PCA components\n",
      "Correct: 24\n",
      "----------62 is running...----------\n",
      "Opening raw data file C:/Users/beene/python/ml_term_export/Raw\\sub_62.fif...\n",
      "    Range : 0 ... 319488 =      0.000 ...   638.976 secs\n",
      "Ready.\n"
     ]
    },
    {
     "name": "stderr",
     "output_type": "stream",
     "text": [
      "C:\\Users\\beene\\AppData\\Local\\Temp\\ipykernel_8312\\2322995967.py:25: FutureWarning: The current default of copy=False will change to copy=True in 1.7. Set the value of copy explicitly to avoid this warning\n",
      "  epochs_data = epochs_ar.get_data()\n",
      "C:\\Users\\beene\\AppData\\Local\\Temp\\ipykernel_8312\\2322995967.py:6: RuntimeWarning: This filename (C:/Users/beene/python/ml_term_export/Raw\\sub_62.fif) does not conform to MNE naming conventions. All raw files should end with raw.fif, raw_sss.fif, raw_tsss.fif, _meg.fif, _eeg.fif, _ieeg.fif, raw.fif.gz, raw_sss.fif.gz, raw_tsss.fif.gz, _meg.fif.gz, _eeg.fif.gz or _ieeg.fif.gz\n",
      "  raw = mne.io.read_raw_fif(datlist[sub_i]);\n"
     ]
    },
    {
     "name": "stdout",
     "output_type": "stream",
     "text": [
      "Used Annotations descriptions: ['left_click', 'right_click', 'show_cross', 'show_dash', 'show_letter', 'sound_beep', 'sound_buzz']\n",
      "Not setting metadata\n",
      "25 matching events found\n",
      "No baseline correction applied\n",
      "0 projection items activated\n",
      "Using data from preloaded Raw for 25 events and 750 original time points ...\n",
      "0 bad epochs dropped\n",
      "Setting channel interpolation method to {'eeg': 'spline'}.\n",
      "Interpolating bad channels.\n",
      "    Automatic origin fit: head of radius 95.0 mm\n",
      "Computing interpolation matrix from 62 sensor positions\n",
      "Interpolating 7 sensors\n",
      "Fitting ICA to data using 69 channels (please be patient, this may take a while)\n",
      "Selecting by non-zero PCA components: 62 components\n",
      "Fitting ICA took 2.9s.\n",
      "Using EOG channels: LEYE, REYE\n",
      "Applying ICA to Epochs instance\n",
      "    Transforming to ICA space (62 components)\n",
      "    Zeroing out 1 ICA component\n",
      "    Projecting back using 69 PCA components\n",
      "Correct: 23\n",
      "----------63 is running...----------\n",
      "Opening raw data file C:/Users/beene/python/ml_term_export/Raw\\sub_63.fif...\n",
      "    Range : 0 ... 313855 =      0.000 ...   627.710 secs\n",
      "Ready.\n"
     ]
    },
    {
     "name": "stderr",
     "output_type": "stream",
     "text": [
      "C:\\Users\\beene\\AppData\\Local\\Temp\\ipykernel_8312\\2322995967.py:25: FutureWarning: The current default of copy=False will change to copy=True in 1.7. Set the value of copy explicitly to avoid this warning\n",
      "  epochs_data = epochs_ar.get_data()\n",
      "C:\\Users\\beene\\AppData\\Local\\Temp\\ipykernel_8312\\2322995967.py:6: RuntimeWarning: This filename (C:/Users/beene/python/ml_term_export/Raw\\sub_63.fif) does not conform to MNE naming conventions. All raw files should end with raw.fif, raw_sss.fif, raw_tsss.fif, _meg.fif, _eeg.fif, _ieeg.fif, raw.fif.gz, raw_sss.fif.gz, raw_tsss.fif.gz, _meg.fif.gz, _eeg.fif.gz or _ieeg.fif.gz\n",
      "  raw = mne.io.read_raw_fif(datlist[sub_i]);\n"
     ]
    },
    {
     "name": "stdout",
     "output_type": "stream",
     "text": [
      "Used Annotations descriptions: ['left_click', 'right_click', 'show_cross', 'show_dash', 'show_letter', 'sound_beep']\n",
      "Not setting metadata\n",
      "25 matching events found\n",
      "No baseline correction applied\n",
      "0 projection items activated\n",
      "Using data from preloaded Raw for 25 events and 750 original time points ...\n",
      "0 bad epochs dropped\n",
      "Setting channel interpolation method to {'eeg': 'spline'}.\n",
      "Interpolating bad channels.\n",
      "    Automatic origin fit: head of radius 95.0 mm\n",
      "Computing interpolation matrix from 61 sensor positions\n",
      "Interpolating 8 sensors\n",
      "Fitting ICA to data using 69 channels (please be patient, this may take a while)\n",
      "Selecting by non-zero PCA components: 61 components\n",
      "Fitting ICA took 2.2s.\n",
      "Using EOG channels: LEYE, REYE\n",
      "Applying ICA to Epochs instance\n",
      "    Transforming to ICA space (61 components)\n",
      "    Zeroing out 2 ICA components\n",
      "    Projecting back using 69 PCA components\n",
      "Correct: 25\n",
      "----------64 is running...----------\n",
      "Opening raw data file C:/Users/beene/python/ml_term_export/Raw\\sub_64.fif...\n",
      "    Range : 0 ... 327678 =      0.000 ...   655.356 secs\n",
      "Ready.\n"
     ]
    },
    {
     "name": "stderr",
     "output_type": "stream",
     "text": [
      "C:\\Users\\beene\\AppData\\Local\\Temp\\ipykernel_8312\\2322995967.py:25: FutureWarning: The current default of copy=False will change to copy=True in 1.7. Set the value of copy explicitly to avoid this warning\n",
      "  epochs_data = epochs_ar.get_data()\n",
      "C:\\Users\\beene\\AppData\\Local\\Temp\\ipykernel_8312\\2322995967.py:6: RuntimeWarning: This filename (C:/Users/beene/python/ml_term_export/Raw\\sub_64.fif) does not conform to MNE naming conventions. All raw files should end with raw.fif, raw_sss.fif, raw_tsss.fif, _meg.fif, _eeg.fif, _ieeg.fif, raw.fif.gz, raw_sss.fif.gz, raw_tsss.fif.gz, _meg.fif.gz, _eeg.fif.gz or _ieeg.fif.gz\n",
      "  raw = mne.io.read_raw_fif(datlist[sub_i]);\n"
     ]
    },
    {
     "name": "stdout",
     "output_type": "stream",
     "text": [
      "Used Annotations descriptions: ['left_click', 'right_click', 'show_cross', 'show_dash', 'show_letter', 'sound_beep', 'sound_buzz']\n",
      "Not setting metadata\n",
      "25 matching events found\n",
      "No baseline correction applied\n",
      "0 projection items activated\n",
      "Using data from preloaded Raw for 25 events and 750 original time points ...\n",
      "0 bad epochs dropped\n",
      "Setting channel interpolation method to {'eeg': 'spline'}.\n",
      "Interpolating bad channels.\n",
      "    Automatic origin fit: head of radius 95.0 mm\n",
      "Computing interpolation matrix from 63 sensor positions\n",
      "Interpolating 6 sensors\n",
      "Fitting ICA to data using 69 channels (please be patient, this may take a while)\n",
      "Selecting by non-zero PCA components: 63 components\n",
      "Fitting ICA took 2.5s.\n",
      "Using EOG channels: LEYE, REYE\n",
      "Applying ICA to Epochs instance\n",
      "    Transforming to ICA space (63 components)\n",
      "    Zeroing out 2 ICA components\n",
      "    Projecting back using 69 PCA components\n",
      "Correct: 22\n",
      "----------65 is running...----------\n",
      "Opening raw data file C:/Users/beene/python/ml_term_export/Raw\\sub_65.fif...\n",
      "    Range : 0 ... 299776 =      0.000 ...   599.552 secs\n",
      "Ready.\n"
     ]
    },
    {
     "name": "stderr",
     "output_type": "stream",
     "text": [
      "C:\\Users\\beene\\AppData\\Local\\Temp\\ipykernel_8312\\2322995967.py:25: FutureWarning: The current default of copy=False will change to copy=True in 1.7. Set the value of copy explicitly to avoid this warning\n",
      "  epochs_data = epochs_ar.get_data()\n",
      "C:\\Users\\beene\\AppData\\Local\\Temp\\ipykernel_8312\\2322995967.py:6: RuntimeWarning: This filename (C:/Users/beene/python/ml_term_export/Raw\\sub_65.fif) does not conform to MNE naming conventions. All raw files should end with raw.fif, raw_sss.fif, raw_tsss.fif, _meg.fif, _eeg.fif, _ieeg.fif, raw.fif.gz, raw_sss.fif.gz, raw_tsss.fif.gz, _meg.fif.gz, _eeg.fif.gz or _ieeg.fif.gz\n",
      "  raw = mne.io.read_raw_fif(datlist[sub_i]);\n"
     ]
    },
    {
     "name": "stdout",
     "output_type": "stream",
     "text": [
      "Used Annotations descriptions: ['left_click', 'right_click', 'show_cross', 'show_dash', 'show_letter', 'sound_beep', 'sound_buzz']\n",
      "Not setting metadata\n",
      "25 matching events found\n",
      "No baseline correction applied\n",
      "0 projection items activated\n",
      "Using data from preloaded Raw for 25 events and 750 original time points ...\n",
      "0 bad epochs dropped\n",
      "Setting channel interpolation method to {'eeg': 'spline'}.\n",
      "Interpolating bad channels.\n",
      "    Automatic origin fit: head of radius 95.0 mm\n",
      "Computing interpolation matrix from 65 sensor positions\n",
      "Interpolating 4 sensors\n",
      "Fitting ICA to data using 69 channels (please be patient, this may take a while)\n",
      "Selecting by non-zero PCA components: 65 components\n",
      "Fitting ICA took 3.7s.\n",
      "Using EOG channels: LEYE, REYE\n",
      "Applying ICA to Epochs instance\n",
      "    Transforming to ICA space (65 components)\n",
      "    Zeroing out 3 ICA components\n",
      "    Projecting back using 69 PCA components\n",
      "Correct: 24\n",
      "----------66 is running...----------\n",
      "Opening raw data file C:/Users/beene/python/ml_term_export/Raw\\sub_66.fif...\n",
      "    Range : 0 ... 308480 =      0.000 ...   616.960 secs\n",
      "Ready.\n"
     ]
    },
    {
     "name": "stderr",
     "output_type": "stream",
     "text": [
      "C:\\Users\\beene\\AppData\\Local\\Temp\\ipykernel_8312\\2322995967.py:25: FutureWarning: The current default of copy=False will change to copy=True in 1.7. Set the value of copy explicitly to avoid this warning\n",
      "  epochs_data = epochs_ar.get_data()\n",
      "C:\\Users\\beene\\AppData\\Local\\Temp\\ipykernel_8312\\2322995967.py:6: RuntimeWarning: This filename (C:/Users/beene/python/ml_term_export/Raw\\sub_66.fif) does not conform to MNE naming conventions. All raw files should end with raw.fif, raw_sss.fif, raw_tsss.fif, _meg.fif, _eeg.fif, _ieeg.fif, raw.fif.gz, raw_sss.fif.gz, raw_tsss.fif.gz, _meg.fif.gz, _eeg.fif.gz or _ieeg.fif.gz\n",
      "  raw = mne.io.read_raw_fif(datlist[sub_i]);\n"
     ]
    },
    {
     "name": "stdout",
     "output_type": "stream",
     "text": [
      "Used Annotations descriptions: ['left_click', 'right_click', 'show_cross', 'show_dash', 'show_letter', 'sound_beep']\n",
      "Not setting metadata\n",
      "25 matching events found\n",
      "No baseline correction applied\n",
      "0 projection items activated\n",
      "Using data from preloaded Raw for 25 events and 750 original time points ...\n",
      "0 bad epochs dropped\n",
      "Setting channel interpolation method to {'eeg': 'spline'}.\n",
      "Interpolating bad channels.\n",
      "    Automatic origin fit: head of radius 95.0 mm\n",
      "Computing interpolation matrix from 66 sensor positions\n",
      "Interpolating 3 sensors\n",
      "Fitting ICA to data using 69 channels (please be patient, this may take a while)\n",
      "Selecting by non-zero PCA components: 66 components\n",
      "Fitting ICA took 3.6s.\n",
      "Using EOG channels: LEYE, REYE\n",
      "Applying ICA to Epochs instance\n",
      "    Transforming to ICA space (66 components)\n",
      "    Zeroing out 2 ICA components\n",
      "    Projecting back using 69 PCA components\n",
      "Correct: 25\n",
      "----------67 is running...----------\n",
      "Opening raw data file C:/Users/beene/python/ml_term_export/Raw\\sub_67.fif...\n",
      "    Range : 0 ... 292606 =      0.000 ...   585.212 secs\n",
      "Ready.\n"
     ]
    },
    {
     "name": "stderr",
     "output_type": "stream",
     "text": [
      "C:\\Users\\beene\\AppData\\Local\\Temp\\ipykernel_8312\\2322995967.py:25: FutureWarning: The current default of copy=False will change to copy=True in 1.7. Set the value of copy explicitly to avoid this warning\n",
      "  epochs_data = epochs_ar.get_data()\n",
      "C:\\Users\\beene\\AppData\\Local\\Temp\\ipykernel_8312\\2322995967.py:6: RuntimeWarning: This filename (C:/Users/beene/python/ml_term_export/Raw\\sub_67.fif) does not conform to MNE naming conventions. All raw files should end with raw.fif, raw_sss.fif, raw_tsss.fif, _meg.fif, _eeg.fif, _ieeg.fif, raw.fif.gz, raw_sss.fif.gz, raw_tsss.fif.gz, _meg.fif.gz, _eeg.fif.gz or _ieeg.fif.gz\n",
      "  raw = mne.io.read_raw_fif(datlist[sub_i]);\n"
     ]
    },
    {
     "name": "stdout",
     "output_type": "stream",
     "text": [
      "Used Annotations descriptions: ['left_click', 'right_click', 'show_cross', 'show_dash', 'show_letter', 'sound_beep', 'sound_buzz']\n",
      "Not setting metadata\n",
      "25 matching events found\n",
      "No baseline correction applied\n",
      "0 projection items activated\n",
      "Using data from preloaded Raw for 25 events and 750 original time points ...\n",
      "0 bad epochs dropped\n",
      "Setting channel interpolation method to {'eeg': 'spline'}.\n",
      "Interpolating bad channels.\n",
      "    Automatic origin fit: head of radius 95.0 mm\n",
      "Computing interpolation matrix from 66 sensor positions\n",
      "Interpolating 3 sensors\n",
      "Fitting ICA to data using 69 channels (please be patient, this may take a while)\n",
      "Selecting by non-zero PCA components: 66 components\n",
      "Fitting ICA took 3.3s.\n",
      "Using EOG channels: LEYE, REYE\n",
      "Applying ICA to Epochs instance\n",
      "    Transforming to ICA space (66 components)\n",
      "    Zeroing out 3 ICA components\n",
      "    Projecting back using 69 PCA components\n",
      "Correct: 24\n",
      "----------68 is running...----------\n",
      "Opening raw data file C:/Users/beene/python/ml_term_export/Raw\\sub_68.fif...\n"
     ]
    },
    {
     "name": "stderr",
     "output_type": "stream",
     "text": [
      "C:\\Users\\beene\\AppData\\Local\\Temp\\ipykernel_8312\\2322995967.py:25: FutureWarning: The current default of copy=False will change to copy=True in 1.7. Set the value of copy explicitly to avoid this warning\n",
      "  epochs_data = epochs_ar.get_data()\n",
      "C:\\Users\\beene\\AppData\\Local\\Temp\\ipykernel_8312\\2322995967.py:6: RuntimeWarning: This filename (C:/Users/beene/python/ml_term_export/Raw\\sub_68.fif) does not conform to MNE naming conventions. All raw files should end with raw.fif, raw_sss.fif, raw_tsss.fif, _meg.fif, _eeg.fif, _ieeg.fif, raw.fif.gz, raw_sss.fif.gz, raw_tsss.fif.gz, _meg.fif.gz, _eeg.fif.gz or _ieeg.fif.gz\n",
      "  raw = mne.io.read_raw_fif(datlist[sub_i]);\n"
     ]
    },
    {
     "name": "stdout",
     "output_type": "stream",
     "text": [
      "    Range : 0 ... 357120 =      0.000 ...   714.240 secs\n",
      "Ready.\n",
      "Used Annotations descriptions: ['left_click', 'right_click', 'show_cross', 'show_dash', 'show_letter', 'sound_beep']\n",
      "Not setting metadata\n",
      "25 matching events found\n",
      "No baseline correction applied\n",
      "0 projection items activated\n",
      "Using data from preloaded Raw for 25 events and 750 original time points ...\n",
      "0 bad epochs dropped\n",
      "Setting channel interpolation method to {'eeg': 'spline'}.\n",
      "Interpolating bad channels.\n",
      "    Automatic origin fit: head of radius 95.0 mm\n",
      "Computing interpolation matrix from 64 sensor positions\n",
      "Interpolating 5 sensors\n",
      "Dropped 6 epochs: 4, 5, 9, 10, 15, 20\n",
      "Fitting ICA to data using 69 channels (please be patient, this may take a while)\n",
      "Selecting by non-zero PCA components: 64 components\n",
      "Fitting ICA took 10.4s.\n",
      "Using EOG channels: LEYE, REYE\n",
      "Applying ICA to Epochs instance\n",
      "    Transforming to ICA space (64 components)\n",
      "    Zeroing out 2 ICA components\n",
      "    Projecting back using 69 PCA components\n",
      "Correct: 25\n",
      "----------69 is running...----------\n",
      "Opening raw data file C:/Users/beene/python/ml_term_export/Raw\\sub_69.fif...\n",
      "    Range : 0 ... 395520 =      0.000 ...   791.040 secs\n",
      "Ready.\n"
     ]
    },
    {
     "name": "stderr",
     "output_type": "stream",
     "text": [
      "C:\\Users\\beene\\AppData\\Local\\Temp\\ipykernel_8312\\2322995967.py:25: FutureWarning: The current default of copy=False will change to copy=True in 1.7. Set the value of copy explicitly to avoid this warning\n",
      "  epochs_data = epochs_ar.get_data()\n",
      "C:\\Users\\beene\\AppData\\Local\\Temp\\ipykernel_8312\\2322995967.py:6: RuntimeWarning: This filename (C:/Users/beene/python/ml_term_export/Raw\\sub_69.fif) does not conform to MNE naming conventions. All raw files should end with raw.fif, raw_sss.fif, raw_tsss.fif, _meg.fif, _eeg.fif, _ieeg.fif, raw.fif.gz, raw_sss.fif.gz, raw_tsss.fif.gz, _meg.fif.gz, _eeg.fif.gz or _ieeg.fif.gz\n",
      "  raw = mne.io.read_raw_fif(datlist[sub_i]);\n"
     ]
    },
    {
     "name": "stdout",
     "output_type": "stream",
     "text": [
      "Used Annotations descriptions: ['left_click', 'right_click', 'show_cross', 'show_dash', 'show_letter', 'sound_beep', 'sound_buzz']\n",
      "Not setting metadata\n",
      "25 matching events found\n",
      "No baseline correction applied\n",
      "0 projection items activated\n",
      "Using data from preloaded Raw for 25 events and 750 original time points ...\n",
      "0 bad epochs dropped\n",
      "Setting channel interpolation method to {'eeg': 'spline'}.\n",
      "Interpolating bad channels.\n",
      "    Automatic origin fit: head of radius 95.0 mm\n",
      "Computing interpolation matrix from 65 sensor positions\n",
      "Interpolating 4 sensors\n",
      "Fitting ICA to data using 69 channels (please be patient, this may take a while)\n",
      "Selecting by non-zero PCA components: 65 components\n",
      "Fitting ICA took 2.8s.\n",
      "Using EOG channels: LEYE, REYE\n",
      "Applying ICA to Epochs instance\n",
      "    Transforming to ICA space (65 components)\n",
      "    Zeroing out 2 ICA components\n",
      "    Projecting back using 69 PCA components\n",
      "Correct: 24\n",
      "----------70 is running...----------\n",
      "Opening raw data file C:/Users/beene/python/ml_term_export/Raw\\sub_70.fif...\n",
      "    Range : 0 ... 340478 =      0.000 ...   680.956 secs\n",
      "Ready.\n"
     ]
    },
    {
     "name": "stderr",
     "output_type": "stream",
     "text": [
      "C:\\Users\\beene\\AppData\\Local\\Temp\\ipykernel_8312\\2322995967.py:25: FutureWarning: The current default of copy=False will change to copy=True in 1.7. Set the value of copy explicitly to avoid this warning\n",
      "  epochs_data = epochs_ar.get_data()\n",
      "C:\\Users\\beene\\AppData\\Local\\Temp\\ipykernel_8312\\2322995967.py:6: RuntimeWarning: This filename (C:/Users/beene/python/ml_term_export/Raw\\sub_70.fif) does not conform to MNE naming conventions. All raw files should end with raw.fif, raw_sss.fif, raw_tsss.fif, _meg.fif, _eeg.fif, _ieeg.fif, raw.fif.gz, raw_sss.fif.gz, raw_tsss.fif.gz, _meg.fif.gz, _eeg.fif.gz or _ieeg.fif.gz\n",
      "  raw = mne.io.read_raw_fif(datlist[sub_i]);\n"
     ]
    },
    {
     "name": "stdout",
     "output_type": "stream",
     "text": [
      "Used Annotations descriptions: ['left_click', 'right_click', 'show_cross', 'show_dash', 'show_letter', 'sound_beep']\n",
      "Not setting metadata\n",
      "25 matching events found\n",
      "No baseline correction applied\n",
      "0 projection items activated\n",
      "Using data from preloaded Raw for 25 events and 750 original time points ...\n",
      "0 bad epochs dropped\n",
      "Setting channel interpolation method to {'eeg': 'spline'}.\n",
      "Interpolating bad channels.\n",
      "    Automatic origin fit: head of radius 95.0 mm\n",
      "Computing interpolation matrix from 65 sensor positions\n",
      "Interpolating 4 sensors\n",
      "Dropped 1 epoch: 17\n",
      "Fitting ICA to data using 69 channels (please be patient, this may take a while)\n",
      "Selecting by non-zero PCA components: 65 components\n",
      "Fitting ICA took 2.2s.\n",
      "Using EOG channels: LEYE, REYE\n",
      "Applying ICA to Epochs instance\n",
      "    Transforming to ICA space (65 components)\n",
      "    Zeroing out 3 ICA components\n",
      "    Projecting back using 69 PCA components\n",
      "Correct: 25\n",
      "----------71 is running...----------\n",
      "Opening raw data file C:/Users/beene/python/ml_term_export/Raw\\sub_71.fif...\n",
      "    Range : 0 ... 289024 =      0.000 ...   577.980 secs\n",
      "Ready.\n"
     ]
    },
    {
     "name": "stderr",
     "output_type": "stream",
     "text": [
      "C:\\Users\\beene\\AppData\\Local\\Temp\\ipykernel_8312\\2322995967.py:25: FutureWarning: The current default of copy=False will change to copy=True in 1.7. Set the value of copy explicitly to avoid this warning\n",
      "  epochs_data = epochs_ar.get_data()\n",
      "C:\\Users\\beene\\AppData\\Local\\Temp\\ipykernel_8312\\2322995967.py:6: RuntimeWarning: This filename (C:/Users/beene/python/ml_term_export/Raw\\sub_71.fif) does not conform to MNE naming conventions. All raw files should end with raw.fif, raw_sss.fif, raw_tsss.fif, _meg.fif, _eeg.fif, _ieeg.fif, raw.fif.gz, raw_sss.fif.gz, raw_tsss.fif.gz, _meg.fif.gz, _eeg.fif.gz or _ieeg.fif.gz\n",
      "  raw = mne.io.read_raw_fif(datlist[sub_i]);\n"
     ]
    },
    {
     "name": "stdout",
     "output_type": "stream",
     "text": [
      "Used Annotations descriptions: ['left_click', 'right_click', 'show_cross', 'show_dash', 'show_letter', 'sound_beep', 'sound_buzz']\n",
      "Not setting metadata\n",
      "22 matching events found\n",
      "No baseline correction applied\n",
      "0 projection items activated\n",
      "Using data from preloaded Raw for 22 events and 750 original time points ...\n",
      "0 bad epochs dropped\n",
      "Setting channel interpolation method to {'eeg': 'spline'}.\n",
      "Interpolating bad channels.\n",
      "    Automatic origin fit: head of radius 95.0 mm\n",
      "Computing interpolation matrix from 66 sensor positions\n",
      "Interpolating 3 sensors\n",
      "Dropped 2 epochs: 2, 6\n",
      "Fitting ICA to data using 69 channels (please be patient, this may take a while)\n",
      "Selecting by non-zero PCA components: 66 components\n",
      "Fitting ICA took 4.6s.\n",
      "Using EOG channels: LEYE, REYE\n",
      "Applying ICA to Epochs instance\n",
      "    Transforming to ICA space (66 components)\n",
      "    Zeroing out 4 ICA components\n",
      "    Projecting back using 69 PCA components\n",
      "Dropped 1 epoch: 2\n",
      "Correct: 19\n",
      "----------72 is running...----------\n",
      "Opening raw data file C:/Users/beene/python/ml_term_export/Raw\\sub_72.fif...\n",
      "    Range : 0 ... 242687 =      0.000 ...   485.317 secs\n",
      "Ready.\n"
     ]
    },
    {
     "name": "stderr",
     "output_type": "stream",
     "text": [
      "C:\\Users\\beene\\AppData\\Local\\Temp\\ipykernel_8312\\2322995967.py:25: FutureWarning: The current default of copy=False will change to copy=True in 1.7. Set the value of copy explicitly to avoid this warning\n",
      "  epochs_data = epochs_ar.get_data()\n",
      "C:\\Users\\beene\\AppData\\Local\\Temp\\ipykernel_8312\\2322995967.py:6: RuntimeWarning: This filename (C:/Users/beene/python/ml_term_export/Raw\\sub_72.fif) does not conform to MNE naming conventions. All raw files should end with raw.fif, raw_sss.fif, raw_tsss.fif, _meg.fif, _eeg.fif, _ieeg.fif, raw.fif.gz, raw_sss.fif.gz, raw_tsss.fif.gz, _meg.fif.gz, _eeg.fif.gz or _ieeg.fif.gz\n",
      "  raw = mne.io.read_raw_fif(datlist[sub_i]);\n"
     ]
    },
    {
     "name": "stdout",
     "output_type": "stream",
     "text": [
      "Used Annotations descriptions: ['left_click', 'right_click', 'show_cross', 'show_dash', 'show_letter', 'sound_beep']\n",
      "Not setting metadata\n",
      "14 matching events found\n",
      "No baseline correction applied\n",
      "0 projection items activated\n",
      "Using data from preloaded Raw for 14 events and 750 original time points ...\n",
      "0 bad epochs dropped\n",
      "Setting channel interpolation method to {'eeg': 'spline'}.\n",
      "Interpolating bad channels.\n",
      "    Automatic origin fit: head of radius 95.0 mm\n",
      "Computing interpolation matrix from 66 sensor positions\n",
      "Interpolating 3 sensors\n",
      "Dropped 1 epoch: 5\n",
      "Fitting ICA to data using 69 channels (please be patient, this may take a while)\n",
      "Selecting by non-zero PCA components: 66 components\n",
      "Fitting ICA took 1.6s.\n",
      "Using EOG channels: LEYE, REYE\n",
      "Applying ICA to Epochs instance\n",
      "    Transforming to ICA space (66 components)\n",
      "    Zeroing out 2 ICA components\n",
      "    Projecting back using 69 PCA components\n",
      "Correct: 13\n",
      "----------73 is running...----------\n",
      "Opening raw data file C:/Users/beene/python/ml_term_export/Raw\\sub_73.fif...\n",
      "    Range : 0 ... 386817 =      0.000 ...   773.543 secs\n",
      "Ready.\n"
     ]
    },
    {
     "name": "stderr",
     "output_type": "stream",
     "text": [
      "C:\\Users\\beene\\AppData\\Local\\Temp\\ipykernel_8312\\2322995967.py:25: FutureWarning: The current default of copy=False will change to copy=True in 1.7. Set the value of copy explicitly to avoid this warning\n",
      "  epochs_data = epochs_ar.get_data()\n",
      "C:\\Users\\beene\\AppData\\Local\\Temp\\ipykernel_8312\\2322995967.py:6: RuntimeWarning: This filename (C:/Users/beene/python/ml_term_export/Raw\\sub_73.fif) does not conform to MNE naming conventions. All raw files should end with raw.fif, raw_sss.fif, raw_tsss.fif, _meg.fif, _eeg.fif, _ieeg.fif, raw.fif.gz, raw_sss.fif.gz, raw_tsss.fif.gz, _meg.fif.gz, _eeg.fif.gz or _ieeg.fif.gz\n",
      "  raw = mne.io.read_raw_fif(datlist[sub_i]);\n"
     ]
    },
    {
     "name": "stdout",
     "output_type": "stream",
     "text": [
      "Used Annotations descriptions: ['left_click', 'right_click', 'show_cross', 'show_dash', 'show_letter', 'sound_beep', 'sound_buzz']\n",
      "Not setting metadata\n",
      "25 matching events found\n",
      "No baseline correction applied\n",
      "0 projection items activated\n",
      "Using data from preloaded Raw for 25 events and 750 original time points ...\n",
      "0 bad epochs dropped\n",
      "Setting channel interpolation method to {'eeg': 'spline'}.\n",
      "Interpolating bad channels.\n",
      "    Automatic origin fit: head of radius 95.0 mm\n",
      "Computing interpolation matrix from 68 sensor positions\n",
      "Interpolating 1 sensors\n",
      "Dropped 3 epochs: 1, 20, 24\n",
      "Fitting ICA to data using 69 channels (please be patient, this may take a while)\n",
      "Selecting by non-zero PCA components: 68 components\n",
      "Fitting ICA took 1.8s.\n",
      "Using EOG channels: LEYE, REYE\n",
      "Applying ICA to Epochs instance\n",
      "    Transforming to ICA space (68 components)\n",
      "    Zeroing out 3 ICA components\n",
      "    Projecting back using 69 PCA components\n",
      "Correct: 23\n",
      "----------74 is running...----------\n",
      "Opening raw data file C:/Users/beene/python/ml_term_export/Raw\\sub_74.fif...\n",
      "    Range : 0 ... 345855 =      0.000 ...   691.629 secs\n",
      "Ready.\n"
     ]
    },
    {
     "name": "stderr",
     "output_type": "stream",
     "text": [
      "C:\\Users\\beene\\AppData\\Local\\Temp\\ipykernel_8312\\2322995967.py:25: FutureWarning: The current default of copy=False will change to copy=True in 1.7. Set the value of copy explicitly to avoid this warning\n",
      "  epochs_data = epochs_ar.get_data()\n",
      "C:\\Users\\beene\\AppData\\Local\\Temp\\ipykernel_8312\\2322995967.py:6: RuntimeWarning: This filename (C:/Users/beene/python/ml_term_export/Raw\\sub_74.fif) does not conform to MNE naming conventions. All raw files should end with raw.fif, raw_sss.fif, raw_tsss.fif, _meg.fif, _eeg.fif, _ieeg.fif, raw.fif.gz, raw_sss.fif.gz, raw_tsss.fif.gz, _meg.fif.gz, _eeg.fif.gz or _ieeg.fif.gz\n",
      "  raw = mne.io.read_raw_fif(datlist[sub_i]);\n"
     ]
    },
    {
     "name": "stdout",
     "output_type": "stream",
     "text": [
      "Used Annotations descriptions: ['left_click', 'right_click', 'show_cross', 'show_dash', 'show_letter', 'sound_beep', 'sound_buzz']\n",
      "Not setting metadata\n",
      "25 matching events found\n",
      "No baseline correction applied\n",
      "0 projection items activated\n",
      "Using data from preloaded Raw for 25 events and 750 original time points ...\n",
      "0 bad epochs dropped\n",
      "Setting channel interpolation method to {'eeg': 'spline'}.\n",
      "Interpolating bad channels.\n",
      "    Automatic origin fit: head of radius 95.0 mm\n",
      "Computing interpolation matrix from 67 sensor positions\n",
      "Interpolating 2 sensors\n",
      "Dropped 1 epoch: 23\n",
      "Fitting ICA to data using 69 channels (please be patient, this may take a while)\n",
      "Selecting by non-zero PCA components: 67 components\n",
      "Fitting ICA took 1.4s.\n",
      "Using EOG channels: LEYE, REYE\n",
      "Applying ICA to Epochs instance\n",
      "    Transforming to ICA space (67 components)\n",
      "    Zeroing out 3 ICA components\n",
      "    Projecting back using 69 PCA components\n",
      "Dropped 1 epoch: 23\n",
      "Correct: 24\n",
      "----------75 is running...----------\n",
      "Opening raw data file C:/Users/beene/python/ml_term_export/Raw\\sub_75.fif...\n",
      "    Range : 0 ... 348160 =      0.000 ...   696.238 secs\n",
      "Ready.\n"
     ]
    },
    {
     "name": "stderr",
     "output_type": "stream",
     "text": [
      "C:\\Users\\beene\\AppData\\Local\\Temp\\ipykernel_8312\\2322995967.py:25: FutureWarning: The current default of copy=False will change to copy=True in 1.7. Set the value of copy explicitly to avoid this warning\n",
      "  epochs_data = epochs_ar.get_data()\n",
      "C:\\Users\\beene\\AppData\\Local\\Temp\\ipykernel_8312\\2322995967.py:6: RuntimeWarning: This filename (C:/Users/beene/python/ml_term_export/Raw\\sub_75.fif) does not conform to MNE naming conventions. All raw files should end with raw.fif, raw_sss.fif, raw_tsss.fif, _meg.fif, _eeg.fif, _ieeg.fif, raw.fif.gz, raw_sss.fif.gz, raw_tsss.fif.gz, _meg.fif.gz, _eeg.fif.gz or _ieeg.fif.gz\n",
      "  raw = mne.io.read_raw_fif(datlist[sub_i]);\n"
     ]
    },
    {
     "name": "stdout",
     "output_type": "stream",
     "text": [
      "Used Annotations descriptions: ['left_click', 'right_click', 'show_cross', 'show_dash', 'show_letter', 'sound_beep', 'sound_buzz']\n",
      "Not setting metadata\n",
      "25 matching events found\n",
      "No baseline correction applied\n",
      "0 projection items activated\n",
      "Using data from preloaded Raw for 25 events and 750 original time points ...\n",
      "0 bad epochs dropped\n",
      "Setting channel interpolation method to {'eeg': 'spline'}.\n",
      "Interpolating bad channels.\n",
      "    Automatic origin fit: head of radius 95.0 mm\n",
      "Computing interpolation matrix from 67 sensor positions\n",
      "Interpolating 2 sensors\n",
      "Dropped 2 epochs: 7, 20\n",
      "Fitting ICA to data using 69 channels (please be patient, this may take a while)\n",
      "Selecting by non-zero PCA components: 67 components\n",
      "Fitting ICA took 1.6s.\n",
      "Using EOG channels: LEYE, REYE\n",
      "Applying ICA to Epochs instance\n",
      "    Transforming to ICA space (67 components)\n",
      "    Zeroing out 2 ICA components\n",
      "    Projecting back using 69 PCA components\n",
      "Dropped 1 epoch: 7\n",
      "Correct: 24\n",
      "----------76 is running...----------\n",
      "Opening raw data file C:/Users/beene/python/ml_term_export/Raw\\sub_76.fif...\n",
      "    Range : 0 ... 404224 =      0.000 ...   808.353 secs\n",
      "Ready.\n"
     ]
    },
    {
     "name": "stderr",
     "output_type": "stream",
     "text": [
      "C:\\Users\\beene\\AppData\\Local\\Temp\\ipykernel_8312\\2322995967.py:25: FutureWarning: The current default of copy=False will change to copy=True in 1.7. Set the value of copy explicitly to avoid this warning\n",
      "  epochs_data = epochs_ar.get_data()\n",
      "C:\\Users\\beene\\AppData\\Local\\Temp\\ipykernel_8312\\2322995967.py:6: RuntimeWarning: This filename (C:/Users/beene/python/ml_term_export/Raw\\sub_76.fif) does not conform to MNE naming conventions. All raw files should end with raw.fif, raw_sss.fif, raw_tsss.fif, _meg.fif, _eeg.fif, _ieeg.fif, raw.fif.gz, raw_sss.fif.gz, raw_tsss.fif.gz, _meg.fif.gz, _eeg.fif.gz or _ieeg.fif.gz\n",
      "  raw = mne.io.read_raw_fif(datlist[sub_i]);\n"
     ]
    },
    {
     "name": "stdout",
     "output_type": "stream",
     "text": [
      "Used Annotations descriptions: ['left_click', 'right_click', 'show_cross', 'show_dash', 'show_letter', 'sound_beep', 'sound_buzz']\n",
      "Not setting metadata\n",
      "24 matching events found\n",
      "No baseline correction applied\n",
      "0 projection items activated\n",
      "Using data from preloaded Raw for 24 events and 750 original time points ...\n",
      "0 bad epochs dropped\n",
      "Setting channel interpolation method to {'eeg': 'spline'}.\n",
      "Interpolating bad channels.\n",
      "    Automatic origin fit: head of radius 95.0 mm\n",
      "Computing interpolation matrix from 67 sensor positions\n",
      "Interpolating 2 sensors\n",
      "Dropped 1 epoch: 17\n",
      "Fitting ICA to data using 69 channels (please be patient, this may take a while)\n",
      "Selecting by non-zero PCA components: 67 components\n",
      "Fitting ICA took 10.1s.\n",
      "Using EOG channels: LEYE, REYE\n",
      "Applying ICA to Epochs instance\n",
      "    Transforming to ICA space (67 components)\n",
      "    Zeroing out 3 ICA components\n",
      "    Projecting back using 69 PCA components\n",
      "Dropped 1 epoch: 17\n",
      "Correct: 23\n",
      "----------77 is running...----------\n",
      "Opening raw data file C:/Users/beene/python/ml_term_export/Raw\\sub_77.fif...\n",
      "    Range : 0 ... 360960 =      0.000 ...   721.835 secs\n",
      "Ready.\n"
     ]
    },
    {
     "name": "stderr",
     "output_type": "stream",
     "text": [
      "C:\\Users\\beene\\AppData\\Local\\Temp\\ipykernel_8312\\2322995967.py:25: FutureWarning: The current default of copy=False will change to copy=True in 1.7. Set the value of copy explicitly to avoid this warning\n",
      "  epochs_data = epochs_ar.get_data()\n",
      "C:\\Users\\beene\\AppData\\Local\\Temp\\ipykernel_8312\\2322995967.py:6: RuntimeWarning: This filename (C:/Users/beene/python/ml_term_export/Raw\\sub_77.fif) does not conform to MNE naming conventions. All raw files should end with raw.fif, raw_sss.fif, raw_tsss.fif, _meg.fif, _eeg.fif, _ieeg.fif, raw.fif.gz, raw_sss.fif.gz, raw_tsss.fif.gz, _meg.fif.gz, _eeg.fif.gz or _ieeg.fif.gz\n",
      "  raw = mne.io.read_raw_fif(datlist[sub_i]);\n"
     ]
    },
    {
     "name": "stdout",
     "output_type": "stream",
     "text": [
      "Used Annotations descriptions: ['left_click', 'right_click', 'show_cross', 'show_dash', 'show_letter', 'sound_beep', 'sound_buzz']\n",
      "Not setting metadata\n",
      "25 matching events found\n",
      "No baseline correction applied\n",
      "0 projection items activated\n",
      "Using data from preloaded Raw for 25 events and 750 original time points ...\n",
      "0 bad epochs dropped\n",
      "Setting channel interpolation method to {'eeg': 'spline'}.\n"
     ]
    },
    {
     "name": "stderr",
     "output_type": "stream",
     "text": [
      "c:\\Users\\beene\\anaconda3\\envs\\torch\\lib\\site-packages\\autoreject\\ransac.py:244: RuntimeWarning: No bad channels to interpolate. Doing nothing...\n",
      "  epochs.interpolate_bads(reset_bads=True)\n"
     ]
    },
    {
     "name": "stdout",
     "output_type": "stream",
     "text": [
      "Fitting ICA to data using 69 channels (please be patient, this may take a while)\n",
      "Selecting by non-zero PCA components: 69 components\n",
      "Fitting ICA took 21.0s.\n",
      "Using EOG channels: LEYE, REYE\n",
      "Applying ICA to Epochs instance\n",
      "    Transforming to ICA space (69 components)\n",
      "    Zeroing out 3 ICA components\n",
      "    Projecting back using 69 PCA components\n",
      "Correct: 23\n",
      "----------78 is running...----------\n",
      "Opening raw data file C:/Users/beene/python/ml_term_export/Raw\\sub_78.fif...\n",
      "    Range : 0 ... 354304 =      0.000 ...   708.525 secs\n",
      "Ready.\n"
     ]
    },
    {
     "name": "stderr",
     "output_type": "stream",
     "text": [
      "C:\\Users\\beene\\AppData\\Local\\Temp\\ipykernel_8312\\2322995967.py:25: FutureWarning: The current default of copy=False will change to copy=True in 1.7. Set the value of copy explicitly to avoid this warning\n",
      "  epochs_data = epochs_ar.get_data()\n",
      "C:\\Users\\beene\\AppData\\Local\\Temp\\ipykernel_8312\\2322995967.py:6: RuntimeWarning: This filename (C:/Users/beene/python/ml_term_export/Raw\\sub_78.fif) does not conform to MNE naming conventions. All raw files should end with raw.fif, raw_sss.fif, raw_tsss.fif, _meg.fif, _eeg.fif, _ieeg.fif, raw.fif.gz, raw_sss.fif.gz, raw_tsss.fif.gz, _meg.fif.gz, _eeg.fif.gz or _ieeg.fif.gz\n",
      "  raw = mne.io.read_raw_fif(datlist[sub_i]);\n"
     ]
    },
    {
     "name": "stdout",
     "output_type": "stream",
     "text": [
      "Used Annotations descriptions: ['left_click', 'right_click', 'show_cross', 'show_dash', 'show_letter', 'sound_beep', 'sound_buzz']\n",
      "Not setting metadata\n",
      "25 matching events found\n",
      "No baseline correction applied\n",
      "0 projection items activated\n",
      "Using data from preloaded Raw for 25 events and 750 original time points ...\n",
      "0 bad epochs dropped\n",
      "Setting channel interpolation method to {'eeg': 'spline'}.\n"
     ]
    },
    {
     "name": "stderr",
     "output_type": "stream",
     "text": [
      "c:\\Users\\beene\\anaconda3\\envs\\torch\\lib\\site-packages\\autoreject\\ransac.py:244: RuntimeWarning: No bad channels to interpolate. Doing nothing...\n",
      "  epochs.interpolate_bads(reset_bads=True)\n"
     ]
    },
    {
     "name": "stdout",
     "output_type": "stream",
     "text": [
      "Fitting ICA to data using 69 channels (please be patient, this may take a while)\n",
      "Selecting by non-zero PCA components: 69 components\n",
      "Fitting ICA took 3.1s.\n",
      "Using EOG channels: LEYE, REYE\n",
      "Applying ICA to Epochs instance\n",
      "    Transforming to ICA space (69 components)\n",
      "    Zeroing out 4 ICA components\n",
      "    Projecting back using 69 PCA components\n",
      "Correct: 24\n",
      "----------79 is running...----------\n",
      "Opening raw data file C:/Users/beene/python/ml_term_export/Raw\\sub_79.fif...\n",
      "    Range : 0 ... 356863 =      0.000 ...   713.642 secs\n",
      "Ready.\n"
     ]
    },
    {
     "name": "stderr",
     "output_type": "stream",
     "text": [
      "C:\\Users\\beene\\AppData\\Local\\Temp\\ipykernel_8312\\2322995967.py:25: FutureWarning: The current default of copy=False will change to copy=True in 1.7. Set the value of copy explicitly to avoid this warning\n",
      "  epochs_data = epochs_ar.get_data()\n",
      "C:\\Users\\beene\\AppData\\Local\\Temp\\ipykernel_8312\\2322995967.py:6: RuntimeWarning: This filename (C:/Users/beene/python/ml_term_export/Raw\\sub_79.fif) does not conform to MNE naming conventions. All raw files should end with raw.fif, raw_sss.fif, raw_tsss.fif, _meg.fif, _eeg.fif, _ieeg.fif, raw.fif.gz, raw_sss.fif.gz, raw_tsss.fif.gz, _meg.fif.gz, _eeg.fif.gz or _ieeg.fif.gz\n",
      "  raw = mne.io.read_raw_fif(datlist[sub_i]);\n"
     ]
    },
    {
     "name": "stdout",
     "output_type": "stream",
     "text": [
      "Used Annotations descriptions: ['left_click', 'right_click', 'show_cross', 'show_dash', 'show_letter', 'sound_beep', 'sound_buzz']\n",
      "Not setting metadata\n",
      "25 matching events found\n",
      "No baseline correction applied\n",
      "0 projection items activated\n",
      "Using data from preloaded Raw for 25 events and 750 original time points ...\n",
      "0 bad epochs dropped\n",
      "Setting channel interpolation method to {'eeg': 'spline'}.\n",
      "Interpolating bad channels.\n",
      "    Automatic origin fit: head of radius 95.0 mm\n",
      "Computing interpolation matrix from 68 sensor positions\n",
      "Interpolating 1 sensors\n",
      "Fitting ICA to data using 69 channels (please be patient, this may take a while)\n",
      "Selecting by non-zero PCA components: 68 components\n",
      "Fitting ICA took 2.4s.\n",
      "Using EOG channels: LEYE, REYE\n",
      "Applying ICA to Epochs instance\n",
      "    Transforming to ICA space (68 components)\n",
      "    Zeroing out 4 ICA components\n",
      "    Projecting back using 69 PCA components\n",
      "Correct: 24\n",
      "----------80 is running...----------\n",
      "Opening raw data file C:/Users/beene/python/ml_term_export/Raw\\sub_80.fif...\n",
      "    Range : 0 ... 339200 =      0.000 ...   678.320 secs\n",
      "Ready.\n"
     ]
    },
    {
     "name": "stderr",
     "output_type": "stream",
     "text": [
      "C:\\Users\\beene\\AppData\\Local\\Temp\\ipykernel_8312\\2322995967.py:25: FutureWarning: The current default of copy=False will change to copy=True in 1.7. Set the value of copy explicitly to avoid this warning\n",
      "  epochs_data = epochs_ar.get_data()\n",
      "C:\\Users\\beene\\AppData\\Local\\Temp\\ipykernel_8312\\2322995967.py:6: RuntimeWarning: This filename (C:/Users/beene/python/ml_term_export/Raw\\sub_80.fif) does not conform to MNE naming conventions. All raw files should end with raw.fif, raw_sss.fif, raw_tsss.fif, _meg.fif, _eeg.fif, _ieeg.fif, raw.fif.gz, raw_sss.fif.gz, raw_tsss.fif.gz, _meg.fif.gz, _eeg.fif.gz or _ieeg.fif.gz\n",
      "  raw = mne.io.read_raw_fif(datlist[sub_i]);\n"
     ]
    },
    {
     "name": "stdout",
     "output_type": "stream",
     "text": [
      "Used Annotations descriptions: ['left_click', 'right_click', 'show_cross', 'show_dash', 'show_letter', 'sound_beep', 'sound_buzz']\n",
      "Not setting metadata\n",
      "25 matching events found\n",
      "No baseline correction applied\n",
      "0 projection items activated\n",
      "Using data from preloaded Raw for 25 events and 750 original time points ...\n",
      "0 bad epochs dropped\n",
      "Setting channel interpolation method to {'eeg': 'spline'}.\n",
      "Interpolating bad channels.\n",
      "    Automatic origin fit: head of radius 95.0 mm\n",
      "Computing interpolation matrix from 67 sensor positions\n",
      "Interpolating 2 sensors\n",
      "Dropped 1 epoch: 1\n",
      "Fitting ICA to data using 69 channels (please be patient, this may take a while)\n",
      "Selecting by non-zero PCA components: 67 components\n",
      "Fitting ICA took 1.8s.\n",
      "Using EOG channels: LEYE, REYE\n",
      "Applying ICA to Epochs instance\n",
      "    Transforming to ICA space (67 components)\n",
      "    Zeroing out 4 ICA components\n",
      "    Projecting back using 69 PCA components\n",
      "Correct: 24\n",
      "----------81 is running...----------\n",
      "Opening raw data file C:/Users/beene/python/ml_term_export/Raw\\sub_81.fif...\n",
      "    Range : 0 ... 309504 =      0.000 ...   618.935 secs\n",
      "Ready.\n"
     ]
    },
    {
     "name": "stderr",
     "output_type": "stream",
     "text": [
      "C:\\Users\\beene\\AppData\\Local\\Temp\\ipykernel_8312\\2322995967.py:25: FutureWarning: The current default of copy=False will change to copy=True in 1.7. Set the value of copy explicitly to avoid this warning\n",
      "  epochs_data = epochs_ar.get_data()\n",
      "C:\\Users\\beene\\AppData\\Local\\Temp\\ipykernel_8312\\2322995967.py:6: RuntimeWarning: This filename (C:/Users/beene/python/ml_term_export/Raw\\sub_81.fif) does not conform to MNE naming conventions. All raw files should end with raw.fif, raw_sss.fif, raw_tsss.fif, _meg.fif, _eeg.fif, _ieeg.fif, raw.fif.gz, raw_sss.fif.gz, raw_tsss.fif.gz, _meg.fif.gz, _eeg.fif.gz or _ieeg.fif.gz\n",
      "  raw = mne.io.read_raw_fif(datlist[sub_i]);\n"
     ]
    },
    {
     "name": "stdout",
     "output_type": "stream",
     "text": [
      "Used Annotations descriptions: ['left_click', 'right_click', 'show_cross', 'show_dash', 'show_letter', 'sound_beep']\n",
      "Not setting metadata\n",
      "25 matching events found\n",
      "No baseline correction applied\n",
      "0 projection items activated\n",
      "Using data from preloaded Raw for 25 events and 750 original time points ...\n",
      "0 bad epochs dropped\n",
      "Setting channel interpolation method to {'eeg': 'spline'}.\n",
      "Interpolating bad channels.\n",
      "    Automatic origin fit: head of radius 95.0 mm\n",
      "Computing interpolation matrix from 67 sensor positions\n",
      "Interpolating 2 sensors\n",
      "Fitting ICA to data using 69 channels (please be patient, this may take a while)\n",
      "Selecting by non-zero PCA components: 67 components\n",
      "Fitting ICA took 22.9s.\n",
      "Using EOG channels: LEYE, REYE\n"
     ]
    },
    {
     "name": "stderr",
     "output_type": "stream",
     "text": [
      "c:\\Users\\beene\\anaconda3\\envs\\torch\\lib\\site-packages\\sklearn\\decomposition\\_fastica.py:128: ConvergenceWarning: FastICA did not converge. Consider increasing tolerance or the maximum number of iterations.\n",
      "  warnings.warn(\n"
     ]
    },
    {
     "name": "stdout",
     "output_type": "stream",
     "text": [
      "Applying ICA to Epochs instance\n",
      "    Transforming to ICA space (67 components)\n",
      "    Zeroing out 2 ICA components\n",
      "    Projecting back using 69 PCA components\n",
      "Correct: 25\n",
      "----------82 is running...----------\n",
      "Opening raw data file C:/Users/beene/python/ml_term_export/Raw\\sub_82.fif...\n",
      "    Range : 0 ... 284928 =      0.000 ...   569.856 secs\n",
      "Ready.\n"
     ]
    },
    {
     "name": "stderr",
     "output_type": "stream",
     "text": [
      "C:\\Users\\beene\\AppData\\Local\\Temp\\ipykernel_8312\\2322995967.py:25: FutureWarning: The current default of copy=False will change to copy=True in 1.7. Set the value of copy explicitly to avoid this warning\n",
      "  epochs_data = epochs_ar.get_data()\n",
      "C:\\Users\\beene\\AppData\\Local\\Temp\\ipykernel_8312\\2322995967.py:6: RuntimeWarning: This filename (C:/Users/beene/python/ml_term_export/Raw\\sub_82.fif) does not conform to MNE naming conventions. All raw files should end with raw.fif, raw_sss.fif, raw_tsss.fif, _meg.fif, _eeg.fif, _ieeg.fif, raw.fif.gz, raw_sss.fif.gz, raw_tsss.fif.gz, _meg.fif.gz, _eeg.fif.gz or _ieeg.fif.gz\n",
      "  raw = mne.io.read_raw_fif(datlist[sub_i]);\n"
     ]
    },
    {
     "name": "stdout",
     "output_type": "stream",
     "text": [
      "Used Annotations descriptions: ['left_click', 'show_cross', 'show_dash', 'show_letter', 'sound_beep', 'sound_buzz']\n",
      "Not setting metadata\n",
      "25 matching events found\n",
      "No baseline correction applied\n",
      "0 projection items activated\n",
      "Using data from preloaded Raw for 25 events and 750 original time points ...\n",
      "0 bad epochs dropped\n",
      "Setting channel interpolation method to {'eeg': 'spline'}.\n",
      "Interpolating bad channels.\n",
      "    Automatic origin fit: head of radius 95.0 mm\n",
      "Computing interpolation matrix from 67 sensor positions\n",
      "Interpolating 2 sensors\n",
      "Fitting ICA to data using 69 channels (please be patient, this may take a while)\n",
      "Selecting by non-zero PCA components: 67 components\n",
      "Fitting ICA took 3.2s.\n",
      "Using EOG channels: LEYE, REYE\n",
      "Applying ICA to Epochs instance\n",
      "    Transforming to ICA space (67 components)\n",
      "    Zeroing out 1 ICA component\n",
      "    Projecting back using 69 PCA components\n",
      "Correct: 10\n",
      "----------83 is running...----------\n",
      "Opening raw data file C:/Users/beene/python/ml_term_export/Raw\\sub_83.fif...\n",
      "    Range : 0 ... 281600 =      0.000 ...   563.200 secs\n",
      "Ready.\n"
     ]
    },
    {
     "name": "stderr",
     "output_type": "stream",
     "text": [
      "C:\\Users\\beene\\AppData\\Local\\Temp\\ipykernel_8312\\2322995967.py:25: FutureWarning: The current default of copy=False will change to copy=True in 1.7. Set the value of copy explicitly to avoid this warning\n",
      "  epochs_data = epochs_ar.get_data()\n",
      "C:\\Users\\beene\\AppData\\Local\\Temp\\ipykernel_8312\\2322995967.py:6: RuntimeWarning: This filename (C:/Users/beene/python/ml_term_export/Raw\\sub_83.fif) does not conform to MNE naming conventions. All raw files should end with raw.fif, raw_sss.fif, raw_tsss.fif, _meg.fif, _eeg.fif, _ieeg.fif, raw.fif.gz, raw_sss.fif.gz, raw_tsss.fif.gz, _meg.fif.gz, _eeg.fif.gz or _ieeg.fif.gz\n",
      "  raw = mne.io.read_raw_fif(datlist[sub_i]);\n"
     ]
    },
    {
     "name": "stdout",
     "output_type": "stream",
     "text": [
      "Used Annotations descriptions: ['left_click', 'show_cross', 'show_dash', 'show_letter', 'sound_beep', 'sound_buzz']\n",
      "Not setting metadata\n",
      "25 matching events found\n",
      "No baseline correction applied\n",
      "0 projection items activated\n",
      "Using data from preloaded Raw for 25 events and 750 original time points ...\n",
      "0 bad epochs dropped\n",
      "Setting channel interpolation method to {'eeg': 'spline'}.\n",
      "Interpolating bad channels.\n",
      "    Automatic origin fit: head of radius 95.0 mm\n",
      "Computing interpolation matrix from 67 sensor positions\n",
      "Interpolating 2 sensors\n",
      "Dropped 2 epochs: 0, 23\n",
      "Fitting ICA to data using 69 channels (please be patient, this may take a while)\n",
      "Selecting by non-zero PCA components: 67 components\n",
      "Fitting ICA took 1.7s.\n",
      "Using EOG channels: LEYE, REYE\n",
      "Applying ICA to Epochs instance\n",
      "    Transforming to ICA space (67 components)\n",
      "    Zeroing out 1 ICA component\n",
      "    Projecting back using 69 PCA components\n",
      "Dropped 8 epochs: 0, 10, 11, 16, 17, 19, 23, 24\n",
      "Correct: 11\n",
      "----------84 is running...----------\n",
      "Opening raw data file C:/Users/beene/python/ml_term_export/Raw\\sub_84.fif...\n",
      "    Range : 0 ... 283390 =      0.000 ...   566.780 secs\n",
      "Ready.\n"
     ]
    },
    {
     "name": "stderr",
     "output_type": "stream",
     "text": [
      "C:\\Users\\beene\\AppData\\Local\\Temp\\ipykernel_8312\\2322995967.py:25: FutureWarning: The current default of copy=False will change to copy=True in 1.7. Set the value of copy explicitly to avoid this warning\n",
      "  epochs_data = epochs_ar.get_data()\n",
      "C:\\Users\\beene\\AppData\\Local\\Temp\\ipykernel_8312\\2322995967.py:6: RuntimeWarning: This filename (C:/Users/beene/python/ml_term_export/Raw\\sub_84.fif) does not conform to MNE naming conventions. All raw files should end with raw.fif, raw_sss.fif, raw_tsss.fif, _meg.fif, _eeg.fif, _ieeg.fif, raw.fif.gz, raw_sss.fif.gz, raw_tsss.fif.gz, _meg.fif.gz, _eeg.fif.gz or _ieeg.fif.gz\n",
      "  raw = mne.io.read_raw_fif(datlist[sub_i]);\n"
     ]
    },
    {
     "name": "stdout",
     "output_type": "stream",
     "text": [
      "Used Annotations descriptions: ['left_click', 'show_cross', 'show_dash', 'show_letter', 'sound_beep', 'sound_buzz']\n",
      "Not setting metadata\n",
      "25 matching events found\n",
      "No baseline correction applied\n",
      "0 projection items activated\n",
      "Using data from preloaded Raw for 25 events and 750 original time points ...\n",
      "0 bad epochs dropped\n",
      "Setting channel interpolation method to {'eeg': 'spline'}.\n",
      "Interpolating bad channels.\n",
      "    Automatic origin fit: head of radius 95.0 mm\n",
      "Computing interpolation matrix from 64 sensor positions\n",
      "Interpolating 5 sensors\n",
      "Fitting ICA to data using 69 channels (please be patient, this may take a while)\n",
      "Selecting by non-zero PCA components: 64 components\n",
      "Fitting ICA took 1.9s.\n",
      "Using EOG channels: LEYE, REYE\n",
      "Applying ICA to Epochs instance\n",
      "    Transforming to ICA space (64 components)\n",
      "    Zeroing out 2 ICA components\n",
      "    Projecting back using 69 PCA components\n",
      "Correct: 10\n"
     ]
    },
    {
     "name": "stderr",
     "output_type": "stream",
     "text": [
      "C:\\Users\\beene\\AppData\\Local\\Temp\\ipykernel_8312\\2322995967.py:25: FutureWarning: The current default of copy=False will change to copy=True in 1.7. Set the value of copy explicitly to avoid this warning\n",
      "  epochs_data = epochs_ar.get_data()\n"
     ]
    }
   ],
   "source": [
    "# Epochs without re-referencing\n",
    "datlist = sorted(glob.glob(SavePath+'Raw/*.fif'), key=os.path.getctime)\n",
    "savepath = 'C:/Users/beene/python/ml_term_export/Epochs/'\n",
    "excluded = []\n",
    "for sub_i in range(len(datlist)):\n",
    "    print(f'----------{sub_i} is running...----------')\n",
    "    raw = mne.io.read_raw_fif(datlist[sub_i], verbose = False);\n",
    "    if raw.info['sfreq'] >= 500:\n",
    "        raw = raw.resample(250, npad = 'auto')\n",
    "    events, dicttt = mne.events_from_annotations(raw)\n",
    "    stim_events = mne.pick_events(events, include = [dicttt['show_dash']])\n",
    "    epochs = mne.Epochs(raw, stim_events, tmin=-0.5, tmax = 2.496,\n",
    "                         baseline = None, reject = None, preload=True);\n",
    "    ar = autoreject.AutoReject(n_interpolate=None, random_state=42, verbose=False,\n",
    "                               n_jobs = -1)\n",
    "    picks = mne.pick_types(epochs.info, meg=False, eeg=True,\n",
    "                            stim=False, eog=False, include=[], exclude=[])\n",
    "    ransac = Ransac(verbose=False, picks=picks, n_jobs=-1)\n",
    "    epoch_clean = ransac.fit_transform(epochs)\n",
    "    _, reject_log = ar.fit_transform(epoch_clean, return_log=True)  \n",
    "    ica(epoch_clean, reject_log);\n",
    "    epochs_ar, log = ar.fit_transform(epoch_clean, return_log=True)\n",
    "    epochs_ar.drop_channels(['LEYE', 'REYE'])\n",
    "\n",
    "    # Split among wm conditions\n",
    "    epochs_data = epochs_ar.get_data()\n",
    "    idx = log.bad_epochs\n",
    "    sidx = separate_idx(sub_i, idx)\n",
    "    if type(sidx) == int:\n",
    "        excluded.append(sub_i)\n",
    "        continue\n",
    "    separate_epochs(sub_i, epochs_data, sidx, SavePath)\n",
    "    "
   ]
  },
  {
   "cell_type": "code",
   "execution_count": null,
   "metadata": {},
   "outputs": [],
   "source": [
    "# Epochs with Surface Laplacian\n",
    "datlist = sorted(glob.glob(SavePath+'Raw/*.fif'), key=os.path.getctime)\n",
    "savepath = 'C:/Users/beene/python/ml_term_export/Epochs/'\n",
    "for sub_i in range(len(datlist)):\n",
    "    raw = mne.io.read_raw_fif(datlist[sub_i]);\n",
    "    if raw.info['sfreq'] >= 500:\n",
    "        raw = raw.resample(250, npad = 'auto')\n",
    "    events, dicttt = mne.events_from_annotations(raw)\n",
    "    np.argwhere(dicttt=='show_dash')\n",
    "    stim_events = mne.pick_events(events, include = [dicttt['show_dash']])\n",
    "    epochs = mne.Epochs(raw, stim_events, tmin=-0.5, tmax = 2.496,\n",
    "                         baseline = None, reject = None, preload=True);\n",
    "    ar = autoreject.AutoReject(n_interpolate=None, random_state=42,\n",
    "                                n_jobs=-1, verbose=True)\n",
    "    picks = mne.pick_types(epochs.info, meg=False, eeg=True,\n",
    "                            stim=False, eog=False, include=[], exclude=[])\n",
    "    ransac = Ransac(verbose=True, picks=picks, n_jobs=-1)\n",
    "    epoch_clean = ransac.fit_transform(epochs)\n",
    "    _, reject_log = ar.fit_transform(epoch_clean, return_log=True)  \n",
    "    ica(epoch_clean, reject_log);\n",
    "    epochs_ar, log = ar.fit_transform(epoch_clean, return_log=True)\n",
    "    epochs_ar.drop_channels(['LEYE', 'REYE'])\n",
    "\n",
    "    # Surface Laplacian\n",
    "    epochs_csd = mne.preprocessing.compute_current_source_density(epochs_ar)\n",
    "    epochs_csd.save(os.path.join(savepath, f'sub_csd_{sub_i}.fif'), overwrite= True)\n",
    "    \n",
    "    # Split among wm conditions\n",
    "    epochs_data = epochs_csd.get_data()\n",
    "    idx = log.bad_epochs\n",
    "    sidx = separate_idx(sub_i, idx)\n",
    "    if type(sidx) == int:\n",
    "        excluded.append(sub_i)\n",
    "        continue\n",
    "    separate_csd(sub_i, epochs_data, sidx, SavePath)\n",
    "    \n",
    "\"\"\"\n",
    "evoked.plot_joint(title=\"Average Reference\", show=False)\n",
    "evoked_csd.plot_joint(title=\"Current Source Density\")\"\"\""
   ]
  },
  {
   "cell_type": "code",
   "execution_count": 9,
   "metadata": {},
   "outputs": [],
   "source": [
    "# Integrate all epochs\n",
    "SavePath = 'C:/Users/beene/python/ml_term_export/'\n",
    "\n",
    "for wl_i in [3, 5, 7]:\n",
    "    savelist = sorted(glob.glob(SavePath+f'm{wl_i}_csd/*.pkl'), key=os.path.getctime)\n",
    "    for sub_i in range(len(savelist)):\n",
    "        if sub_i == 0:\n",
    "            epoch = pickle.load(open(savelist[sub_i], 'rb'))\n",
    "        else:\n",
    "            epoch = np.append(epoch, pickle.load(open(savelist[sub_i], 'rb')), axis = 0)\n",
    "    pickle.dump(epoch, open(SavePath+f'total_csd_{wl_i}.pkl', 'wb'))"
   ]
  },
  {
   "attachments": {},
   "cell_type": "markdown",
   "metadata": {},
   "source": [
    "## Analyze Data"
   ]
  },
  {
   "cell_type": "code",
   "execution_count": 2534,
   "metadata": {},
   "outputs": [],
   "source": [
    "# Load Total Epochs\n",
    "chunkpath = 'C:/Users/beene/python/ml_term_export/'\n",
    "#chunkpath = 'C:/Users/hyeok/내 드라이브/Python/Machine learning term project/'\n",
    "\n",
    "tlist = glob.glob(chunkpath+'total_[0-9].pkl')\n",
    "epochs3 = pickle.load(open(tlist[0], 'rb'))\n",
    "epochs5 = pickle.load(open(tlist[1], 'rb'))\n",
    "epochs7 = pickle.load(open(tlist[2], 'rb'))\n",
    "\n",
    "getidx = lambda x, exclude: np.array(list(set(np.arange(x.shape[0])) - set(exclude)))\n",
    "\n",
    "dataset = [epochs3[getidx(epochs3, exclude3)], epochs5[getidx(epochs5, exclude5)], epochs7[getidx(epochs7, exclude7)]]\n",
    "dataset = list(map(lambda x: np.array(x), dataset))"
   ]
  },
  {
   "cell_type": "code",
   "execution_count": 2279,
   "metadata": {},
   "outputs": [],
   "source": [
    "exclude3 = np.append(np.array([102, 103]), np.arange(552, epochs3.shape[0]))\n",
    "exclude5 = np.append(np.append(np.array([100, 101, 102, 103]), np.arange(346, 367)), np.arange(558, epochs5.shape[0]))\n",
    "exclude7 = np.append(np.append(np.arange(98, 107), np.arange(346, 367)), np.arange(558, epochs7.shape[0]))"
   ]
  },
  {
   "cell_type": "code",
   "execution_count": 5,
   "metadata": {},
   "outputs": [],
   "source": [
    "# Total Time-Frequency Params\n",
    "srate = 250.0\n",
    "wavtime = jnp.arange(-2, 2-1/srate, 1/srate)\n",
    "frex = jnp.arange(1, 20.1, 1)\n",
    "tfrex = jnp.array([jnp.abs(frex-x).argmin() for x in [14, 20, 31, 50]])\n",
    "#frex = jnp.arange(4, 60.1, 2)\n",
    "#frex = jnp.append(jnp.arange(4, 12.1, 1.5), jnp.append(jnp.arange(20, 30.1, 2), jnp.arange(50, 70.1, 3)))\n",
    "halfwav = (len(wavtime)-1)/2\n",
    "baseidx = (jnp.arange(-0.5, 2.5, 1/250)**2).argmin()\n",
    "\n",
    "nwave = len(wavtime)\n",
    "\n",
    "times = jnp.arange(-0.5, 2.5, 1/250)\n",
    "treamed = jnp.arange(0, 2, 1/250)\n",
    "downsampled_times = jnp.arange(0, 2, 0.025)\n",
    "downsample = np.array([np.argmin(np.abs(treamed-i)) for i in downsampled_times]) # downsampling index\n",
    "target_time = [jnp.argmin((times-0)**2), jnp.argmin((times-2)**2)]"
   ]
  },
  {
   "cell_type": "code",
   "execution_count": 2284,
   "metadata": {},
   "outputs": [],
   "source": [
    "# Complex Morlet Wavelet\n",
    "# Dot Product in the Frequency Domain  \n",
    "frex = jnp.arange(1, 20.1, 1)\n",
    "for data_i in range(len(dataset)):\n",
    "    total_tf = []\n",
    "    # Morlet wavelet\n",
    "    cmw = []\n",
    "    nData = dataset[data_i].shape[0]*750\n",
    "    nConv = nData+nwave-1\n",
    "    for fi, _ in enumerate(frex):\n",
    "        wl = jnp.exp(1j*2*jnp.pi*frex[fi]*wavtime)*jnp.exp(-4*jnp.log10(2)*wavtime**2/0.3**2)\n",
    "        wl = jnp.fft.fft(wl, nConv)\n",
    "        wl = wl/jnp.max(wl)\n",
    "        cmw.append(wl)\n",
    "    # Loop; elemental-wise dot product in Frequency domain\n",
    "    for chan_i in range(dataset[data_i].shape[1]):\n",
    "        data = dataset[data_i][:, chan_i, :]\n",
    "        dat_fft = jnp.fft.fft(jnp.array(data).reshape(-1), nConv)\n",
    "        tf = []\n",
    "        for fi, _ in enumerate(frex):\n",
    "            ft_dat = jnp.fft.ifft(dat_fft*cmw[fi], nConv)[int(halfwav):int(-halfwav)].reshape(data.shape)\n",
    "            basepow = jnp.mean(abs(ft_dat[:, :baseidx]**2), 1) # Baseline\n",
    "            pow = 10*jnp.log10(abs(ft_dat**2)/basepow.reshape(-1, 1)) # Bell normalization\n",
    "            tf.append(pow[:, target_time[0]:target_time[1]])   \n",
    "        total_tf.append(jnp.array(tf).transpose(1, 0, 2))\n",
    "    pickle.dump(jnp.array(total_tf).transpose(1, 0, 2, 3), open(chunkpath+f'pow_{data_i}.pkl', 'wb'))            "
   ]
  },
  {
   "cell_type": "code",
   "execution_count": 78,
   "metadata": {},
   "outputs": [],
   "source": [
    "# Complex Morlet Wavelet (mean over time)\n",
    "# Dot Product in the Frequency Domain  \n",
    "for data_i in range(len(dataset)):\n",
    "    total_tf = []\n",
    "    # Morlet wavelet\n",
    "    cmw = []\n",
    "    nData = dataset[data_i].shape[0]*750\n",
    "    nConv = nData+nwave-1\n",
    "    for fi, _ in enumerate(frex):\n",
    "        wl = jnp.exp(1j*2*jnp.pi*frex[fi]*wavtime)*jnp.exp(-4*jnp.log10(2)*wavtime**2/0.3**2)\n",
    "        wl = jnp.fft.fft(wl, nConv)\n",
    "        wl = wl/jnp.max(wl)\n",
    "        cmw.append(wl)\n",
    "    # Loop; elemental-wise dot product in Frequency domain\n",
    "    for chan_i in range(dataset[data_i].shape[1]):\n",
    "        data = dataset[data_i][:, chan_i, :]\n",
    "        dat_fft = jnp.fft.fft(jnp.array(data).reshape(-1), nConv)\n",
    "        tf = []\n",
    "        for fi, _ in enumerate(frex):\n",
    "            ft_dat = jnp.fft.ifft(dat_fft*cmw[fi], nConv)[int(halfwav):int(-halfwav)].reshape(data.shape)\n",
    "            basepow = jnp.mean(abs(ft_dat[:, :baseidx])**2, 1) # Baseline\n",
    "            pow = 10*jnp.log10(abs(ft_dat)**2/basepow.reshape(-1, 1)) # Bell normalization\n",
    "            tf.append(pow[:, target_time[0]:target_time[1]])\n",
    "        tf = jnp.array(tf).transpose((1, 0, 2))\n",
    "        \n",
    "        tlist = []\n",
    "        tlist.append(tf[:, :tfrex[0], :].mean(axis=1))\n",
    "        tlist.append(tf[:, tfrex[1]:tfrex[2], :].mean(axis=1)) \n",
    "        tlist.append(tf[:, tfrex[3]:, :].mean(axis=1))\n",
    "        total_tf.append(jnp.array(tlist))\n",
    "    pickle.dump(jnp.array(total_tf).transpose((1, 0, 2, 3)), open(chunkpath+f'pow_{data_i}.pkl', 'wb'))"
   ]
  },
  {
   "cell_type": "code",
   "execution_count": 2293,
   "metadata": {},
   "outputs": [
    {
     "data": {
      "text/plain": [
       "(69, 100, 500)"
      ]
     },
     "execution_count": 2293,
     "metadata": {},
     "output_type": "execute_result"
    }
   ],
   "source": [
    "jnp.array(total_tf).shape"
   ]
  },
  {
   "cell_type": "code",
   "execution_count": 2285,
   "metadata": {},
   "outputs": [],
   "source": [
    "# Mean CMW\n",
    "# Complex Morlet Wavelet\n",
    "# Dot Product in the Frequency Domain  \n",
    "frex = jnp.arange(1, 100.1, 1)\n",
    "for data_i in range(len(dataset)):\n",
    "    total_tf = []\n",
    "    # Morlet wavelet\n",
    "    cmw = []\n",
    "    nData = dataset[data_i].shape[0]*750\n",
    "    nConv = nData+nwave-1\n",
    "    for fi, _ in enumerate(frex):\n",
    "        wl = jnp.exp(1j*2*jnp.pi*frex[fi]*wavtime)*jnp.exp(-4*jnp.log10(2)*wavtime**2/0.3**2)\n",
    "        wl = jnp.fft.fft(wl, nConv)\n",
    "        wl = wl/jnp.max(wl)\n",
    "        cmw.append(wl)\n",
    "    # Loop; elemental-wise dot product in Frequency domain\n",
    "    for chan_i in range(dataset[data_i].shape[1]):\n",
    "        data = dataset[data_i][:, chan_i, :]\n",
    "        dat_fft = jnp.fft.fft(jnp.array(data).reshape(-1), nConv)\n",
    "        tf = []\n",
    "        for fi, _ in enumerate(frex):\n",
    "            ft_dat = jnp.fft.ifft(dat_fft*cmw[fi], nConv)[int(halfwav):int(-halfwav)].reshape(data.shape)\n",
    "            basepow = jnp.mean(abs(ft_dat[:, :baseidx]**2), 1) # Baseline\n",
    "            pow = 10*jnp.log10(abs(ft_dat**2)/basepow.reshape(-1, 1)) # Bell normalization\n",
    "            tf.append(pow[:, target_time[0]:target_time[1]].mean(axis=0))   \n",
    "        total_tf.append(jnp.array(tf))\n",
    "    pickle.dump(jnp.array(total_tf), open(chunkpath+f'mean_pow_{data_i}.pkl', 'wb'))            "
   ]
  },
  {
   "cell_type": "code",
   "execution_count": 2536,
   "metadata": {},
   "outputs": [],
   "source": [
    "# Pwelch: Power Spectrum\n",
    "# Dot Product in the Frequency Domain\n",
    "for data_i in range(len(dataset)):\n",
    "    total_psd = []\n",
    "    for chan_i in range(dataset[data_i].shape[1]):\n",
    "        data = dataset[data_i][:, chan_i, :]\n",
    "        data -= data[:, :baseidx].mean(axis=1).reshape(-1, 1)\n",
    "        _, psd = signal.welch(data[:, target_time[0]:target_time[1]], fs=250, window='hann', nperseg=250,\n",
    "                                     noverlap=250//4, nfft=None, detrend='constant',\n",
    "                                     return_onesided=True, scaling='density', axis=-1,\n",
    "                                     average='mean')\n",
    "        total_psd.append(jnp.array(psd))\n",
    "    pickle.dump(jnp.array(total_psd).transpose((1, 0, 2)), open(chunkpath+f'csd_psd_{data_i}.pkl', 'wb'))"
   ]
  },
  {
   "cell_type": "code",
   "execution_count": null,
   "metadata": {},
   "outputs": [],
   "source": [
    "# PAC\n",
    "for data_i in range(len(dataset)):\n",
    "    total_psd = []\n",
    "    for chan_i in range(dataset[data_i].shape[1]):\n",
    "        data = dataset[data_i][:, chan_i, :]\n",
    "        data -= data[:, :baseidx].mean(axis=1).reshape(-1, 1)\n",
    "        \n",
    "        total_psd.append(jnp.array(psd))\n",
    "    pickle.dump(jnp.array(total_psd).transpose((1, 0, 2)), open(chunkpath+f'psd_{data_i}.pkl', 'wb'))"
   ]
  },
  {
   "cell_type": "code",
   "execution_count": 2299,
   "metadata": {},
   "outputs": [
    {
     "data": {
      "text/plain": [
       "Array(0, dtype=int32)"
      ]
     },
     "execution_count": 2299,
     "metadata": {},
     "output_type": "execute_result"
    }
   ],
   "source": [
    "np.sum(tf7==-np.inf)"
   ]
  },
  {
   "cell_type": "code",
   "execution_count": 2326,
   "metadata": {},
   "outputs": [
    {
     "data": {
      "text/plain": [
       "Text(0.5, 1.0, 'Load 7 - Load 5')"
      ]
     },
     "execution_count": 2326,
     "metadata": {},
     "output_type": "execute_result"
    },
    {
     "data": {
      "image/png": "[encoded data removed]",
      "text/plain": [
       "<Figure size 1300x300 with 6 Axes>"
      ]
     },
     "metadata": {},
     "output_type": "display_data"
    },
    {
     "data": {
      "image/png": "[encoded data removed]",
      "text/plain": [
       "<Figure size 866.667x300 with 4 Axes>"
      ]
     },
     "metadata": {},
     "output_type": "display_data"
    },
    {
     "data": {
      "image/png": "[encoded data removed]",
      "text/plain": [
       "<Figure size 433.333x300 with 2 Axes>"
      ]
     },
     "metadata": {},
     "output_type": "display_data"
    }
   ],
   "source": [
    "# TF Visually check\n",
    "mean_tfpath = 'C:/Users/beene/python/ml_term_export/mean_tf/'\n",
    "frex = jnp.arange(1, 100.1, 1)\n",
    "def mean_tf_load(num):\n",
    "     tf = pickle.load(open(mean_tfpath+f'mean_pow_{num}.pkl', 'rb'))\n",
    "     \"\"\"infidx = tf==-np.inf\n",
    "     if np.sum(infidx):\n",
    "          infidx1, infidx2 = np.argwhere(tf==-np.inf), np.argwhere(tf==-np.inf)\n",
    "          infidx1[:, 2] -= np.ones(infidx1.shape[0], dtype = int)\n",
    "          infidx2[:, 2] += np.ones(infidx2.shape[0], dtype = int)\n",
    "          tf = tf.at[tf==-np.inf].set((tf[infidx1[:, 0], infidx1[:, 1], infidx1[:, 2]] + tf[infidx2[:, 0], infidx2[:, 1], infidx2[:, 2]])/2)\"\"\"\n",
    "     tf_ga = tf.mean(axis=0)\n",
    "     return(tf, tf_ga)\n",
    "     \n",
    "tf3, tf3_ga = mean_tf_load(0)\n",
    "tf5, tf5_ga = mean_tf_load(1)\n",
    "tf7, tf7_ga = mean_tf_load(2)\n",
    "\n",
    "levels = np.linspace(-3, 3, 10)\n",
    "plt.figure(figsize = (13, 3))\n",
    "plt.subplot(1, 3, 1)\n",
    "ftp = plt.contourf(treamed, frex, tf3_ga, cmap = 'RdBu_r', vmin = -3, vmax = 3, levels=levels)\n",
    "plt.ylabel('Frequency')\n",
    "plt.xlabel('sec')\n",
    "plt.colorbar(ticks = np.arange(-3, 3.1, 1))\n",
    "plt.clim(-3, 3)\n",
    "plt.title('Load 3')\n",
    "\n",
    "plt.subplot(1, 3, 2)\n",
    "plt.contourf(treamed, frex, tf5_ga, cmap = 'RdBu_r', vmin = -3, vmax = 3, levels=levels)\n",
    "plt.xlabel('sec')\n",
    "plt.colorbar(ticks = np.arange(-3, 3.1, 1))\n",
    "plt.clim(-3, 3)\n",
    "plt.title('Load 5')\n",
    "\n",
    "plt.subplot(1, 3, 3)\n",
    "plt.contourf(treamed, frex, tf7_ga, cmap = 'RdBu_r', vmin = -3, vmax = 3, levels=levels)\n",
    "plt.xlabel('sec')\n",
    "plt.colorbar(ticks = np.arange(-3, 3.1, 1))\n",
    "plt.clim(-3, 3)\n",
    "plt.title('Load 7')\n",
    "\n",
    "plt.figure(2, figsize = (13/3*2, 3))\n",
    "plt.subplot(1, 2, 1)\n",
    "plt.contourf(treamed, frex, tf5_ga-tf3_ga, cmap = 'RdBu_r', vmin = -3, vmax = 3, levels=levels)\n",
    "plt.xlabel('sec')\n",
    "plt.colorbar(ticks = np.arange(-3, 3.1, 1))\n",
    "plt.clim(-3, 3)\n",
    "plt.title('Load 5 - Load 3')\n",
    "\n",
    "plt.subplot(1, 2, 2)\n",
    "plt.contourf(treamed, frex, tf7_ga-tf3_ga, cmap = 'RdBu_r', vmin = -3, vmax = 3, levels=levels)\n",
    "plt.xlabel('sec')\n",
    "plt.colorbar(ticks = np.arange(-3, 3.1, 1))\n",
    "plt.clim(-3, 3)\n",
    "plt.title('Load 7 - Load 3')\n",
    "\n",
    "plt.figure(3, figsize = (13/3, 3))\n",
    "plt.contourf(treamed, frex, tf7_ga-tf5_ga, cmap = 'RdBu_r', vmin = -3, vmax = 3, levels=levels)\n",
    "plt.xlabel('sec')\n",
    "plt.colorbar(ticks = np.arange(-3, 3.1, 1))\n",
    "plt.clim(-3, 3)\n",
    "plt.title('Load 7 - Load 5')"
   ]
  },
  {
   "cell_type": "code",
   "execution_count": 2338,
   "metadata": {},
   "outputs": [
    {
     "data": {
      "text/plain": [
       "Text(0.5, 1.0, 'Load 7')"
      ]
     },
     "execution_count": 2338,
     "metadata": {},
     "output_type": "execute_result"
    },
    {
     "data": {
      "image/png": "[encoded data removed]",
      "text/plain": [
       "<Figure size 1300x300 with 6 Axes>"
      ]
     },
     "metadata": {},
     "output_type": "display_data"
    }
   ],
   "source": [
    "plt.figure(figsize = (13, 3))\n",
    "plt.subplot(1, 3, 1)\n",
    "maxn = 3\n",
    "levels = np.linspace(-maxn, maxn, 10)\n",
    "ftp = plt.contourf(treamed, frex, tf3[target_ch].reshape(100, 500), cmap = 'RdBu_r', vmin = -maxn, vmax = maxn, levels = levels)\n",
    "plt.ylabel('Frequency')\n",
    "plt.xlabel('sec')\n",
    "plt.colorbar(ticks = np.arange(-maxn, maxn+0.1, 1))\n",
    "plt.clim(-3, 3)\n",
    "plt.title('Load 3')\n",
    "\n",
    "plt.subplot(1, 3, 2)\n",
    "plt.contourf(treamed, frex, tf5[target_ch].reshape(100, 500), cmap = 'RdBu_r', vmin = -maxn, vmax = maxn, levels = levels)\n",
    "plt.xlabel('sec')\n",
    "plt.colorbar(ticks = np.arange(-maxn, maxn+.1, 1))\n",
    "plt.clim(-3, 3)\n",
    "plt.title('Load 5')\n",
    "\n",
    "plt.subplot(1, 3, 3)\n",
    "plt.contourf(treamed, frex, tf7[target_ch].reshape(100, 500), cmap = 'RdBu_r', vmin = -maxn, vmax = maxn, levels = levels)\n",
    "plt.xlabel('sec')\n",
    "plt.colorbar(ticks = np.arange(-maxn, maxn+0.1, 1))\n",
    "plt.clim(-3, 3)\n",
    "plt.title('Load 7')"
   ]
  },
  {
   "attachments": {},
   "cell_type": "markdown",
   "metadata": {},
   "source": [
    "## Training"
   ]
  },
  {
   "cell_type": "code",
   "execution_count": 2,
   "metadata": {},
   "outputs": [
    {
     "name": "stdout",
     "output_type": "stream",
     "text": [
      "Opening raw data file C:/Users/beene/내 드라이브/Python/Machine learning term project/sub_0.fif...\n",
      "    Range : 0 ... 163237 =      0.000 ...   652.948 secs\n",
      "Ready.\n",
      "Reading 0 ... 163237  =      0.000 ...   652.948 secs...\n"
     ]
    },
    {
     "name": "stderr",
     "output_type": "stream",
     "text": [
      "C:\\Users\\beene\\AppData\\Local\\Temp\\ipykernel_20120\\4279899827.py:4: RuntimeWarning: This filename (C:/Users/beene/내 드라이브/Python/Machine learning term project/sub_0.fif) does not conform to MNE naming conventions. All raw files should end with raw.fif, raw_sss.fif, raw_tsss.fif, _meg.fif, _eeg.fif, _ieeg.fif, raw.fif.gz, raw_sss.fif.gz, raw_tsss.fif.gz, _meg.fif.gz, _eeg.fif.gz or _ieeg.fif.gz\n",
      "  raw = mne.io.read_raw_fif(chunkpath+'sub_0.fif', preload = True)\n"
     ]
    }
   ],
   "source": [
    "# Channel Selection\n",
    "#chunkpath = 'C:/Users/hyeok/내 드라이브/Python/Machine learning term project/'\n",
    "chunkpath = 'C:/Users/beene/내 드라이브/Python/Machine learning term project/'\n",
    "raw = mne.io.read_raw_fif(chunkpath+'sub_0.fif', preload = True)\n",
    "easycap_montage = mne.channels.make_standard_montage(\"easycap-M1\")\n",
    "\n",
    "chlist = ['AF3', 'Oz']\n",
    "target_ch = np.array(np.argwhere([[re.match(x+'$', i) for i in raw.ch_names] for x in chlist]))[:, 1]"
   ]
  },
  {
   "cell_type": "code",
   "execution_count": 6,
   "metadata": {},
   "outputs": [
    {
     "data": {
      "image/png": "[encoded data removed]",
      "text/plain": [
       "<Figure size 640x640 with 1 Axes>"
      ]
     },
     "metadata": {},
     "output_type": "display_data"
    },
    {
     "data": {
      "text/plain": [
       "(<Figure size 640x640 with 1 Axes>, None)"
      ]
     },
     "execution_count": 6,
     "metadata": {},
     "output_type": "execute_result"
    }
   ],
   "source": [
    "easycap_montage.plot(), plt.show()"
   ]
  },
  {
   "cell_type": "code",
   "execution_count": 3,
   "metadata": {},
   "outputs": [],
   "source": [
    "# Libraries\n",
    "from sklearn.preprocessing import StandardScaler, MinMaxScaler\n",
    "from sklearn.model_selection import train_test_split, RandomizedSearchCV, cross_val_score, GridSearchCV\n",
    "from sklearn.svm import SVC\n",
    "from sklearn.metrics import accuracy_score, precision_recall_fscore_support\n",
    "from sklearn.ensemble import RandomForestClassifier\n",
    "from sklearn.svm import LinearSVC\n",
    "from sklearn.linear_model import SGDClassifier\n",
    "from sklearn.neighbors import KNeighborsClassifier"
   ]
  },
  {
   "cell_type": "markdown",
   "metadata": {},
   "source": [
    "### Time-freuqnecy"
   ]
  },
  {
   "cell_type": "code",
   "execution_count": 20,
   "metadata": {},
   "outputs": [],
   "source": [
    "# load tf\n",
    "#tfpath = 'C:/Users/beene/python/ml_term_export/tf_sep_ch/'\n",
    "#tfpath = 'C:/Users/hyeok/내 드라이브/Python/Machine learning term project/tf/'\n",
    "tfpath = 'C:/Users/beene/python/ml_term_export/tf/'\n",
    "#tfpath = 'C:/Users/beene/내 드라이브/Python/Machine learning term project/tf/'\n",
    "def tf_load(num):\n",
    "     #split = jnp.array([jnp.abs(treamed-x).argmin() for x in [0.5, 1, 1.5]])\n",
    "     tf = pickle.load(open(tfpath+f'pow_{num}.pkl', 'rb'))\n",
    "     \"\"\"infidx = tf==-np.inf\n",
    "     if np.sum(infidx):\n",
    "          infidx1, infidx2 = np.argwhere(tf==-np.inf), np.argwhere(tf==-np.inf)\n",
    "          infidx1[:, 3] -= np.ones(infidx1.shape[0], dtype = int)\n",
    "          infidx2[:, 3] += np.ones(infidx2.shape[0], dtype = int)\n",
    "          tf = tf.at[tf==-np.inf].set((tf[infidx1[:, 0], infidx1[:, 1], infidx1[:, 2],infidx1[:, 3]] + tf[infidx2[:, 0], infidx2[:, 1], infidx2[:, 2],infidx1[:, 3]])/2)\"\"\"\n",
    "     return tf\n",
    "     \n",
    "tf3 = tf_load(0)[:, :, :, downsample].mean(axis=1)\n",
    "tf5 = tf_load(1)[:, :, :, downsample].mean(axis=1)\n",
    "tf7 = tf_load(2)[:, :, :, downsample].mean(axis=1)"
   ]
  },
  {
   "cell_type": "code",
   "execution_count": 2480,
   "metadata": {},
   "outputs": [],
   "source": [
    "tf3 = np.array([tf3[:, :, :40].mean(axis = 2), tf3[:, :, 40:].mean(axis = 2)]).transpose(1, 2, 0).reshape(tf3.shape[0], -1)\n",
    "tf5 = np.array([tf5[:, :, :40].mean(axis = 2), tf5[:, :, 40:].mean(axis = 2)]).transpose(1, 2, 0).reshape(tf5.shape[0], -1)\n",
    "tf7 = np.array([tf7[:, :, :40].mean(axis = 2), tf7[:, :, 40:].mean(axis = 2)]).transpose(1, 2, 0).reshape(tf7.shape[0], -1)"
   ]
  },
  {
   "cell_type": "code",
   "execution_count": 21,
   "metadata": {},
   "outputs": [
    {
     "data": {
      "text/plain": [
       "(550, 20, 80)"
      ]
     },
     "execution_count": 21,
     "metadata": {},
     "output_type": "execute_result"
    }
   ],
   "source": [
    "tf3.shape"
   ]
  },
  {
   "cell_type": "code",
   "execution_count": 2473,
   "metadata": {},
   "outputs": [
    {
     "data": {
      "text/plain": [
       "<matplotlib.colorbar.Colorbar at 0x24317170ca0>"
      ]
     },
     "execution_count": 2473,
     "metadata": {},
     "output_type": "execute_result"
    },
    {
     "data": {
      "image/png": "[encoded data removed]",
      "text/plain": [
       "<Figure size 1200x300 with 6 Axes>"
      ]
     },
     "metadata": {},
     "output_type": "display_data"
    }
   ],
   "source": [
    "plt.figure(figsize = (12, 3))\n",
    "maxn = 4.5\n",
    "levels = np.linspace(-maxn, maxn, 9)\n",
    "plt.subplot(1, 3, 1)\n",
    "plt.contourf(downsampled_times, frex[:20], tf3.mean(axis=0), cmap = 'RdBu_r',\n",
    "             vmin = -maxn, vmax = maxn, levels = levels)\n",
    "plt.colorbar(ticks = np.arange(-4, 4+.1, 1))\n",
    "plt.subplot(1, 3, 2)\n",
    "plt.contourf(downsampled_times, frex[:20], tf5.mean(axis=0), cmap = 'RdBu_r',\n",
    "             vmin = -maxn, vmax = maxn, levels = levels)\n",
    "plt.colorbar(ticks = np.arange(-4, 4+.1, 1))\n",
    "plt.subplot(1, 3, 3)\n",
    "plt.contourf(downsampled_times, frex[:20], tf7.mean(axis=0), cmap = 'RdBu_r',\n",
    "             vmin = -maxn, vmax = maxn, levels = levels)\n",
    "plt.colorbar(ticks = np.arange(-4, 4+.1, 1))\n",
    "#plt.axis(aspect = 'image')"
   ]
  },
  {
   "cell_type": "code",
   "execution_count": 8,
   "metadata": {},
   "outputs": [],
   "source": [
    "# Train-test split\n",
    "def split_tf(tf3, tf5, tf7):\n",
    "    #reshapef = lambda x: x[:, chx, :, :40].reshape(x.shape[0], -1)\n",
    "    all_data = jnp.concatenate((tf3, tf5, tf7))\n",
    "    all_data = all_data[delmask(all_data)]\n",
    "    all_data = StandardScaler().fit_transform(all_data) # Standardization\n",
    "    #all_data = MinMaxScaler().fit_transform(all_data)\n",
    "    \n",
    "    all_label = jnp.array([0]*tf3.shape[0]+[1]*tf5.shape[0]+[2]*tf7.shape[0])\n",
    "    all_label = all_label[delmask(all_data)]\n",
    "\n",
    "    return train_test_split(all_data, all_label, test_size = 0.2, random_state=10,\n",
    "                            stratify = all_label, shuffle = True)\n",
    "\n",
    "def delmask(all_data):\n",
    "    mask = np.ones((all_data.shape[0], 1), dtype = bool).reshape(-1)\n",
    "    mask[np.unique(np.argwhere(all_data==-np.inf)[:, 0])] = 0\n",
    "    maskidx = np.arange(all_data.shape[0])[mask]\n",
    "    return maskidx"
   ]
  },
  {
   "cell_type": "code",
   "execution_count": 9,
   "metadata": {},
   "outputs": [
    {
     "ename": "ValueError",
     "evalue": "Found array with dim 3. StandardScaler expected <= 2.",
     "output_type": "error",
     "traceback": [
      "\u001b[1;31m---------------------------------------------------------------------------\u001b[0m",
      "\u001b[1;31mValueError\u001b[0m                                Traceback (most recent call last)",
      "Cell \u001b[1;32mIn[9], line 32\u001b[0m\n\u001b[0;32m     25\u001b[0m     \u001b[38;5;28mprint\u001b[39m(\u001b[38;5;124mf\u001b[39m\u001b[38;5;124m'\u001b[39m\u001b[38;5;124mKNN Classifier score: \u001b[39m\u001b[38;5;132;01m{\u001b[39;00mknn_score\u001b[38;5;132;01m}\u001b[39;00m\u001b[38;5;124m, \u001b[39m\u001b[38;5;132;01m{\u001b[39;00mnp\u001b[38;5;241m.\u001b[39mmean(knn_score)\u001b[38;5;132;01m}\u001b[39;00m\u001b[38;5;124m'\u001b[39m\n\u001b[0;32m     26\u001b[0m           \u001b[38;5;124mf\u001b[39m\u001b[38;5;124m'\u001b[39m\u001b[38;5;130;01m\\n\u001b[39;00m\u001b[38;5;124mpredict score: \u001b[39m\u001b[38;5;132;01m{\u001b[39;00maccuracy_score(y_test,\u001b[38;5;250m \u001b[39mknn\u001b[38;5;241m.\u001b[39mpredict(X_test))\u001b[38;5;132;01m}\u001b[39;00m\u001b[38;5;124m'\u001b[39m)          \n\u001b[0;32m     29\u001b[0m \u001b[38;5;124;03m\"\"\"for chx in range(len(target_ch)):\u001b[39;00m\n\u001b[0;32m     30\u001b[0m \u001b[38;5;124;03m      print(f'-------------------------{raw.ch_names[target_ch[chx]]}------------------------')\u001b[39;00m\n\u001b[0;32m     31\u001b[0m \u001b[38;5;124;03m      train_tf(*split_tf(tf3, tf5, tf7, chx))\"\"\"\u001b[39;00m\n\u001b[1;32m---> 32\u001b[0m train_tf(\u001b[38;5;241m*\u001b[39m\u001b[43msplit_tf\u001b[49m\u001b[43m(\u001b[49m\u001b[43mtf3\u001b[49m\u001b[43m,\u001b[49m\u001b[43m \u001b[49m\u001b[43mtf5\u001b[49m\u001b[43m,\u001b[49m\u001b[43m \u001b[49m\u001b[43mtf7\u001b[49m\u001b[43m)\u001b[49m)\n\u001b[0;32m     33\u001b[0m \u001b[38;5;66;03m#train_tf(*split_tf(tf3, tf5, tf7))\u001b[39;00m\n",
      "Cell \u001b[1;32mIn[8], line 6\u001b[0m, in \u001b[0;36msplit_tf\u001b[1;34m(tf3, tf5, tf7)\u001b[0m\n\u001b[0;32m      4\u001b[0m all_data \u001b[38;5;241m=\u001b[39m jnp\u001b[38;5;241m.\u001b[39mconcatenate((tf3, tf5, tf7))\n\u001b[0;32m      5\u001b[0m all_data \u001b[38;5;241m=\u001b[39m all_data[delmask(all_data)]\n\u001b[1;32m----> 6\u001b[0m all_data \u001b[38;5;241m=\u001b[39m \u001b[43mStandardScaler\u001b[49m\u001b[43m(\u001b[49m\u001b[43m)\u001b[49m\u001b[38;5;241;43m.\u001b[39;49m\u001b[43mfit_transform\u001b[49m\u001b[43m(\u001b[49m\u001b[43mall_data\u001b[49m\u001b[43m)\u001b[49m \u001b[38;5;66;03m# Standardization\u001b[39;00m\n\u001b[0;32m      7\u001b[0m \u001b[38;5;66;03m#all_data = MinMaxScaler().fit_transform(all_data)\u001b[39;00m\n\u001b[0;32m      9\u001b[0m all_label \u001b[38;5;241m=\u001b[39m jnp\u001b[38;5;241m.\u001b[39marray([\u001b[38;5;241m0\u001b[39m]\u001b[38;5;241m*\u001b[39mtf3\u001b[38;5;241m.\u001b[39mshape[\u001b[38;5;241m0\u001b[39m]\u001b[38;5;241m+\u001b[39m[\u001b[38;5;241m1\u001b[39m]\u001b[38;5;241m*\u001b[39mtf5\u001b[38;5;241m.\u001b[39mshape[\u001b[38;5;241m0\u001b[39m]\u001b[38;5;241m+\u001b[39m[\u001b[38;5;241m2\u001b[39m]\u001b[38;5;241m*\u001b[39mtf7\u001b[38;5;241m.\u001b[39mshape[\u001b[38;5;241m0\u001b[39m])\n",
      "File \u001b[1;32mc:\\Users\\beene\\anaconda3\\envs\\torch\\lib\\site-packages\\sklearn\\utils\\_set_output.py:157\u001b[0m, in \u001b[0;36m_wrap_method_output.<locals>.wrapped\u001b[1;34m(self, X, *args, **kwargs)\u001b[0m\n\u001b[0;32m    155\u001b[0m \u001b[38;5;129m@wraps\u001b[39m(f)\n\u001b[0;32m    156\u001b[0m \u001b[38;5;28;01mdef\u001b[39;00m \u001b[38;5;21mwrapped\u001b[39m(\u001b[38;5;28mself\u001b[39m, X, \u001b[38;5;241m*\u001b[39margs, \u001b[38;5;241m*\u001b[39m\u001b[38;5;241m*\u001b[39mkwargs):\n\u001b[1;32m--> 157\u001b[0m     data_to_wrap \u001b[38;5;241m=\u001b[39m f(\u001b[38;5;28mself\u001b[39m, X, \u001b[38;5;241m*\u001b[39margs, \u001b[38;5;241m*\u001b[39m\u001b[38;5;241m*\u001b[39mkwargs)\n\u001b[0;32m    158\u001b[0m     \u001b[38;5;28;01mif\u001b[39;00m \u001b[38;5;28misinstance\u001b[39m(data_to_wrap, \u001b[38;5;28mtuple\u001b[39m):\n\u001b[0;32m    159\u001b[0m         \u001b[38;5;66;03m# only wrap the first output for cross decomposition\u001b[39;00m\n\u001b[0;32m    160\u001b[0m         return_tuple \u001b[38;5;241m=\u001b[39m (\n\u001b[0;32m    161\u001b[0m             _wrap_data_with_container(method, data_to_wrap[\u001b[38;5;241m0\u001b[39m], X, \u001b[38;5;28mself\u001b[39m),\n\u001b[0;32m    162\u001b[0m             \u001b[38;5;241m*\u001b[39mdata_to_wrap[\u001b[38;5;241m1\u001b[39m:],\n\u001b[0;32m    163\u001b[0m         )\n",
      "File \u001b[1;32mc:\\Users\\beene\\anaconda3\\envs\\torch\\lib\\site-packages\\sklearn\\base.py:916\u001b[0m, in \u001b[0;36mTransformerMixin.fit_transform\u001b[1;34m(self, X, y, **fit_params)\u001b[0m\n\u001b[0;32m    912\u001b[0m \u001b[38;5;66;03m# non-optimized default implementation; override when a better\u001b[39;00m\n\u001b[0;32m    913\u001b[0m \u001b[38;5;66;03m# method is possible for a given clustering algorithm\u001b[39;00m\n\u001b[0;32m    914\u001b[0m \u001b[38;5;28;01mif\u001b[39;00m y \u001b[38;5;129;01mis\u001b[39;00m \u001b[38;5;28;01mNone\u001b[39;00m:\n\u001b[0;32m    915\u001b[0m     \u001b[38;5;66;03m# fit method of arity 1 (unsupervised transformation)\u001b[39;00m\n\u001b[1;32m--> 916\u001b[0m     \u001b[38;5;28;01mreturn\u001b[39;00m \u001b[38;5;28mself\u001b[39m\u001b[38;5;241m.\u001b[39mfit(X, \u001b[38;5;241m*\u001b[39m\u001b[38;5;241m*\u001b[39mfit_params)\u001b[38;5;241m.\u001b[39mtransform(X)\n\u001b[0;32m    917\u001b[0m \u001b[38;5;28;01melse\u001b[39;00m:\n\u001b[0;32m    918\u001b[0m     \u001b[38;5;66;03m# fit method of arity 2 (supervised transformation)\u001b[39;00m\n\u001b[0;32m    919\u001b[0m     \u001b[38;5;28;01mreturn\u001b[39;00m \u001b[38;5;28mself\u001b[39m\u001b[38;5;241m.\u001b[39mfit(X, y, \u001b[38;5;241m*\u001b[39m\u001b[38;5;241m*\u001b[39mfit_params)\u001b[38;5;241m.\u001b[39mtransform(X)\n",
      "File \u001b[1;32mc:\\Users\\beene\\anaconda3\\envs\\torch\\lib\\site-packages\\sklearn\\preprocessing\\_data.py:839\u001b[0m, in \u001b[0;36mStandardScaler.fit\u001b[1;34m(self, X, y, sample_weight)\u001b[0m\n\u001b[0;32m    837\u001b[0m \u001b[38;5;66;03m# Reset internal state before fitting\u001b[39;00m\n\u001b[0;32m    838\u001b[0m \u001b[38;5;28mself\u001b[39m\u001b[38;5;241m.\u001b[39m_reset()\n\u001b[1;32m--> 839\u001b[0m \u001b[38;5;28;01mreturn\u001b[39;00m \u001b[38;5;28;43mself\u001b[39;49m\u001b[38;5;241;43m.\u001b[39;49m\u001b[43mpartial_fit\u001b[49m\u001b[43m(\u001b[49m\u001b[43mX\u001b[49m\u001b[43m,\u001b[49m\u001b[43m \u001b[49m\u001b[43my\u001b[49m\u001b[43m,\u001b[49m\u001b[43m \u001b[49m\u001b[43msample_weight\u001b[49m\u001b[43m)\u001b[49m\n",
      "File \u001b[1;32mc:\\Users\\beene\\anaconda3\\envs\\torch\\lib\\site-packages\\sklearn\\base.py:1152\u001b[0m, in \u001b[0;36m_fit_context.<locals>.decorator.<locals>.wrapper\u001b[1;34m(estimator, *args, **kwargs)\u001b[0m\n\u001b[0;32m   1145\u001b[0m     estimator\u001b[38;5;241m.\u001b[39m_validate_params()\n\u001b[0;32m   1147\u001b[0m \u001b[38;5;28;01mwith\u001b[39;00m config_context(\n\u001b[0;32m   1148\u001b[0m     skip_parameter_validation\u001b[38;5;241m=\u001b[39m(\n\u001b[0;32m   1149\u001b[0m         prefer_skip_nested_validation \u001b[38;5;129;01mor\u001b[39;00m global_skip_validation\n\u001b[0;32m   1150\u001b[0m     )\n\u001b[0;32m   1151\u001b[0m ):\n\u001b[1;32m-> 1152\u001b[0m     \u001b[38;5;28;01mreturn\u001b[39;00m fit_method(estimator, \u001b[38;5;241m*\u001b[39margs, \u001b[38;5;241m*\u001b[39m\u001b[38;5;241m*\u001b[39mkwargs)\n",
      "File \u001b[1;32mc:\\Users\\beene\\anaconda3\\envs\\torch\\lib\\site-packages\\sklearn\\preprocessing\\_data.py:875\u001b[0m, in \u001b[0;36mStandardScaler.partial_fit\u001b[1;34m(self, X, y, sample_weight)\u001b[0m\n\u001b[0;32m    843\u001b[0m \u001b[38;5;250m\u001b[39m\u001b[38;5;124;03m\"\"\"Online computation of mean and std on X for later scaling.\u001b[39;00m\n\u001b[0;32m    844\u001b[0m \n\u001b[0;32m    845\u001b[0m \u001b[38;5;124;03mAll of X is processed as a single batch. This is intended for cases\u001b[39;00m\n\u001b[1;32m   (...)\u001b[0m\n\u001b[0;32m    872\u001b[0m \u001b[38;5;124;03m    Fitted scaler.\u001b[39;00m\n\u001b[0;32m    873\u001b[0m \u001b[38;5;124;03m\"\"\"\u001b[39;00m\n\u001b[0;32m    874\u001b[0m first_call \u001b[38;5;241m=\u001b[39m \u001b[38;5;129;01mnot\u001b[39;00m \u001b[38;5;28mhasattr\u001b[39m(\u001b[38;5;28mself\u001b[39m, \u001b[38;5;124m\"\u001b[39m\u001b[38;5;124mn_samples_seen_\u001b[39m\u001b[38;5;124m\"\u001b[39m)\n\u001b[1;32m--> 875\u001b[0m X \u001b[38;5;241m=\u001b[39m \u001b[38;5;28;43mself\u001b[39;49m\u001b[38;5;241;43m.\u001b[39;49m\u001b[43m_validate_data\u001b[49m\u001b[43m(\u001b[49m\n\u001b[0;32m    876\u001b[0m \u001b[43m    \u001b[49m\u001b[43mX\u001b[49m\u001b[43m,\u001b[49m\n\u001b[0;32m    877\u001b[0m \u001b[43m    \u001b[49m\u001b[43maccept_sparse\u001b[49m\u001b[38;5;241;43m=\u001b[39;49m\u001b[43m(\u001b[49m\u001b[38;5;124;43m\"\u001b[39;49m\u001b[38;5;124;43mcsr\u001b[39;49m\u001b[38;5;124;43m\"\u001b[39;49m\u001b[43m,\u001b[49m\u001b[43m \u001b[49m\u001b[38;5;124;43m\"\u001b[39;49m\u001b[38;5;124;43mcsc\u001b[39;49m\u001b[38;5;124;43m\"\u001b[39;49m\u001b[43m)\u001b[49m\u001b[43m,\u001b[49m\n\u001b[0;32m    878\u001b[0m \u001b[43m    \u001b[49m\u001b[43mdtype\u001b[49m\u001b[38;5;241;43m=\u001b[39;49m\u001b[43mFLOAT_DTYPES\u001b[49m\u001b[43m,\u001b[49m\n\u001b[0;32m    879\u001b[0m \u001b[43m    \u001b[49m\u001b[43mforce_all_finite\u001b[49m\u001b[38;5;241;43m=\u001b[39;49m\u001b[38;5;124;43m\"\u001b[39;49m\u001b[38;5;124;43mallow-nan\u001b[39;49m\u001b[38;5;124;43m\"\u001b[39;49m\u001b[43m,\u001b[49m\n\u001b[0;32m    880\u001b[0m \u001b[43m    \u001b[49m\u001b[43mreset\u001b[49m\u001b[38;5;241;43m=\u001b[39;49m\u001b[43mfirst_call\u001b[49m\u001b[43m,\u001b[49m\n\u001b[0;32m    881\u001b[0m \u001b[43m\u001b[49m\u001b[43m)\u001b[49m\n\u001b[0;32m    882\u001b[0m n_features \u001b[38;5;241m=\u001b[39m X\u001b[38;5;241m.\u001b[39mshape[\u001b[38;5;241m1\u001b[39m]\n\u001b[0;32m    884\u001b[0m \u001b[38;5;28;01mif\u001b[39;00m sample_weight \u001b[38;5;129;01mis\u001b[39;00m \u001b[38;5;129;01mnot\u001b[39;00m \u001b[38;5;28;01mNone\u001b[39;00m:\n",
      "File \u001b[1;32mc:\\Users\\beene\\anaconda3\\envs\\torch\\lib\\site-packages\\sklearn\\base.py:605\u001b[0m, in \u001b[0;36mBaseEstimator._validate_data\u001b[1;34m(self, X, y, reset, validate_separately, cast_to_ndarray, **check_params)\u001b[0m\n\u001b[0;32m    603\u001b[0m         out \u001b[38;5;241m=\u001b[39m X, y\n\u001b[0;32m    604\u001b[0m \u001b[38;5;28;01melif\u001b[39;00m \u001b[38;5;129;01mnot\u001b[39;00m no_val_X \u001b[38;5;129;01mand\u001b[39;00m no_val_y:\n\u001b[1;32m--> 605\u001b[0m     out \u001b[38;5;241m=\u001b[39m check_array(X, input_name\u001b[38;5;241m=\u001b[39m\u001b[38;5;124m\"\u001b[39m\u001b[38;5;124mX\u001b[39m\u001b[38;5;124m\"\u001b[39m, \u001b[38;5;241m*\u001b[39m\u001b[38;5;241m*\u001b[39mcheck_params)\n\u001b[0;32m    606\u001b[0m \u001b[38;5;28;01melif\u001b[39;00m no_val_X \u001b[38;5;129;01mand\u001b[39;00m \u001b[38;5;129;01mnot\u001b[39;00m no_val_y:\n\u001b[0;32m    607\u001b[0m     out \u001b[38;5;241m=\u001b[39m _check_y(y, \u001b[38;5;241m*\u001b[39m\u001b[38;5;241m*\u001b[39mcheck_params)\n",
      "File \u001b[1;32mc:\\Users\\beene\\anaconda3\\envs\\torch\\lib\\site-packages\\sklearn\\utils\\validation.py:951\u001b[0m, in \u001b[0;36mcheck_array\u001b[1;34m(array, accept_sparse, accept_large_sparse, dtype, order, copy, force_all_finite, ensure_2d, allow_nd, ensure_min_samples, ensure_min_features, estimator, input_name)\u001b[0m\n\u001b[0;32m    946\u001b[0m     \u001b[38;5;28;01mraise\u001b[39;00m \u001b[38;5;167;01mValueError\u001b[39;00m(\n\u001b[0;32m    947\u001b[0m         \u001b[38;5;124m\"\u001b[39m\u001b[38;5;124mdtype=\u001b[39m\u001b[38;5;124m'\u001b[39m\u001b[38;5;124mnumeric\u001b[39m\u001b[38;5;124m'\u001b[39m\u001b[38;5;124m is not compatible with arrays of bytes/strings.\u001b[39m\u001b[38;5;124m\"\u001b[39m\n\u001b[0;32m    948\u001b[0m         \u001b[38;5;124m\"\u001b[39m\u001b[38;5;124mConvert your data to numeric values explicitly instead.\u001b[39m\u001b[38;5;124m\"\u001b[39m\n\u001b[0;32m    949\u001b[0m     )\n\u001b[0;32m    950\u001b[0m \u001b[38;5;28;01mif\u001b[39;00m \u001b[38;5;129;01mnot\u001b[39;00m allow_nd \u001b[38;5;129;01mand\u001b[39;00m array\u001b[38;5;241m.\u001b[39mndim \u001b[38;5;241m>\u001b[39m\u001b[38;5;241m=\u001b[39m \u001b[38;5;241m3\u001b[39m:\n\u001b[1;32m--> 951\u001b[0m     \u001b[38;5;28;01mraise\u001b[39;00m \u001b[38;5;167;01mValueError\u001b[39;00m(\n\u001b[0;32m    952\u001b[0m         \u001b[38;5;124m\"\u001b[39m\u001b[38;5;124mFound array with dim \u001b[39m\u001b[38;5;132;01m%d\u001b[39;00m\u001b[38;5;124m. \u001b[39m\u001b[38;5;132;01m%s\u001b[39;00m\u001b[38;5;124m expected <= 2.\u001b[39m\u001b[38;5;124m\"\u001b[39m\n\u001b[0;32m    953\u001b[0m         \u001b[38;5;241m%\u001b[39m (array\u001b[38;5;241m.\u001b[39mndim, estimator_name)\n\u001b[0;32m    954\u001b[0m     )\n\u001b[0;32m    956\u001b[0m \u001b[38;5;28;01mif\u001b[39;00m force_all_finite:\n\u001b[0;32m    957\u001b[0m     _assert_all_finite(\n\u001b[0;32m    958\u001b[0m         array,\n\u001b[0;32m    959\u001b[0m         input_name\u001b[38;5;241m=\u001b[39minput_name,\n\u001b[0;32m    960\u001b[0m         estimator_name\u001b[38;5;241m=\u001b[39mestimator_name,\n\u001b[0;32m    961\u001b[0m         allow_nan\u001b[38;5;241m=\u001b[39mforce_all_finite \u001b[38;5;241m==\u001b[39m \u001b[38;5;124m\"\u001b[39m\u001b[38;5;124mallow-nan\u001b[39m\u001b[38;5;124m\"\u001b[39m,\n\u001b[0;32m    962\u001b[0m     )\n",
      "\u001b[1;31mValueError\u001b[0m: Found array with dim 3. StandardScaler expected <= 2."
     ]
    }
   ],
   "source": [
    "def train_tf(X_train, X_test, y_train, y_test):\n",
    "    svc = SVC(random_state = 10, kernel = 'rbf', C = 10, degree= 3, gamma = 1, max_iter= -1, probability= True)\n",
    "    svc_score = cross_val_score(svc, X_train, y_train, cv=5)\n",
    "    svc.fit(X_train, y_train)\n",
    "    print(f'SVC score: {svc_score}, {np.mean(svc_score)}'\n",
    "          f'\\npredict score: {accuracy_score(y_test, svc.predict(X_test))}'\n",
    "          f'\\nlabel: {np.unique(svc.predict(X_test))}'\n",
    "          f'\\nprobabilities: {svc.predict_proba(X_test)[:10]}')\n",
    "\n",
    "    rf = RandomForestClassifier(random_state = 10, n_estimators= 10, max_depth = 5, max_features= 'log2')\n",
    "    rf_score = cross_val_score(rf, X_train, y_train, cv=5)\n",
    "    rf.fit(X_train, y_train)\n",
    "    print(f'random forest score: {rf_score}, {np.mean(rf_score)}'\n",
    "          f'\\npredict score: {accuracy_score(y_test, rf.predict(X_test))}')\n",
    "\n",
    "    sgdc = SGDClassifier(random_state = 10, loss = 'hinge', penalty= 'l2', alpha= 0.0001)\n",
    "    sgdc_score = cross_val_score(sgdc, X_train, y_train, cv=5)\n",
    "    sgdc.fit(X_train, y_train)\n",
    "    print(f'SGD Classifier score: {sgdc_score}, {np.mean(sgdc_score)}'\n",
    "          f'\\npredict score: {accuracy_score(y_test, sgdc.predict(X_test))}')\n",
    "\n",
    "    knn = KNeighborsClassifier(n_neighbors = 5, leaf_size= 30)\n",
    "    knn_score = cross_val_score(knn, X_train, y_train, cv=5)\n",
    "    knn.fit(X_train, y_train)\n",
    "    print(f'KNN Classifier score: {knn_score}, {np.mean(knn_score)}'\n",
    "          f'\\npredict score: {accuracy_score(y_test, knn.predict(X_test))}')          \n",
    "\n",
    "\n",
    "\"\"\"for chx in range(len(target_ch)):\n",
    "      print(f'-------------------------{raw.ch_names[target_ch[chx]]}------------------------')\n",
    "      train_tf(*split_tf(tf3, tf5, tf7, chx))\"\"\"\n",
    "train_tf(*split_tf(tf3, tf5, tf7))\n",
    "#train_tf(*split_tf(tf3, tf5, tf7))"
   ]
  },
  {
   "cell_type": "code",
   "execution_count": 23,
   "metadata": {},
   "outputs": [
    {
     "name": "stdout",
     "output_type": "stream",
     "text": [
      "Best SVC Accuracy: 0.34\n",
      "Best Hyperparameters: {'C': 0.1, 'gamma': 0.1, 'kernel': 'rbf'}\n"
     ]
    }
   ],
   "source": [
    "X_train, X_test, y_train, y_test = split_tf(tf3.reshape(tf3.shape[0], -1), tf5.reshape(tf5.shape[0], -1), tf7.reshape(tf7.shape[0], -1))\n",
    "\n",
    "svc = SVC(random_state = 10)\n",
    "params = {\n",
    "    'C': [0.1, 1, 5, 10],\n",
    "    'kernel': ['rbf'],\n",
    "    'gamma': [0.1, 1, 5, 10]\n",
    "}\n",
    "rm_search = GridSearchCV(\n",
    "    estimator = svc, \n",
    "    param_grid = params\n",
    ")\n",
    "rm_search.fit(X_train, y_train)\n",
    "best_params = rm_search.best_params_\n",
    "best_model = rm_search.best_estimator_\n",
    "\n",
    "y_pred_best = best_model.predict(X_test)\n",
    "accuracy_best = accuracy_score(y_test, y_pred_best)\n",
    "print(f\"Best SVC Accuracy: {accuracy_best:.2f}\")\n",
    "print(f\"Best Hyperparameters: {best_params}\")"
   ]
  },
  {
   "cell_type": "code",
   "execution_count": 2383,
   "metadata": {},
   "outputs": [
    {
     "name": "stderr",
     "output_type": "stream",
     "text": [
      "c:\\Users\\beene\\anaconda3\\envs\\torch\\lib\\site-packages\\sklearn\\metrics\\_classification.py:1471: UndefinedMetricWarning: Precision and F-score are ill-defined and being set to 0.0 in labels with no predicted samples. Use `zero_division` parameter to control this behavior.\n",
      "  _warn_prf(average, modifier, msg_start, len(result))\n"
     ]
    },
    {
     "ename": "TypeError",
     "evalue": "unsupported format string passed to numpy.ndarray.__format__",
     "output_type": "error",
     "traceback": [
      "\u001b[1;31m---------------------------------------------------------------------------\u001b[0m",
      "\u001b[1;31mTypeError\u001b[0m                                 Traceback (most recent call last)",
      "Cell \u001b[1;32mIn[2383], line 3\u001b[0m\n\u001b[0;32m      1\u001b[0m y_pred_best \u001b[38;5;241m=\u001b[39m best_model\u001b[38;5;241m.\u001b[39mpredict(X_test)\n\u001b[0;32m      2\u001b[0m prec, recall, f1, _ \u001b[38;5;241m=\u001b[39m precision_recall_fscore_support(y_test, y_pred_best, labels \u001b[38;5;241m=\u001b[39m[\u001b[38;5;241m0\u001b[39m, \u001b[38;5;241m1\u001b[39m, \u001b[38;5;241m2\u001b[39m] ,average \u001b[38;5;241m=\u001b[39m \u001b[38;5;28;01mNone\u001b[39;00m)\n\u001b[1;32m----> 3\u001b[0m \u001b[38;5;28mprint\u001b[39m(\u001b[38;5;124mf\u001b[39m\u001b[38;5;124m\"\u001b[39m\u001b[38;5;124mBest SVC prec: \u001b[39m\u001b[38;5;132;01m{\u001b[39;00mprec\u001b[38;5;132;01m:\u001b[39;00m\u001b[38;5;124m.2f\u001b[39m\u001b[38;5;132;01m}\u001b[39;00m\u001b[38;5;130;01m\\n\u001b[39;00m\u001b[38;5;124m\"\u001b[39m\n\u001b[0;32m      4\u001b[0m       \u001b[38;5;124mf\u001b[39m\u001b[38;5;124m\"\u001b[39m\u001b[38;5;124mBest SVC recall: \u001b[39m\u001b[38;5;132;01m{\u001b[39;00mrecall\u001b[38;5;132;01m:\u001b[39;00m\u001b[38;5;124m.2f\u001b[39m\u001b[38;5;132;01m}\u001b[39;00m\u001b[38;5;130;01m\\n\u001b[39;00m\u001b[38;5;124m\"\u001b[39m\n\u001b[0;32m      5\u001b[0m       \u001b[38;5;124mf\u001b[39m\u001b[38;5;124m\"\u001b[39m\u001b[38;5;124mBest SVC f1: \u001b[39m\u001b[38;5;132;01m{\u001b[39;00mf1\u001b[38;5;132;01m:\u001b[39;00m\u001b[38;5;124m.2f\u001b[39m\u001b[38;5;132;01m}\u001b[39;00m\u001b[38;5;130;01m\\n\u001b[39;00m\u001b[38;5;124m\"\u001b[39m)\n",
      "\u001b[1;31mTypeError\u001b[0m: unsupported format string passed to numpy.ndarray.__format__"
     ]
    }
   ],
   "source": [
    "y_pred_best = best_model.predict(X_test)\n",
    "prec, recall, f1, _ = precision_recall_fscore_support(y_test, y_pred_best, labels =[0, 1, 2] ,average = None)\n",
    "print(f\"Best SVC prec: {prec:.2f}\\n\"\n",
    "      f\"Best SVC recall: {recall:.2f}\\n\"\n",
    "      f\"Best SVC f1: {f1:.2f}\\n\")"
   ]
  },
  {
   "cell_type": "code",
   "execution_count": 2371,
   "metadata": {},
   "outputs": [
    {
     "name": "stderr",
     "output_type": "stream",
     "text": [
      "c:\\Users\\beene\\anaconda3\\envs\\torch\\lib\\site-packages\\sklearn\\ensemble\\_forest.py:578: UserWarning: Some inputs do not have OOB scores. This probably means too few trees were used to compute any reliable OOB estimates.\n",
      "  warn(\n",
      "c:\\Users\\beene\\anaconda3\\envs\\torch\\lib\\site-packages\\sklearn\\ensemble\\_forest.py:578: UserWarning: Some inputs do not have OOB scores. This probably means too few trees were used to compute any reliable OOB estimates.\n",
      "  warn(\n",
      "c:\\Users\\beene\\anaconda3\\envs\\torch\\lib\\site-packages\\sklearn\\ensemble\\_forest.py:578: UserWarning: Some inputs do not have OOB scores. This probably means too few trees were used to compute any reliable OOB estimates.\n",
      "  warn(\n",
      "c:\\Users\\beene\\anaconda3\\envs\\torch\\lib\\site-packages\\sklearn\\ensemble\\_forest.py:578: UserWarning: Some inputs do not have OOB scores. This probably means too few trees were used to compute any reliable OOB estimates.\n",
      "  warn(\n",
      "c:\\Users\\beene\\anaconda3\\envs\\torch\\lib\\site-packages\\sklearn\\ensemble\\_forest.py:578: UserWarning: Some inputs do not have OOB scores. This probably means too few trees were used to compute any reliable OOB estimates.\n",
      "  warn(\n",
      "c:\\Users\\beene\\anaconda3\\envs\\torch\\lib\\site-packages\\sklearn\\ensemble\\_forest.py:578: UserWarning: Some inputs do not have OOB scores. This probably means too few trees were used to compute any reliable OOB estimates.\n",
      "  warn(\n",
      "c:\\Users\\beene\\anaconda3\\envs\\torch\\lib\\site-packages\\sklearn\\ensemble\\_forest.py:578: UserWarning: Some inputs do not have OOB scores. This probably means too few trees were used to compute any reliable OOB estimates.\n",
      "  warn(\n",
      "c:\\Users\\beene\\anaconda3\\envs\\torch\\lib\\site-packages\\sklearn\\ensemble\\_forest.py:578: UserWarning: Some inputs do not have OOB scores. This probably means too few trees were used to compute any reliable OOB estimates.\n",
      "  warn(\n",
      "c:\\Users\\beene\\anaconda3\\envs\\torch\\lib\\site-packages\\sklearn\\ensemble\\_forest.py:578: UserWarning: Some inputs do not have OOB scores. This probably means too few trees were used to compute any reliable OOB estimates.\n",
      "  warn(\n",
      "c:\\Users\\beene\\anaconda3\\envs\\torch\\lib\\site-packages\\sklearn\\ensemble\\_forest.py:578: UserWarning: Some inputs do not have OOB scores. This probably means too few trees were used to compute any reliable OOB estimates.\n",
      "  warn(\n"
     ]
    },
    {
     "name": "stdout",
     "output_type": "stream",
     "text": [
      "Best SVC Accuracy: 0.34\n",
      "Best Hyperparameters: {'oob_score': True, 'n_estimators': 100, 'max_features': 'log2', 'max_depth': 100, 'criterion': 'entropy'}\n"
     ]
    }
   ],
   "source": [
    "rf = RandomForestClassifier()\n",
    "params2 = {\n",
    "    'n_estimators': [10, 30, 70, 100],\n",
    "    'criterion': ['gini', 'entropy', 'log_loss'],\n",
    "    'max_depth': [2, 10, 30, 50, 100],\n",
    "    'max_features': ['sqrt', 'log2'],\n",
    "    'oob_score': [True]\n",
    "}\n",
    "rm_search2 = RandomizedSearchCV(\n",
    "    estimator = rf, \n",
    "    param_distributions = params2,\n",
    "    random_state = 10\n",
    ")\n",
    "rm_search2.fit(X_train, y_train)\n",
    "best_params2 = rm_search2.best_params_\n",
    "best_model2 = rm_search2.best_estimator_\n",
    "\n",
    "y_pred_best = best_model2.predict(X_test)\n",
    "accuracy_best = accuracy_score(y_test, y_pred_best)\n",
    "print(f\"Best SVC Accuracy: {accuracy_best:.2f}\")\n",
    "print(f\"Best Hyperparameters: {best_params2}\")"
   ]
  },
  {
   "cell_type": "markdown",
   "metadata": {},
   "source": [
    "### Power Spectrum"
   ]
  },
  {
   "cell_type": "code",
   "execution_count": 2537,
   "metadata": {},
   "outputs": [
    {
     "data": {
      "text/plain": [
       "'psd3 = psd3[:, target_ch[0], :20]\\npsd5 = psd5[:, target_ch[0], :20]\\npsd7 = psd7[:, target_ch[0], :20]'"
      ]
     },
     "execution_count": 2537,
     "metadata": {},
     "output_type": "execute_result"
    }
   ],
   "source": [
    "# load psd\n",
    "psdpath = 'C:/Users/beene/python/ml_term_export/psd/'\n",
    "#psdpath = 'C:/Users/beene/내 드라이브/Python/Machine learning term project/psd/'\n",
    "#psdpath = 'C:/Users/hyeok/내 드라이브/Python/Machine learning term project/psd/'\n",
    "psd3 = jnp.array(pickle.load(open(psdpath+'psd_0.pkl', 'rb')))\n",
    "psd5 = jnp.array(pickle.load(open(psdpath+'psd_1.pkl', 'rb')))\n",
    "psd7 = jnp.array(pickle.load(open(psdpath+'psd_2.pkl', 'rb')))\n",
    "\n",
    "\n",
    "\"\"\"psd3 = psd3[:, :, np.arange(8, 13.1, 1, dtype = int)].max(axis=2)[:, target_ch[1]]\n",
    "psd5 = psd5[:, :, np.arange(8, 13.1, 1, dtype = int)].max(axis=2)[:, target_ch[1]]\n",
    "psd7 = psd7[:, :, np.arange(8, 13.1, 1, dtype = int)].max(axis=2)[:, target_ch[1]]\"\"\"\n",
    "\n",
    "\"\"\"psd3 = psd3[:, target_ch[0], :20]\n",
    "psd5 = psd5[:, target_ch[0], :20]\n",
    "psd7 = psd7[:, target_ch[0], :20]\"\"\""
   ]
  },
  {
   "cell_type": "code",
   "execution_count": 2540,
   "metadata": {},
   "outputs": [
    {
     "data": {
      "text/plain": [
       "Text(0.5, 1.0, 'Oz')"
      ]
     },
     "execution_count": 2540,
     "metadata": {},
     "output_type": "execute_result"
    },
    {
     "data": {
      "image/png": "[encoded data removed]",
      "text/plain": [
       "<Figure size 640x480 with 1 Axes>"
      ]
     },
     "metadata": {},
     "output_type": "display_data"
    }
   ],
   "source": [
    "plt.plot(psd3.mean(0)[target_ch[0]]), plt.plot(psd5.mean(0)[target_ch[0]]), plt.plot(psd7.mean(0)[target_ch[0]])\n",
    "plt.xlim(0, 30)\n",
    "plt.legend(['Load 3', 'Load 5', 'Load 7'])\n",
    "plt.xlabel('Frequency (Hz)')\n",
    "plt.ylabel('Power ($V^2$/Hz)')\n",
    "plt.title('Oz')"
   ]
  },
  {
   "cell_type": "code",
   "execution_count": null,
   "metadata": {},
   "outputs": [],
   "source": [
    "for fig_i in range(psd3.shape[1]):\n",
    "    plt.figure(figsize=(5, 5))\n",
    "    plt.plot(psd3.mean(axis=0)[fig_i, :])\n",
    "    plt.plot(psd5.mean(axis=0)[fig_i, :])\n",
    "    plt.plot(psd7.mean(axis=0)[fig_i, :])\n",
    "    plt.title(raw.ch_names[fig_i])\n",
    "    plt.show()"
   ]
  },
  {
   "cell_type": "code",
   "execution_count": 2531,
   "metadata": {},
   "outputs": [],
   "source": [
    "# Train-test split\n",
    "all_data = jnp.concatenate((psd3[:, target_ch[1], :13], psd5[:, target_ch[1], :13], psd7[:, target_ch[1], :13]))\n",
    "all_label = jnp.array([0]*psd3.shape[0]+[1]*psd5.shape[0]+[2]*psd7.shape[0])\n",
    "all_data = StandardScaler().fit_transform(all_data) # Standardization\n",
    "#all_data = MinMaxScaler().fit_transform(all_data) # Standardization\n",
    "\n",
    "X_train, X_test, y_train, y_test = train_test_split(all_data, all_label, test_size = 0.2, random_state=10,\n",
    "                                                    stratify = all_label, shuffle = True)"
   ]
  },
  {
   "cell_type": "code",
   "execution_count": 2528,
   "metadata": {},
   "outputs": [
    {
     "data": {
      "text/plain": [
       "(1611, 13)"
      ]
     },
     "execution_count": 2528,
     "metadata": {},
     "output_type": "execute_result"
    }
   ],
   "source": [
    "all_data.shape"
   ]
  },
  {
   "cell_type": "code",
   "execution_count": 2532,
   "metadata": {},
   "outputs": [
    {
     "name": "stdout",
     "output_type": "stream",
     "text": [
      "SVC score: [0.40310078 0.31007752 0.33333333 0.32684825 0.37354086]\n",
      "predict score: 0.34365325077399383\n",
      "probability: [[0.33385435 0.32699702 0.33914862]\n",
      " [0.34501859 0.32654425 0.32843716]\n",
      " [0.34901795 0.33008991 0.32089214]\n",
      " [0.33081978 0.32970039 0.33947984]\n",
      " [0.36981745 0.33204874 0.29813382]\n",
      " [0.32258785 0.32125456 0.3561576 ]\n",
      " [0.32346326 0.33101544 0.3455213 ]\n",
      " [0.34362556 0.32627839 0.33009605]\n",
      " [0.34112551 0.30118238 0.35769211]\n",
      " [0.33036231 0.31867021 0.35096748]]\n",
      "random forest score: [0.35658915 0.34496124 0.34108527 0.28015564 0.42412451]\n",
      "predict score: 0.34055727554179566\n",
      "SGD Classifier score: [0.36046512 0.36821705 0.28682171 0.3229572  0.3463035 ]\n",
      "predict score: 0.3591331269349845\n"
     ]
    }
   ],
   "source": [
    "def train_psd(X_train, X_test, y_train, y_test):\n",
    "    svc = SVC(random_state = 10, kernel = 'rbf', C = 100, degree= 3, gamma = 1, max_iter= -1, probability=True)\n",
    "    svc_score = cross_val_score(svc, X_train, y_train, cv=5)\n",
    "    svc.fit(X_train, y_train)\n",
    "    print(f'SVC score: {svc_score}'\n",
    "          f'\\npredict score: {accuracy_score(y_test, svc.predict(X_test))}'\n",
    "          f'\\nprobability: {svc.predict_proba(X_test)[:10]}')\n",
    "\n",
    "    rf = RandomForestClassifier(random_state = 10, n_estimators= 10, max_depth = 5, max_features= 'log2')\n",
    "    rf_score = cross_val_score(rf, X_train, y_train, cv=5)\n",
    "    rf.fit(X_train, y_train)\n",
    "    print(f'random forest score: {rf_score}'\n",
    "          f'\\npredict score: {accuracy_score(y_test, rf.predict(X_test))}')\n",
    "\n",
    "    sgdc = SGDClassifier(random_state = 10, loss = 'hinge', penalty= 'l2', alpha= 0.0001)\n",
    "    sgdc_score = cross_val_score(sgdc, X_train, y_train, cv=5)\n",
    "    sgdc.fit(X_train, y_train)\n",
    "    print(f'SGD Classifier score: {sgdc_score}'\n",
    "          f'\\npredict score: {accuracy_score(y_test, sgdc.predict(X_test))}')\n",
    "\n",
    "train_psd(X_train, X_test, y_train, y_test)"
   ]
  },
  {
   "cell_type": "code",
   "execution_count": 2533,
   "metadata": {},
   "outputs": [
    {
     "data": {
      "text/plain": [
       "0.349380148"
      ]
     },
     "execution_count": 2533,
     "metadata": {},
     "output_type": "execute_result"
    }
   ],
   "source": [
    "np.mean([0.40310078, 0.31007752, 0.33333333, 0.32684825, 0.37354086])"
   ]
  },
  {
   "cell_type": "code",
   "execution_count": 54,
   "metadata": {},
   "outputs": [],
   "source": [
    "svc = SVC(random_state = 10)\n",
    "params = {\n",
    "    'C': [0.1, 1, 5, 10],\n",
    "    'kernel': ['linear', 'rbf', 'poly', 'sigmoid'],\n",
    "    'gamma': [0.1, 1, 5, 10, 'scale', 'auto']\n",
    "}\n",
    "rm_search = GridSearchCV(\n",
    "    estimator = svc, \n",
    "    param_grid = params,\n",
    ")\n",
    "rm_search.fit(X_train, y_train)\n",
    "best_params = rm_search.best_params_\n",
    "best_model = rm_search.best_estimator_\n",
    "\n",
    "y_pred_best = best_model.predict(X_test)\n",
    "accuracy_best = accuracy_score(y_test, y_pred_best)\n",
    "print(f\"Best SVC Accuracy: {accuracy_best:.2f}\")\n",
    "print(f\"Best Hyperparameters: {best_params}\")"
   ]
  },
  {
   "cell_type": "code",
   "execution_count": 47,
   "metadata": {},
   "outputs": [
    {
     "name": "stdout",
     "output_type": "stream",
     "text": [
      "161054096\n"
     ]
    },
    {
     "name": "stderr",
     "output_type": "stream",
     "text": [
      "161054096 <class 'numpy.ndarray'> array([6.2194...ype=complex64)\n"
     ]
    }
   ],
   "source": [
    "from __future__ import print_function\n",
    "from sys import getsizeof, stderr\n",
    "from itertools import chain\n",
    "from collections import deque\n",
    "try:\n",
    "    from reprlib import repr\n",
    "except ImportError:\n",
    "    pass\n",
    "\n",
    "def total_size(o, handlers={}, verbose=False):\n",
    "    \"\"\" Returns the approximate memory footprint an object and all of its contents.\n",
    "\n",
    "    Automatically finds the contents of the following builtin containers and\n",
    "    their subclasses:  tuple, list, deque, dict, set and frozenset.\n",
    "    To search other containers, add handlers to iterate over their contents:\n",
    "\n",
    "        handlers = {SomeContainerClass: iter,\n",
    "                    OtherContainerClass: OtherContainerClass.get_elements}\n",
    "\n",
    "    \"\"\"\n",
    "    dict_handler = lambda d: chain.from_iterable(d.items())\n",
    "    all_handlers = {tuple: iter,\n",
    "                    list: iter,\n",
    "                    deque: iter,\n",
    "                    dict: dict_handler,\n",
    "                    set: iter,\n",
    "                    frozenset: iter,\n",
    "                   }\n",
    "    all_handlers.update(handlers)     # user handlers take precedence\n",
    "    seen = set()                      # track which object id's have already been seen\n",
    "    default_size = getsizeof(0)       # estimate sizeof object without __sizeof__\n",
    "\n",
    "    def sizeof(o):\n",
    "        if id(o) in seen:       # do not double count the same object\n",
    "            return 0\n",
    "        seen.add(id(o))\n",
    "        s = getsizeof(o, default_size)\n",
    "\n",
    "        if verbose:\n",
    "            print(s, type(o), repr(o), file=stderr)\n",
    "\n",
    "        for typ, handler in all_handlers.items():\n",
    "            if isinstance(o, typ):\n",
    "                s += sum(map(sizeof, handler(o)))\n",
    "                break\n",
    "        return s\n",
    "\n",
    "    return sizeof(o)\n",
    "\n",
    "\n",
    "##### Example call #####\n",
    "\n",
    "if __name__ == '__main__':\n",
    "    d = dict(a=1, b=2, c=3, d=[4,5,6,7], e='a string of chars')\n",
    "    print(total_size(np.array(wl), verbose=True))"
   ]
  }
 ],
 "metadata": {
  "kernelspec": {
   "display_name": "torch",
   "language": "python",
   "name": "python3"
  },
  "language_info": {
   "codemirror_mode": {
    "name": "ipython",
    "version": 3
   },
   "file_extension": ".py",
   "mimetype": "text/x-python",
   "name": "python",
   "nbconvert_exporter": "python",
   "pygments_lexer": "ipython3",
   "version": "3.9.18"
  },
  "vscode": {
   "interpreter": {
    "hash": "618c4dd39cdacbafc4c47443f60d29a50040f53e148785a5b0833e2cc3f37cf8"
   }
  }
 },
 "nbformat": 4,
 "nbformat_minor": 2
}
