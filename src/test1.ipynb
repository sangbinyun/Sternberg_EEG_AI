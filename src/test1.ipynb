{
 "cells": [
  {
   "cell_type": "code",
   "execution_count": 68,
   "metadata": {},
   "outputs": [],
   "source": [
    "import os\n",
    "import re\n",
    "import numpy as np\n",
    "import mne\n",
    "from mne.io import read_raw_brainvision\n",
    "\n",
    "def get_rawdata_list(): # get the list of rawdata files with .vhdr extension\n",
    "    rawdata_dir = 'C:/Users/YSB/Desktop/Data/2022_sternberg_tACS/' # directory where the rawdata is stored\n",
    "    rawdata_list_total = os.listdir(rawdata_dir) # return all files in the directory without directory itself\n",
    "    rawdata_list = [os.path.join(rawdata_dir, i) for i in rawdata_list_total if re.search('[0-9].vhdr', i)] # return only files with .vhdr extension\n",
    "    \n",
    "    return rawdata_list\n",
    "\n",
    "def get_montage():\n",
    "    montage_dir = 'C:/Users/YSB/Desktop/Data/2022_sternberg_tACS/CMA-64_REF.bvef'\n",
    "    montage = mne.channels.read_custom_montage(montage_dir)\n",
    "    montage.rename_channels(dict(REF='FCz'))\n",
    "    return montage\n",
    "\n",
    "def basic_filtering(raw):\n",
    "    l_freq = 0.5 # low cut-off frequency\n",
    "    h_freq = None\n",
    "    iir_params = mne.filter.construct_iir_filter( \n",
    "        {'ftype': 'butter', 'order': 4},\n",
    "        l_freq, None, raw.info['sfreq'],\n",
    "        'highpass', return_copy=False, verbose=None\n",
    "    ) # IIR filter parameters\n",
    "    raw_filtered = raw.copy().filter(\n",
    "        l_freq=l_freq, h_freq = h_freq, method='iir', \n",
    "        iir_params=iir_params, verbose=None\n",
    "    ) # bandpass filtering\n",
    "    raw_filtered = raw_filtered.notch_filter(60) # notch filtering\n",
    "    \n",
    "    return raw_filtered"
   ]
  },
  {
   "cell_type": "code",
   "execution_count": 69,
   "metadata": {},
   "outputs": [
    {
     "name": "stdout",
     "output_type": "stream",
     "text": [
      "Extracting parameters from C:/Users/YSB/Desktop/Data/2022_sternberg_tACS/tACS_2022_April_SU0001_1.vhdr...\n",
      "Setting channel info structure...\n",
      "Reading 0 ... 276699  =      0.000 ...   553.398 secs...\n"
     ]
    },
    {
     "name": "stdout",
     "output_type": "stream",
     "text": [
      "\n",
      "IIR filter parameters\n",
      "---------------------\n",
      "Butterworth highpass zero-phase (two-pass forward and reverse) non-causal filter:\n",
      "- Filter order 8 (effective, after forward-backward)\n",
      "- Cutoff at 0.50 Hz: -6.02 dB\n",
      "\n",
      "Filtering raw data in 1 contiguous segment\n",
      "Setting up high-pass filter at 0.5 Hz\n",
      "\n"
     ]
    },
    {
     "name": "stderr",
     "output_type": "stream",
     "text": [
      "C:\\Users\\YSB\\AppData\\Local\\Temp\\ipykernel_21348\\2148696495.py:5: RuntimeWarning: Fiducial point nasion not found, assuming identity unknown to head transformation\n",
      "  raw.set_montage(montage)\n"
     ]
    },
    {
     "name": "stdout",
     "output_type": "stream",
     "text": [
      "Setting up band-stop filter from 59 - 61 Hz\n",
      "\n",
      "FIR filter parameters\n",
      "---------------------\n",
      "Designing a one-pass, zero-phase, non-causal bandstop filter:\n",
      "- Windowed time-domain design (firwin) method\n",
      "- Hamming window with 0.0194 passband ripple and 53 dB stopband attenuation\n",
      "- Lower passband edge: 59.35\n",
      "- Lower transition bandwidth: 0.50 Hz (-6 dB cutoff frequency: 59.10 Hz)\n",
      "- Upper passband edge: 60.65 Hz\n",
      "- Upper transition bandwidth: 0.50 Hz (-6 dB cutoff frequency: 60.90 Hz)\n",
      "- Filter length: 3301 samples (6.602 sec)\n",
      "\n"
     ]
    },
    {
     "name": "stderr",
     "output_type": "stream",
     "text": [
      "[Parallel(n_jobs=1)]: Using backend SequentialBackend with 1 concurrent workers.\n",
      "[Parallel(n_jobs=1)]: Done   1 out of   1 | elapsed:    0.0s remaining:    0.0s\n",
      "[Parallel(n_jobs=1)]: Done   2 out of   2 | elapsed:    0.0s remaining:    0.0s\n",
      "[Parallel(n_jobs=1)]: Done   3 out of   3 | elapsed:    0.0s remaining:    0.0s\n",
      "[Parallel(n_jobs=1)]: Done   4 out of   4 | elapsed:    0.0s remaining:    0.0s\n",
      "[Parallel(n_jobs=1)]: Done  63 out of  63 | elapsed:    0.9s finished\n"
     ]
    }
   ],
   "source": [
    "\n",
    "rawdata_list = get_rawdata_list()\n",
    "montage = get_montage()\n",
    "raw = read_raw_brainvision(rawdata_list[0], preload=True)\n",
    "raw.set_channel_types({'EOG':'eog'})\n",
    "raw.set_montage(montage)\n",
    "raw_filtered = basic_filtering(raw)"
   ]
  },
  {
   "cell_type": "code",
   "execution_count": 70,
   "metadata": {},
   "outputs": [
    {
     "name": "stdout",
     "output_type": "stream",
     "text": [
      "Using qt as 2D backend.\n"
     ]
    },
    {
     "data": {
      "text/plain": [
       "<mne_qt_browser._pg_figure.MNEQtBrowser at 0x28faf5040d0>"
      ]
     },
     "execution_count": 70,
     "metadata": {},
     "output_type": "execute_result"
    },
    {
     "name": "stdout",
     "output_type": "stream",
     "text": [
      "Channels marked as bad:\n",
      "['C5', 'Fp2']\n"
     ]
    }
   ],
   "source": [
    "raw.plot(n_channels=64, scalings={'eeg':100e-6})"
   ]
  },
  {
   "cell_type": "code",
   "execution_count": 12,
   "metadata": {},
   "outputs": [
    {
     "data": {
      "text/plain": [
       "array(['eeg'], dtype='<U3')"
      ]
     },
     "execution_count": 12,
     "metadata": {},
     "output_type": "execute_result"
    }
   ],
   "source": [
    "\n",
    "np.unique(raw.get_channel_types())"
   ]
  },
  {
   "cell_type": "code",
   "execution_count": 89,
   "metadata": {},
   "outputs": [
    {
     "data": {
      "text/plain": [
       "{'Fp1': 'GND',\n",
       " 'Fp2': 'REF',\n",
       " 'F7': 'Fp1',\n",
       " 'F3': 'Fz',\n",
       " 'Fz': 'F3',\n",
       " 'F4': 'F7',\n",
       " 'F8': 'FT9',\n",
       " 'FC5': 'FC5',\n",
       " 'FC1': 'FC1',\n",
       " 'FC2': 'C3',\n",
       " 'FC6': 'T7',\n",
       " 'T7': 'TP9',\n",
       " 'C3': 'CP5',\n",
       " 'Cz': 'CP1',\n",
       " 'C4': 'Pz',\n",
       " 'T8': 'P3',\n",
       " 'EOG': 'P7',\n",
       " 'CP5': 'O1',\n",
       " 'CP1': 'Oz',\n",
       " 'CP2': 'O2',\n",
       " 'CP6': 'P4',\n",
       " 'FCz': 'P8',\n",
       " 'P7': 'TP10',\n",
       " 'P3': 'CP6',\n",
       " 'Pz': 'CP2',\n",
       " 'P4': 'Cz',\n",
       " 'P8': 'C4',\n",
       " 'TP9': 'T8',\n",
       " 'O1': 'FT10',\n",
       " 'Oz': 'FC6',\n",
       " 'O2': 'FC2',\n",
       " 'TP10': 'F4',\n",
       " 'AF7': 'F8',\n",
       " 'AF3': 'Fp2',\n",
       " 'AF4': 'AF7',\n",
       " 'AF8': 'AF3',\n",
       " 'F5': 'AFz',\n",
       " 'F1': 'F1',\n",
       " 'F2': 'F5',\n",
       " 'F6': 'FT7',\n",
       " 'FT9': 'FC3',\n",
       " 'FT7': 'C1',\n",
       " 'FC3': 'C5',\n",
       " 'FC4': 'TP7',\n",
       " 'FT8': 'CP3',\n",
       " 'FT10': 'P1',\n",
       " 'C5': 'P5',\n",
       " 'C1': 'PO7',\n",
       " 'C2': 'PO3',\n",
       " 'C6': 'POz',\n",
       " 'TP7': 'PO4',\n",
       " 'CP3': 'PO8',\n",
       " 'CPz': 'P6',\n",
       " 'CP4': 'P2',\n",
       " 'TP8': 'CPz',\n",
       " 'P5': 'CP4',\n",
       " 'P1': 'TP8',\n",
       " 'P2': 'C6',\n",
       " 'P6': 'C2',\n",
       " 'PO7': 'FC4',\n",
       " 'PO3': 'FT8',\n",
       " 'POz': 'F6',\n",
       " 'PO4': 'AF8',\n",
       " 'PO8': 'AF4'}"
      ]
     },
     "execution_count": 89,
     "metadata": {},
     "output_type": "execute_result"
    }
   ],
   "source": [
    "dict(zip(raw.ch_names, montage.ch_names))"
   ]
  },
  {
   "cell_type": "code",
   "execution_count": null,
   "metadata": {},
   "outputs": [],
   "source": [
    "if __name__ =='__main__':\n",
    "    "
   ]
  }
 ],
 "metadata": {
  "kernelspec": {
   "display_name": "torch",
   "language": "python",
   "name": "python3"
  },
  "language_info": {
   "codemirror_mode": {
    "name": "ipython",
    "version": 3
   },
   "file_extension": ".py",
   "mimetype": "text/x-python",
   "name": "python",
   "nbconvert_exporter": "python",
   "pygments_lexer": "ipython3",
   "version": "3.9.16"
  }
 },
 "nbformat": 4,
 "nbformat_minor": 2
}
