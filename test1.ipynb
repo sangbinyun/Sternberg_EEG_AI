{
 "cells": [
  {
   "cell_type": "code",
   "execution_count": 71,
   "metadata": {},
   "outputs": [],
   "source": [
    "import os\n",
    "import re\n",
    "import mne\n",
    "from mne.io import read_raw_brainvision\n",
    "\n",
    "def get_rawdata_list():\n",
    "    rawdata_dir = 'C:/Users/YSB/Desktop/Data/2022_sternberg_tACS/' # directory where the rawdata is stored\n",
    "    rawdata_list_total = os.listdir(rawdata_dir) # return all files in the directory without directory itself\n",
    "    rawdata_list = [os.path.join(rawdata_dir, i) for i in rawdata_list_total if re.search('[0-9].vhdr', i)] # return only files with .vhdr extension\n",
    "    return rawdata_list\n",
    "\n",
    "def get_montage():\n",
    "    montage_dir = 'C:/Users/YSB/Desktop/Data/2022_sternberg_tACS/CMA-64_REF.bvef'\n",
    "    return mne.channels.read_custom_montage(montage_dir)"
   ]
  },
  {
   "cell_type": "code",
   "execution_count": 65,
   "metadata": {},
   "outputs": [
    {
     "name": "stdout",
     "output_type": "stream",
     "text": [
      "Extracting parameters from C:/Users/YSB/Desktop/Data/2022_sternberg_tACS/tACS_2022_April_SU0001_1.vhdr...\n",
      "Setting channel info structure...\n",
      "Reading 0 ... 276699  =      0.000 ...   553.398 secs...\n"
     ]
    }
   ],
   "source": [
    "\n",
    "rawdata_list = get_rawdata_list()\n",
    "montage = get_montage()\n",
    "raw = read_raw_brainvision(rawdata_list[0], preload=True)\n",
    "raw.set_montage(montage)\n",
    "raw.set_channel_types(dict(zip(raw.ch_names, montage.ch_names)), \n",
    "#raw.plot(n_channels=64, scalings={'eeg':100e-6})"
   ]
  },
  {
   "cell_type": "code",
   "execution_count": 89,
   "metadata": {},
   "outputs": [
    {
     "data": {
      "text/plain": [
       "{'Fp1': 'GND',\n",
       " 'Fp2': 'REF',\n",
       " 'F7': 'Fp1',\n",
       " 'F3': 'Fz',\n",
       " 'Fz': 'F3',\n",
       " 'F4': 'F7',\n",
       " 'F8': 'FT9',\n",
       " 'FC5': 'FC5',\n",
       " 'FC1': 'FC1',\n",
       " 'FC2': 'C3',\n",
       " 'FC6': 'T7',\n",
       " 'T7': 'TP9',\n",
       " 'C3': 'CP5',\n",
       " 'Cz': 'CP1',\n",
       " 'C4': 'Pz',\n",
       " 'T8': 'P3',\n",
       " 'EOG': 'P7',\n",
       " 'CP5': 'O1',\n",
       " 'CP1': 'Oz',\n",
       " 'CP2': 'O2',\n",
       " 'CP6': 'P4',\n",
       " 'FCz': 'P8',\n",
       " 'P7': 'TP10',\n",
       " 'P3': 'CP6',\n",
       " 'Pz': 'CP2',\n",
       " 'P4': 'Cz',\n",
       " 'P8': 'C4',\n",
       " 'TP9': 'T8',\n",
       " 'O1': 'FT10',\n",
       " 'Oz': 'FC6',\n",
       " 'O2': 'FC2',\n",
       " 'TP10': 'F4',\n",
       " 'AF7': 'F8',\n",
       " 'AF3': 'Fp2',\n",
       " 'AF4': 'AF7',\n",
       " 'AF8': 'AF3',\n",
       " 'F5': 'AFz',\n",
       " 'F1': 'F1',\n",
       " 'F2': 'F5',\n",
       " 'F6': 'FT7',\n",
       " 'FT9': 'FC3',\n",
       " 'FT7': 'C1',\n",
       " 'FC3': 'C5',\n",
       " 'FC4': 'TP7',\n",
       " 'FT8': 'CP3',\n",
       " 'FT10': 'P1',\n",
       " 'C5': 'P5',\n",
       " 'C1': 'PO7',\n",
       " 'C2': 'PO3',\n",
       " 'C6': 'POz',\n",
       " 'TP7': 'PO4',\n",
       " 'CP3': 'PO8',\n",
       " 'CPz': 'P6',\n",
       " 'CP4': 'P2',\n",
       " 'TP8': 'CPz',\n",
       " 'P5': 'CP4',\n",
       " 'P1': 'TP8',\n",
       " 'P2': 'C6',\n",
       " 'P6': 'C2',\n",
       " 'PO7': 'FC4',\n",
       " 'PO3': 'FT8',\n",
       " 'POz': 'F6',\n",
       " 'PO4': 'AF8',\n",
       " 'PO8': 'AF4'}"
      ]
     },
     "execution_count": 89,
     "metadata": {},
     "output_type": "execute_result"
    }
   ],
   "source": [
    "dict(zip(raw.ch_names, montage.ch_names))"
   ]
  },
  {
   "cell_type": "code",
   "execution_count": null,
   "metadata": {},
   "outputs": [],
   "source": [
    "if __name__ =='__main__':\n",
    "    "
   ]
  }
 ],
 "metadata": {
  "kernelspec": {
   "display_name": "torch",
   "language": "python",
   "name": "python3"
  },
  "language_info": {
   "codemirror_mode": {
    "name": "ipython",
    "version": 3
   },
   "file_extension": ".py",
   "mimetype": "text/x-python",
   "name": "python",
   "nbconvert_exporter": "python",
   "pygments_lexer": "ipython3",
   "version": "3.9.16"
  }
 },
 "nbformat": 4,
 "nbformat_minor": 2
}
